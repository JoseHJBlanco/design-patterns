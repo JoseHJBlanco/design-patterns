{
 "cells": [
  {
   "cell_type": "markdown",
   "metadata": {},
   "source": [
    "# Interpreter"
   ]
  },
  {
   "cell_type": "markdown",
   "metadata": {},
   "source": [
    "## O que é?\n",
    "\n",
    "O padrão _Interpreter_, prevê a criação de uma \"gramática\" intuitiva para operações comuns e bem definidades, asssim como um _interpreter_ para que consiga traduzir e executar tal \"gramática\"."
   ]
  },
  {
   "cell_type": "markdown",
   "metadata": {},
   "source": [
    "## Por quê?\n",
    "\n",
    "Muitas vezes necessário realizar grandes sequências de operações repetidas, o que pode tornar o código pouco legível ou cansativo de escrever.\n",
    "\n",
    "Exemplo:\n",
    "    Escrever `(1 + 2 / 3) ** 2 ` é muito mais fácil de ler e escrever do que `pow(sum(1, div(2, 3), 2)`\n",
    "    \n",
    "Isso também permite que especialistas que não necessariamente sabem programar possam interagir com o sistema e compor operações complexas (e.g.: SQL)."
   ]
  },
  {
   "cell_type": "markdown",
   "metadata": {},
   "source": [
    "## Uso:\n",
    "\n",
    "Este padrão é mais eficaz quando:\n",
    "- Há um número limitado de expressões para serem para evitar que gramática torne-se muito complexa.\n",
    "- Há um grupo de operações que são utilizadas muito frequentemente e devem ser compostas.\n",
    "- Não programadores precisam realizar operações complexas ad-hoc."
   ]
  },
  {
   "cell_type": "markdown",
   "metadata": {},
   "source": [
    "## Estrutura: \n",
    "\n",
    "![struct](https://upload.wikimedia.org/wikipedia/commons/2/21/Interpreter_design_pattern.png)"
   ]
  },
  {
   "cell_type": "markdown",
   "metadata": {},
   "source": [
    "## Exemplo:\n",
    "\n",
    "Um exemplo simples do uso do _Chain of Responsibility_ eh uma calculadora. Cada vez que voce usa uma calculadora voce envia uma requisição de um calculo, um objeto composto por dois numeros e uma operacao, esse calculo pode ser executado por diversos objetos (dependendo da operacao desejada)"
   ]
  },
  {
   "cell_type": "code",
   "execution_count": null,
   "metadata": {},
   "outputs": [],
   "source": [
    "1 + 2 ** 2 / 3"
   ]
  },
  {
   "cell_type": "code",
   "execution_count": 21,
   "metadata": {},
   "outputs": [],
   "source": [
    "import abc\n",
    "\n",
    "class Context:\n",
    "    \"\"\"\n",
    "    Holds information global information about the expression to be decoded.\n",
    "    \"\"\"\n",
    "    def __init__(self, variables):\n",
    "        self._variables = variables or {}\n",
    "        \n",
    "    def lookup_var(self, symbol):\n",
    "        return self._variables.get(symbol)\n",
    "\n",
    "\n",
    "class AbstractExpression(abc.ABC):\n",
    "    \"\"\"\n",
    "    Expressions that compose a language.\n",
    "    \"\"\"\n",
    "    \n",
    "    @abc.abstractmethod\n",
    "    def interpret(self, context):\n",
    "        return \n",
    "\n",
    "    \n",
    "class TerminalExpression(AbstractExpression):\n",
    "    \"\"\"\n",
    "    Expressions that doesn't depend on other expressions.\n",
    "    \"\"\"\n",
    "\n",
    "    def __init__(self, symbol):\n",
    "        self._symbol = symbol\n",
    "        \n",
    "    def __repr__(self):\n",
    "        return self._symbol\n",
    "       \n",
    "    \n",
    "class Literal(TerminalExpression):\n",
    "    \"\"\"\n",
    "    Literal value.\n",
    "    \"\"\"\n",
    "    def interpret(self, context):\n",
    "        return eval(self._symbol)\n",
    "    \n",
    "\n",
    "class Variable(TerminalExpression):\n",
    "    \"\"\"\n",
    "    Variable to be replaced.\n",
    "    \"\"\"\n",
    "    def interpret(self, context):\n",
    "        return context.lookup_var(self._symbol)\n",
    "    \n",
    "    \n",
    "class NonTerminalExpression(AbstractExpression):\n",
    "    \"\"\"\n",
    "    Expressions that cotain other expressions.\n",
    "    \"\"\"\n",
    "    def __init__(self, exp1, exp2):\n",
    "        self._exp1 = exp1\n",
    "        self._exp2 = exp2\n",
    "    \n",
    "    def __repr__(self):\n",
    "        if hasattr(self, \"_symbol\"):\n",
    "            return f\"{self._exp1} {self._symbol} {self._exp2}\"\n",
    "        else:\n",
    "            return f\"{self.__class__.__name__}({self._exp1}, {self._exp2})\"\n",
    "    \n",
    "    \n",
    "class Sum(NonTerminalExpression):\n",
    "    _symbol = \"+\"\n",
    "    \n",
    "    def interpret(self, context):\n",
    "        return self._exp1.interpret(context) + self._exp2.interpret(context)\n",
    "    \n",
    "\n",
    "class Diff(NonTerminalExpression):\n",
    "    _symbol = \"-\"\n",
    "    \n",
    "    def interpret(self, context):\n",
    "        return self._exp1.interpret(context) - self._exp2.interpret(context)\n",
    "    \n",
    "\n",
    "class Mult(NonTerminalExpression):\n",
    "    _symbol = \"*\"\n",
    "    \n",
    "    def interpret(self, context):\n",
    "        return self._exp1.interpret(context) * self._exp2.interpret(context)\n",
    "    \n",
    "    \n",
    "class Div(NonTerminalExpression):\n",
    "    _symbol = \"/\"\n",
    "    \n",
    "    def interpret(self, context):\n",
    "        return self._exp1.interpret(context) / self._exp2.interpret(context)\n",
    "    \n",
    "    \n",
    "class Pow(NonTerminalExpression):\n",
    "    _symbol = \"**\"\n",
    "        \n",
    "    def interpret(self, context):\n",
    "        return self._exp1.interpret(context) ** self._exp2.interpret(context)"
   ]
  },
  {
   "cell_type": "markdown",
   "metadata": {},
   "source": [
    "Vamos escrever a expressão que nós hadviamos mencionado anteriormente: `1 + x ** 4 / 3 * 4`, send `x = 5`"
   ]
  },
  {
   "cell_type": "code",
   "execution_count": 22,
   "metadata": {},
   "outputs": [
    {
     "data": {
      "text/plain": [
       "1 + x ** 4 / 3 * 4"
      ]
     },
     "execution_count": 22,
     "metadata": {},
     "output_type": "execute_result"
    }
   ],
   "source": [
    "ast = Sum(Literal(\"1\"), Mult(Div(Pow(Variable(\"x\"), Literal(\"4\")), Literal(\"3\")), Literal(\"4\")))\n",
    "ast"
   ]
  },
  {
   "cell_type": "markdown",
   "metadata": {},
   "source": [
    "Para `x = 5`..."
   ]
  },
  {
   "cell_type": "code",
   "execution_count": 23,
   "metadata": {},
   "outputs": [
    {
     "data": {
      "text/plain": [
       "834.3333333333334"
      ]
     },
     "execution_count": 23,
     "metadata": {},
     "output_type": "execute_result"
    }
   ],
   "source": [
    "ctx = Context({\"x\": 5})\n",
    "\n",
    "ast.interpret(ctx)"
   ]
  },
  {
   "cell_type": "markdown",
   "metadata": {},
   "source": [
    "Comparando com a resposta do Python..."
   ]
  },
  {
   "cell_type": "code",
   "execution_count": 25,
   "metadata": {},
   "outputs": [
    {
     "data": {
      "text/plain": [
       "834.3333333333334"
      ]
     },
     "execution_count": 25,
     "metadata": {},
     "output_type": "execute_result"
    }
   ],
   "source": [
    "x = 5\n",
    "\n",
    "1 + x ** 4 / 3 * 4"
   ]
  },
  {
   "cell_type": "markdown",
   "metadata": {},
   "source": [
    "Claro, foi um trabalho da maldito escrever isso a mão, mas com um bom _parser_ a AST tornaria o processo muito simples."
   ]
  },
  {
   "cell_type": "markdown",
   "metadata": {},
   "source": [
    "## Prós e contras:\n",
    "\n",
    "### Prós\n",
    "\n",
    "- Torna expressões complexas mais fáceis de escrever e mais legíveis. (e.g.: usar um compilador ao invés de escrever em assembly ou machine code).\n",
    "- Adicionar novas operações é simples, basta criar uma nova subclasse de `AbstractExpression`.\n",
    "- Como a gramática abstrai a implementação das expressões, mudanças na lógica de código tende a ser simples de implementar.\n",
    "\n",
    "\n",
    "### Contras\n",
    "\n",
    "- A implementação desse padrão pode ser bastante complexa.\n",
    "- A linguagem deve ser aprendida pelos usuários e mantida pelos desenvolvedores.\n"
   ]
  },
  {
   "cell_type": "markdown",
   "metadata": {},
   "source": [
    "## Discussao:\n",
    "\n",
    "As the note says in Known Uses, Interpreter is most often used \"in compilers implemented in object-oriented languages...\". What are other uses of Interpreter and how do they differ from simply reading in a stream of data and creating some structure to represent that data? \n",
    " "
   ]
  }
 ],
 "metadata": {
  "kernelspec": {
   "display_name": "design-patterns-py38",
   "language": "python",
   "name": "design-patterns-py38"
  },
  "language_info": {
   "codemirror_mode": {
    "name": "ipython",
    "version": 3
   },
   "file_extension": ".py",
   "mimetype": "text/x-python",
   "name": "python",
   "nbconvert_exporter": "python",
   "pygments_lexer": "ipython3",
   "version": "3.8.3"
  }
 },
 "nbformat": 4,
 "nbformat_minor": 2
}
