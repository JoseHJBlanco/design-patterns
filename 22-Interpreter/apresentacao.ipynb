{
 "cells": [
  {
   "cell_type": "markdown",
   "metadata": {},
   "source": [
    "# Interpreter"
   ]
  },
  {
   "cell_type": "markdown",
   "metadata": {},
   "source": [
    "## O que é?\n",
    "\n",
    "O padrão _Interpreter_, prevê a criação de uma \"gramática\" intuitiva para operações comuns e bem definidades, asssim como um _interpreter_ para que consiga traduzir e executar tal \"gramática\"."
   ]
  },
  {
   "cell_type": "markdown",
   "metadata": {},
   "source": [
    "## Por quê?\n",
    "\n",
    "Muitas vezes necessário realizar grandes sequências de operações repetidas, o que pode tornar o código pouco legível ou cansativo de escrever.\n",
    "\n",
    "Exemplo:\n",
    "    Escrever `(1 + 2 /3) ** 2 ` é muito mais fácil de ler e escrever "
   ]
  },
  {
   "cell_type": "markdown",
   "metadata": {},
   "source": [
    "## Uso:\n",
    "\n",
    "Voce deve usar o _Flyweight_ quando:\n",
    "- A aplicacao usa um numero muito grande de objetos \n",
    "- Os custos de armazenamento estao altos devido ao grande numero de objetos\n",
    "- A maioria dos objetos pode ser _extrinsic_\n",
    "- Grandes grupos de objetos pode ser substituidos por um numero pequeno de objtos compartilhados (depois da remocao do _extrinsic state_ (o estado que varia por objeto))\n",
    "- A aplicacao nao depende de identidade de objetos (com esse pattern objetos distintos seriam considerados iguais)"
   ]
  },
  {
   "cell_type": "markdown",
   "metadata": {},
   "source": [
    "## Estrutura: \n",
    "\n",
    "![struct](https://upload.wikimedia.org/wikipedia/commons/4/4e/W3sDesign_Flyweight_Design_Pattern_UML.jpg)"
   ]
  },
  {
   "attachments": {},
   "cell_type": "markdown",
   "metadata": {},
   "source": [
    "## Exemplo:\n",
    "\n",
    "Um exemplo simples do uso do _Chain of Responsibility_ eh uma calculadora. Cada vez que voce usa uma calculadora voce envia uma requisição de um calculo, um objeto composto por dois numeros e uma operacao, esse calculo pode ser executado por diversos objetos (dependendo da operacao desejada)"
   ]
  },
  {
   "cell_type": "code",
   "execution_count": 1,
   "metadata": {
    "tags": []
   },
   "outputs": [
    {
     "name": "stdout",
     "output_type": "stream",
     "text": [
      "FlyweightFactory: I have 5 flyweights:\n",
      "Camaro2018_Chevrolet_pink\n",
      "C300_Mercedes Benz_black\n",
      "C500_Mercedes Benz_red\n",
      "BMW_M5_red\n",
      "BMW_X6_white\n",
      "\n",
      "Client: Adding a car to database.\n",
      "FlyweightFactory: Reusing existing flyweight.\n",
      "Flyweight: Displaying shared ([\"BMW\", \"M5\", \"red\"]) and unique ([\"CL234IR\", \"James Doe\"]) state.\n",
      "\n",
      "Client: Adding a car to database.\n",
      "FlyweightFactory: Can't find a flyweight, creating new one.\n",
      "Flyweight: Displaying shared ([\"BMW\", \"X1\", \"red\"]) and unique ([\"CL234IR\", \"James Doe\"]) state.\n",
      "\n",
      "FlyweightFactory: I have 6 flyweights:\n",
      "Camaro2018_Chevrolet_pink\n",
      "C300_Mercedes Benz_black\n",
      "C500_Mercedes Benz_red\n",
      "BMW_M5_red\n",
      "BMW_X6_white\n",
      "BMW_X1_red"
     ]
    }
   ],
   "source": [
    "import json\n",
    "from typing import Dict\n",
    "\n",
    "\n",
    "class Flyweight():\n",
    "    \"\"\"\n",
    "    The Flyweight stores a common portion of the state (also called intrinsic\n",
    "    state) that belongs to multiple real business entities. The Flyweight\n",
    "    accepts the rest of the state (extrinsic state, unique for each entity) via\n",
    "    its method parameters.\n",
    "    \"\"\"\n",
    "\n",
    "    def __init__(self, shared_state: str) -> None:\n",
    "        self._shared_state = shared_state\n",
    "\n",
    "    def operation(self, unique_state: str) -> None:\n",
    "        s = json.dumps(self._shared_state)\n",
    "        u = json.dumps(unique_state)\n",
    "        print(f\"Flyweight: Displaying shared ({s}) and unique ({u}) state.\", end=\"\")\n",
    "\n",
    "\n",
    "class FlyweightFactory():\n",
    "    \"\"\"\n",
    "    The Flyweight Factory creates and manages the Flyweight objects. It ensures\n",
    "    that flyweights are shared correctly. When the client requests a flyweight,\n",
    "    the factory either returns an existing instance or creates a new one, if it\n",
    "    doesn't exist yet.\n",
    "    \"\"\"\n",
    "\n",
    "    _flyweights: Dict[str, Flyweight] = {}\n",
    "\n",
    "    def __init__(self, initial_flyweights: Dict) -> None:\n",
    "        for state in initial_flyweights:\n",
    "            self._flyweights[self.get_key(state)] = Flyweight(state)\n",
    "\n",
    "    def get_key(self, state: Dict) -> str:\n",
    "        \"\"\"\n",
    "        Returns a Flyweight's string hash for a given state.\n",
    "        \"\"\"\n",
    "\n",
    "        return \"_\".join(sorted(state))\n",
    "\n",
    "    def get_flyweight(self, shared_state: Dict) -> Flyweight:\n",
    "        \"\"\"\n",
    "        Returns an existing Flyweight with a given state or creates a new one.\n",
    "        \"\"\"\n",
    "\n",
    "        key = self.get_key(shared_state)\n",
    "\n",
    "        if not self._flyweights.get(key):\n",
    "            print(\"FlyweightFactory: Can't find a flyweight, creating new one.\")\n",
    "            self._flyweights[key] = Flyweight(shared_state)\n",
    "        else:\n",
    "            print(\"FlyweightFactory: Reusing existing flyweight.\")\n",
    "\n",
    "        return self._flyweights[key]\n",
    "\n",
    "    def list_flyweights(self) -> None:\n",
    "        count = len(self._flyweights)\n",
    "        print(f\"FlyweightFactory: I have {count} flyweights:\")\n",
    "        print(\"\\n\".join(map(str, self._flyweights.keys())), end=\"\")\n",
    "\n",
    "\n",
    "def add_car_to_police_database(\n",
    "    factory: FlyweightFactory, plates: str, owner: str,\n",
    "    brand: str, model: str, color: str\n",
    ") -> None:\n",
    "    print(\"\\n\\nClient: Adding a car to database.\")\n",
    "    flyweight = factory.get_flyweight([brand, model, color])\n",
    "    # The client code either stores or calculates extrinsic state and passes it\n",
    "    # to the flyweight's methods.\n",
    "    flyweight.operation([plates, owner])\n",
    "\n",
    "\n",
    "if __name__ == \"__main__\":\n",
    "    \"\"\"\n",
    "    The client code usually creates a bunch of pre-populated flyweights in the\n",
    "    initialization stage of the application.\n",
    "    \"\"\"\n",
    "\n",
    "    factory = FlyweightFactory([\n",
    "        [\"Chevrolet\", \"Camaro2018\", \"pink\"],\n",
    "        [\"Mercedes Benz\", \"C300\", \"black\"],\n",
    "        [\"Mercedes Benz\", \"C500\", \"red\"],\n",
    "        [\"BMW\", \"M5\", \"red\"],\n",
    "        [\"BMW\", \"X6\", \"white\"],\n",
    "    ])\n",
    "\n",
    "    factory.list_flyweights()\n",
    "\n",
    "    add_car_to_police_database(\n",
    "        factory, \"CL234IR\", \"James Doe\", \"BMW\", \"M5\", \"red\")\n",
    "\n",
    "    add_car_to_police_database(\n",
    "        factory, \"CL234IR\", \"James Doe\", \"BMW\", \"X1\", \"red\")\n",
    "\n",
    "    print(\"\\n\")\n",
    "\n",
    "    factory.list_flyweights()\n"
   ]
  },
  {
   "cell_type": "code",
   "execution_count": null,
   "metadata": {},
   "outputs": [],
   "source": []
  },
  {
   "cell_type": "markdown",
   "metadata": {},
   "source": [
    "## Prós e contras:\n",
    "\n",
    "### Prós\n",
    "\n",
    "- Reducao no numero de objetos\n",
    "- Reducao no consumo de memoria da aplicacao (essa reducao eh proporcional ao quanto o _flyweight_ eh compartilhado)\n",
    "\n",
    "\n",
    "### Contras\n",
    "\n",
    "- Aumento da complexidade (tipica otimizacao precoce)\n",
    "- Esse pattern pode introduzir aumento do custo de processamento (CPU x RAM) associado a busca, transferencia de estates compartilhados (especialmente se forem _intrinsic state_)\n",
    "\n"
   ]
  },
  {
   "cell_type": "markdown",
   "metadata": {},
   "source": [
    "## Discussao:\n",
    "\n",
    "Part 1: Fale um exemplo de _flyweight_ que nao seja relacionado a uma GUI (_graphical user interface_)\n",
    "\n",
    "Part 2: What is the minimum configuration for using flyweight? Do you need to be working with thousands of objects, hundreds, tens?\n",
    "\n",
    " "
   ]
  }
 ],
 "metadata": {
  "kernelspec": {
   "display_name": "Python 3.6.2 64-bit ('ravelin36': conda)",
   "language": "python",
   "name": "python36264bitravelin36condada913e7107384dcb83ceee8e6e324abe"
  },
  "language_info": {
   "codemirror_mode": {
    "name": "ipython",
    "version": 3
   },
   "file_extension": ".py",
   "mimetype": "text/x-python",
   "name": "python",
   "nbconvert_exporter": "python",
   "pygments_lexer": "ipython3",
   "version": "3.6.0"
  }
 },
 "nbformat": 4,
 "nbformat_minor": 2
}
