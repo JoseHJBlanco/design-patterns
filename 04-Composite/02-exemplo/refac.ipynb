{
 "cells": [
  {
   "cell_type": "markdown",
   "metadata": {},
   "source": [
    "# Refatorado"
   ]
  },
  {
   "cell_type": "markdown",
   "metadata": {},
   "source": [
    "Nossa companhia tem uma API que conta o número de letras em um texto."
   ]
  },
  {
   "cell_type": "code",
   "execution_count": 111,
   "metadata": {},
   "outputs": [],
   "source": [
    "import abc\n",
    "from itertools import cycle\n",
    "from string import ascii_lowercase\n",
    "from collections import Counter\n",
    "\n",
    "\n",
    "class Server(abc.ABC):\n",
    "    \"\"\"\n",
    "    Application the counts the number of letter in a piece of text.\n",
    "    \"\"\"\n",
    "    \n",
    "    valid_chars = set(ascii_lowercase)\n",
    "    \n",
    "    def __repr__(self):\n",
    "        return self.id_\n",
    "    \n",
    "    def __hash__(self):\n",
    "        return hash(self.id_)\n",
    "    \n",
    "    @property\n",
    "    def cpu(self) -> int:\n",
    "        \"\"\"\n",
    "        Number of CPUs.\n",
    "        \"\"\"\n",
    "        return self._cpu\n",
    "    \n",
    "    @property\n",
    "    def mem(self) -> int:\n",
    "        \"\"\"\n",
    "        Total memory.\n",
    "        \"\"\"\n",
    "        return self._mem\n",
    "    \n",
    "    @property\n",
    "    def id_(self) -> str:\n",
    "        \"\"\"\n",
    "        Server id.\n",
    "        \"\"\"\n",
    "        return self._id\n",
    "    \n",
    "    def display_svr_info(self):\n",
    "        print(f\"ID: {self.id_}, MEM: {self.mem}, CPU: {self.cpu}\")\n",
    "    \n",
    "    def serve(self, req: dict) -> dict:\n",
    "        \"\"\"\n",
    "        Count the number of latter in req.\n",
    "        \"\"\"\n",
    "        text = req[\"text\"].lower()\n",
    "        text = [char for char in text if char in self.valid_chars]\n",
    "        ctr = Counter(text)\n",
    "        print(self.id_, ctr)\n",
    "        return ctr\n",
    "    \n",
    "class Worker(Server):\n",
    "    \"\"\"\n",
    "    A single working node.\n",
    "    \"\"\"\n",
    "    def __init__(self, id_: str, mem: int, cpu: int):\n",
    "        self._mem = mem\n",
    "        self._cpu = cpu\n",
    "        self._id = id_\n",
    "        \n",
    "class Cluster(Server):\n",
    "    \"\"\"\n",
    "    A cluster of nodes or clusters.\n",
    "    \"\"\"\n",
    "    def __init__(self, id_: str, *servers: 'Server'):\n",
    "        self._id = id_\n",
    "        self._servers = set(servers)\n",
    "        self._splitter = None\n",
    "        \n",
    "    @property\n",
    "    def cpu(self) -> int:\n",
    "        return sum(svr.cpu for svr in self._servers)\n",
    "    \n",
    "    @property\n",
    "    def mem(self) -> int:\n",
    "        return sum(svr.mem for svr in self._servers)\n",
    "    \n",
    "    def _create_splitter(self):\n",
    "        \"\"\"\n",
    "        Creates an object that cycles the servers.\n",
    "        \"\"\"\n",
    "        def iterator():\n",
    "            for worker in cycle(self._servers):\n",
    "                req = yield\n",
    "                worker.serve(req)\n",
    "        splitter = iterator()\n",
    "        splitter.send(None)\n",
    "        return splitter\n",
    "    \n",
    "    def serve(self, req: dict) -> dict:\n",
    "        if not self._splitter:\n",
    "            self._splitter = self._create_splitter()\n",
    "            \n",
    "        self._splitter.send(req)\n",
    "        \n",
    "    def add(self, *servers: 'Server'):\n",
    "        self._servers |= set(servers)\n",
    "        self._splitter = None\n",
    "        \n",
    "    def remove(self, *servers: 'Server'):\n",
    "        self._servers -= set(servers)\n",
    "        self._splitter = None"
   ]
  },
  {
   "cell_type": "markdown",
   "metadata": {},
   "source": [
    "Vamos testar com um único worker."
   ]
  },
  {
   "cell_type": "code",
   "execution_count": 112,
   "metadata": {},
   "outputs": [
    {
     "name": "stdout",
     "output_type": "stream",
     "text": [
      "ID: hal, MEM: 16, CPU: 6\n",
      "\n",
      "serving...\n",
      "hal Counter({'r': 2, 'i': 1, 'm': 1, 's': 1, 'o': 1, 'y': 1, 'd': 1, 'a': 1, 'v': 1, 'e': 1})\n",
      "hal Counter({'a': 4, 'i': 3, 't': 3, 'd': 2, 'm': 1, 'f': 1, 'r': 1, 'c': 1, 'n': 1, 'o': 1, 'h': 1})\n"
     ]
    }
   ],
   "source": [
    "requests = [\n",
    "    {\"id\": 1, \"text\": \"I'm sorry dave.\"},\n",
    "    {\"id\": 2, \"text\": \"I'm afraid I can't do that.\"}\n",
    "]\n",
    "\n",
    "svr = Worker(\"hal\", 16, 6)\n",
    "svr.display_svr_info()\n",
    "\n",
    "print()\n",
    "print(\"serving...\")\n",
    "for req in requests:\n",
    "    svr.serve(req)"
   ]
  },
  {
   "cell_type": "code",
   "execution_count": 113,
   "metadata": {},
   "outputs": [
    {
     "name": "stdout",
     "output_type": "stream",
     "text": [
      "ID: cluster_a, MEM: 12, CPU: 6\n",
      "ID: cluster_b, MEM: 44, CPU: 22\n",
      "ID: mega, MEM: 56, CPU: 28\n"
     ]
    }
   ],
   "source": [
    "workers = [Worker(f\"worker{i}\", i*2, i)for i in range(8)]\n",
    "\n",
    "cluster_a = Cluster(\"cluster_a\")\n",
    "cluster_a.add(*workers[:4])\n",
    "cluster_a.display_svr_info()\n",
    "\n",
    "cluster_b = Cluster(\"cluster_b\")\n",
    "cluster_b.add(*workers[4:])\n",
    "cluster_b.display_svr_info()\n",
    "\n",
    "cluster_mega = Cluster(\"mega\", cluster_a, cluster_b)\n",
    "cluster_mega.display_svr_info()"
   ]
  },
  {
   "cell_type": "code",
   "execution_count": 114,
   "metadata": {},
   "outputs": [
    {
     "name": "stdout",
     "output_type": "stream",
     "text": [
      "serving...\n",
      "worker5 Counter({'r': 2, 'i': 1, 'm': 1, 's': 1, 'o': 1, 'y': 1, 'd': 1, 'a': 1, 'v': 1, 'e': 1})\n",
      "worker2 Counter({'a': 4, 'i': 3, 't': 3, 'd': 2, 'm': 1, 'f': 1, 'r': 1, 'c': 1, 'n': 1, 'o': 1, 'h': 1})\n",
      "worker6 Counter({'r': 2, 'i': 1, 'm': 1, 's': 1, 'o': 1, 'y': 1, 'd': 1, 'a': 1, 'v': 1, 'e': 1})\n",
      "worker1 Counter({'a': 4, 'i': 3, 't': 3, 'd': 2, 'm': 1, 'f': 1, 'r': 1, 'c': 1, 'n': 1, 'o': 1, 'h': 1})\n",
      "worker7 Counter({'r': 2, 'i': 1, 'm': 1, 's': 1, 'o': 1, 'y': 1, 'd': 1, 'a': 1, 'v': 1, 'e': 1})\n",
      "worker0 Counter({'a': 4, 'i': 3, 't': 3, 'd': 2, 'm': 1, 'f': 1, 'r': 1, 'c': 1, 'n': 1, 'o': 1, 'h': 1})\n",
      "worker4 Counter({'r': 2, 'i': 1, 'm': 1, 's': 1, 'o': 1, 'y': 1, 'd': 1, 'a': 1, 'v': 1, 'e': 1})\n",
      "worker3 Counter({'a': 4, 'i': 3, 't': 3, 'd': 2, 'm': 1, 'f': 1, 'r': 1, 'c': 1, 'n': 1, 'o': 1, 'h': 1})\n",
      "worker5 Counter({'r': 2, 'i': 1, 'm': 1, 's': 1, 'o': 1, 'y': 1, 'd': 1, 'a': 1, 'v': 1, 'e': 1})\n",
      "worker2 Counter({'a': 4, 'i': 3, 't': 3, 'd': 2, 'm': 1, 'f': 1, 'r': 1, 'c': 1, 'n': 1, 'o': 1, 'h': 1})\n",
      "worker6 Counter({'r': 2, 'i': 1, 'm': 1, 's': 1, 'o': 1, 'y': 1, 'd': 1, 'a': 1, 'v': 1, 'e': 1})\n",
      "worker1 Counter({'a': 4, 'i': 3, 't': 3, 'd': 2, 'm': 1, 'f': 1, 'r': 1, 'c': 1, 'n': 1, 'o': 1, 'h': 1})\n",
      "worker7 Counter({'r': 2, 'i': 1, 'm': 1, 's': 1, 'o': 1, 'y': 1, 'd': 1, 'a': 1, 'v': 1, 'e': 1})\n",
      "worker0 Counter({'a': 4, 'i': 3, 't': 3, 'd': 2, 'm': 1, 'f': 1, 'r': 1, 'c': 1, 'n': 1, 'o': 1, 'h': 1})\n",
      "worker4 Counter({'r': 2, 'i': 1, 'm': 1, 's': 1, 'o': 1, 'y': 1, 'd': 1, 'a': 1, 'v': 1, 'e': 1})\n",
      "worker3 Counter({'a': 4, 'i': 3, 't': 3, 'd': 2, 'm': 1, 'f': 1, 'r': 1, 'c': 1, 'n': 1, 'o': 1, 'h': 1})\n",
      "worker5 Counter({'r': 2, 'i': 1, 'm': 1, 's': 1, 'o': 1, 'y': 1, 'd': 1, 'a': 1, 'v': 1, 'e': 1})\n",
      "worker2 Counter({'a': 4, 'i': 3, 't': 3, 'd': 2, 'm': 1, 'f': 1, 'r': 1, 'c': 1, 'n': 1, 'o': 1, 'h': 1})\n",
      "worker6 Counter({'r': 2, 'i': 1, 'm': 1, 's': 1, 'o': 1, 'y': 1, 'd': 1, 'a': 1, 'v': 1, 'e': 1})\n",
      "worker1 Counter({'a': 4, 'i': 3, 't': 3, 'd': 2, 'm': 1, 'f': 1, 'r': 1, 'c': 1, 'n': 1, 'o': 1, 'h': 1})\n"
     ]
    }
   ],
   "source": [
    "print(\"serving...\")\n",
    "for req in requests * 10:\n",
    "    cluster_mega.serve(req)"
   ]
  },
  {
   "cell_type": "markdown",
   "metadata": {},
   "source": [
    "Removendo um dos clusters."
   ]
  },
  {
   "cell_type": "code",
   "execution_count": 118,
   "metadata": {},
   "outputs": [
    {
     "name": "stdout",
     "output_type": "stream",
     "text": [
      "ID: mega, MEM: 44, CPU: 22\n"
     ]
    }
   ],
   "source": [
    "cluster_mega.remove(cluster_a)\n",
    "cluster_mega.display_svr_info()"
   ]
  },
  {
   "cell_type": "code",
   "execution_count": 119,
   "metadata": {},
   "outputs": [
    {
     "name": "stdout",
     "output_type": "stream",
     "text": [
      "worker7 Counter({'r': 2, 'i': 1, 'm': 1, 's': 1, 'o': 1, 'y': 1, 'd': 1, 'a': 1, 'v': 1, 'e': 1})\n",
      "worker4 Counter({'a': 4, 'i': 3, 't': 3, 'd': 2, 'm': 1, 'f': 1, 'r': 1, 'c': 1, 'n': 1, 'o': 1, 'h': 1})\n",
      "worker5 Counter({'r': 2, 'i': 1, 'm': 1, 's': 1, 'o': 1, 'y': 1, 'd': 1, 'a': 1, 'v': 1, 'e': 1})\n",
      "worker6 Counter({'a': 4, 'i': 3, 't': 3, 'd': 2, 'm': 1, 'f': 1, 'r': 1, 'c': 1, 'n': 1, 'o': 1, 'h': 1})\n",
      "worker7 Counter({'r': 2, 'i': 1, 'm': 1, 's': 1, 'o': 1, 'y': 1, 'd': 1, 'a': 1, 'v': 1, 'e': 1})\n",
      "worker4 Counter({'a': 4, 'i': 3, 't': 3, 'd': 2, 'm': 1, 'f': 1, 'r': 1, 'c': 1, 'n': 1, 'o': 1, 'h': 1})\n",
      "worker5 Counter({'r': 2, 'i': 1, 'm': 1, 's': 1, 'o': 1, 'y': 1, 'd': 1, 'a': 1, 'v': 1, 'e': 1})\n",
      "worker6 Counter({'a': 4, 'i': 3, 't': 3, 'd': 2, 'm': 1, 'f': 1, 'r': 1, 'c': 1, 'n': 1, 'o': 1, 'h': 1})\n",
      "worker7 Counter({'r': 2, 'i': 1, 'm': 1, 's': 1, 'o': 1, 'y': 1, 'd': 1, 'a': 1, 'v': 1, 'e': 1})\n",
      "worker4 Counter({'a': 4, 'i': 3, 't': 3, 'd': 2, 'm': 1, 'f': 1, 'r': 1, 'c': 1, 'n': 1, 'o': 1, 'h': 1})\n",
      "worker5 Counter({'r': 2, 'i': 1, 'm': 1, 's': 1, 'o': 1, 'y': 1, 'd': 1, 'a': 1, 'v': 1, 'e': 1})\n",
      "worker6 Counter({'a': 4, 'i': 3, 't': 3, 'd': 2, 'm': 1, 'f': 1, 'r': 1, 'c': 1, 'n': 1, 'o': 1, 'h': 1})\n",
      "worker7 Counter({'r': 2, 'i': 1, 'm': 1, 's': 1, 'o': 1, 'y': 1, 'd': 1, 'a': 1, 'v': 1, 'e': 1})\n",
      "worker4 Counter({'a': 4, 'i': 3, 't': 3, 'd': 2, 'm': 1, 'f': 1, 'r': 1, 'c': 1, 'n': 1, 'o': 1, 'h': 1})\n",
      "worker5 Counter({'r': 2, 'i': 1, 'm': 1, 's': 1, 'o': 1, 'y': 1, 'd': 1, 'a': 1, 'v': 1, 'e': 1})\n",
      "worker6 Counter({'a': 4, 'i': 3, 't': 3, 'd': 2, 'm': 1, 'f': 1, 'r': 1, 'c': 1, 'n': 1, 'o': 1, 'h': 1})\n",
      "worker7 Counter({'r': 2, 'i': 1, 'm': 1, 's': 1, 'o': 1, 'y': 1, 'd': 1, 'a': 1, 'v': 1, 'e': 1})\n",
      "worker4 Counter({'a': 4, 'i': 3, 't': 3, 'd': 2, 'm': 1, 'f': 1, 'r': 1, 'c': 1, 'n': 1, 'o': 1, 'h': 1})\n",
      "worker5 Counter({'r': 2, 'i': 1, 'm': 1, 's': 1, 'o': 1, 'y': 1, 'd': 1, 'a': 1, 'v': 1, 'e': 1})\n",
      "worker6 Counter({'a': 4, 'i': 3, 't': 3, 'd': 2, 'm': 1, 'f': 1, 'r': 1, 'c': 1, 'n': 1, 'o': 1, 'h': 1})\n"
     ]
    }
   ],
   "source": [
    "for req in requests * 10:\n",
    "    cluster_mega.serve(req)"
   ]
  },
  {
   "cell_type": "markdown",
   "metadata": {},
   "source": [
    "Ele não está mais usando os workers 0 a 3."
   ]
  }
 ],
 "metadata": {
  "kernelspec": {
   "display_name": "Python 3.6.2 64-bit ('ravelin36': conda)",
   "language": "python",
   "name": "python36264bitravelin36condada913e7107384dcb83ceee8e6e324abe"
  },
  "language_info": {
   "codemirror_mode": {
    "name": "ipython",
    "version": 3
   },
   "file_extension": ".py",
   "mimetype": "text/x-python",
   "name": "python",
   "nbconvert_exporter": "python",
   "pygments_lexer": "ipython3",
   "version": "3.6.0"
  }
 },
 "nbformat": 4,
 "nbformat_minor": 2
}
