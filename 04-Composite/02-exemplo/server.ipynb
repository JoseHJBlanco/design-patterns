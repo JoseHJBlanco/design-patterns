{
 "cells": [
  {
   "cell_type": "markdown",
   "metadata": {},
   "source": [
    "# Exemplo"
   ]
  },
  {
   "cell_type": "markdown",
   "metadata": {},
   "source": [
    "Nossa companhia tem uma API que conta o número de letras em um texto."
   ]
  },
  {
   "cell_type": "code",
   "execution_count": 7,
   "metadata": {},
   "outputs": [],
   "source": [
    "from string import ascii_lowercase\n",
    "from collections import Counter\n",
    "\n",
    "class Server:\n",
    "    \n",
    "    valid_chars = set(ascii_lowercase)\n",
    "    \n",
    "    def __init__(self, id_, mem, cpu):\n",
    "        self._mem = mem\n",
    "        self._cpu = cpu\n",
    "        self._id = id_\n",
    "    \n",
    "    @property\n",
    "    def cpu(self):\n",
    "        return self._cpu\n",
    "    \n",
    "    @property\n",
    "    def mem(self):\n",
    "        return self._mem\n",
    "    \n",
    "    @property\n",
    "    def id_(self):\n",
    "        return self._id\n",
    "    \n",
    "    def serve(self, req: dict) -> dict:\n",
    "        text = req[\"text\"].lower()\n",
    "        text = [char for char in text if char in self.valid_chars]\n",
    "        return Counter(text)"
   ]
  },
  {
   "cell_type": "code",
   "execution_count": 8,
   "metadata": {},
   "outputs": [
    {
     "name": "stdout",
     "output_type": "stream",
     "text": [
      "Counter({'r': 2, 'i': 1, 'm': 1, 's': 1, 'o': 1, 'y': 1, 'd': 1, 'a': 1, 'v': 1, 'e': 1})\n",
      "Counter({'a': 4, 'i': 3, 't': 3, 'd': 2, 'm': 1, 'f': 1, 'r': 1, 'c': 1, 'n': 1, 'o': 1, 'h': 1})\n"
     ]
    }
   ],
   "source": [
    "requests = [\n",
    "    {\"id\": 1, \"text\": \"I'm sorry dave.\"},\n",
    "    {\"id\": 2, \"text\": \"I'm afraid I can't do that.\"}\n",
    "]\n",
    "\n",
    "svr = Server(\"hal\", 16, 6)\n",
    "\n",
    "for req in requests:\n",
    "    print(svr.serve(req))"
   ]
  },
  {
   "cell_type": "markdown",
   "metadata": {},
   "source": [
    "Porém, sua companhia notou que precisa distributir o tráfego vem aumentando ultimamente e seu servidor não dará mais conta do recado, será necessário distribuir o processamento entre diversos núcleos, mantendo a mesma interface."
   ]
  }
 ],
 "metadata": {
  "kernelspec": {
   "display_name": "Python 3.6.2 64-bit ('ravelin36': conda)",
   "language": "python",
   "name": "python36264bitravelin36condada913e7107384dcb83ceee8e6e324abe"
  },
  "language_info": {
   "codemirror_mode": {
    "name": "ipython",
    "version": 3
   },
   "file_extension": ".py",
   "mimetype": "text/x-python",
   "name": "python",
   "nbconvert_exporter": "python",
   "pygments_lexer": "ipython3",
   "version": "3.6.0"
  }
 },
 "nbformat": 4,
 "nbformat_minor": 2
}
