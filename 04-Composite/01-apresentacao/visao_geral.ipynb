{
 "cells": [
  {
   "cell_type": "markdown",
   "metadata": {},
   "source": [
    "# Composite"
   ]
  },
  {
   "cell_type": "markdown",
   "metadata": {},
   "source": [
    "## O que é?"
   ]
  },
  {
   "cell_type": "markdown",
   "metadata": {},
   "source": [
    "O padrão _composite_ descreve uma forma de agrupar objetos em uma arquitetura de árvore de tal forma a tornar o comportamento de elementos individuais e grupos indistintos para o cliente.\n",
    "\n",
    "Esse padrão também permite que elementos sejam agrupadas de forma recursiva, permitindo a criação de grupos mais complexos."
   ]
  },
  {
   "cell_type": "markdown",
   "metadata": {},
   "source": [
    "## Por quê?"
   ]
  },
  {
   "cell_type": "markdown",
   "metadata": {},
   "source": [
    "Muitas vezes classes diferentes containers e primitivos apresentam comportamentos muito similares, porém ao tratá-los de forma diferente, a complexidade do código aumenta."
   ]
  },
  {
   "cell_type": "markdown",
   "metadata": {},
   "source": [
    "## Estrutura"
   ]
  },
  {
   "cell_type": "markdown",
   "metadata": {},
   "source": [
    "![figura](./assets/composite_struct.png)"
   ]
  },
  {
   "cell_type": "markdown",
   "metadata": {},
   "source": [
    "## Exemplo"
   ]
  },
  {
   "cell_type": "markdown",
   "metadata": {},
   "source": [
    "Nós queremos criar um jogo de RPG. Onde nos temos aventureiros que se organizam numa party."
   ]
  },
  {
   "cell_type": "code",
   "execution_count": 30,
   "metadata": {},
   "outputs": [],
   "source": [
    "import abc\n",
    "\n",
    "class Character:\n",
    "    def __init__(self, name: str, strength: int, magic: int):\n",
    "        self._name = name\n",
    "        self._strength = strength\n",
    "        self._magic = magic\n",
    "        \n",
    "    def __hash__(self):\n",
    "        return hash(self.name)\n",
    "        \n",
    "    @property\n",
    "    def name(self) -> str:\n",
    "        return self._name\n",
    "        \n",
    "    @abc.abstractmethod\n",
    "    def attack(self) -> float:\n",
    "        \"\"\"\n",
    "        Character attacks.\n",
    "        \"\"\"\n",
    "        pass\n",
    "    \n",
    "    \n",
    "class Warrior(Character):\n",
    "    def attack(self):\n",
    "        return self._strength * 2\n",
    "    \n",
    "\n",
    "class Wizzard(Character):\n",
    "    def attack(self):\n",
    "        return self._magic * 2.5\n",
    "    \n",
    "    \n",
    "class Scout(Character):\n",
    "    def attack(self):\n",
    "        return self._strength * .7\n",
    "        \n",
    "\n",
    "class Party:\n",
    "    def __init__(self, name: str, *members: 'Characters'):\n",
    "        self._name = name\n",
    "        self._members = set(members)\n",
    "        \n",
    "    def __hash__(self):\n",
    "        return hash(self.name)\n",
    "\n",
    "    @property\n",
    "    def name(self) -> str:\n",
    "        return f\"Party {self._name}\"\n",
    "        \n",
    "    \n",
    "    def team_attack(self) -> float:\n",
    "        return sum(member.attack() for member in self._members)\n",
    "        \n",
    "    def recruit(self, *adventurers: 'Character') -> 'Adventurers':\n",
    "        \"\"\"\n",
    "        Recruit adventurers to your group. Returns \n",
    "        \"\"\"\n",
    "        return Party(self.name, self._members + set(adventurers))\n",
    "\n",
    "    def disband(self, *adventurers: 'Character') -> 'Adventurers':\n",
    "        \"\"\"\n",
    "        Adventurers go their own way.\n",
    "        \"\"\"\n",
    "        return Party(self.name, self._members - set(adventurers))\n",
    "    \n",
    "\n",
    "class Guild:\n",
    "    def __init__(self, name: str, *parties: 'Party'):\n",
    "        self.name = name\n",
    "        self._parties = set(parties)\n",
    "        \n",
    "    def __hash__(self):\n",
    "        return hash(self.name)\n",
    "\n",
    "    @property\n",
    "    def name(self) -> str:\n",
    "        return f\"Guild {self._name}\"\n",
    "        \n",
    "    def guild_attack(self) -> float:\n",
    "        return sum(party.team_attack() for party in self._parties)\n",
    "        \n",
    "    def form_alliance(self, *parties: 'Party') -> 'Party':\n",
    "        \"\"\"\n",
    "        Recruit adventurers to your group. Returns \n",
    "        \"\"\"\n",
    "        return Guild(self.name, self._parties + set(parties))\n",
    "\n",
    "    def break_alliance(self, *parties: 'Party') -> 'Party':\n",
    "        \"\"\"\n",
    "        Adventurers go their own way.\n",
    "        \"\"\"\n",
    "        return Guild(self.name, self._parties - set(parties))"
   ]
  },
  {
   "cell_type": "markdown",
   "metadata": {},
   "source": [
    "Vamos atacar um monstro."
   ]
  },
  {
   "cell_type": "code",
   "execution_count": 31,
   "metadata": {},
   "outputs": [
    {
     "name": "stdout",
     "output_type": "stream",
     "text": [
      "Conan caused 40 pts of name.\n",
      "Bandit caused 7.0 pts of name.\n"
     ]
    }
   ],
   "source": [
    "def fight(char: Character, enemy: Character):\n",
    "    print(f\"{char.name} caused {char.attack()} pts of damage.\")\n",
    "    print(f\"{enemy.name} caused {enemy.attack()} pts of damage.\")\n",
    "\n",
    "conan = Warrior(\"Conan\", 20, 3)\n",
    "bandit = Scout(\"Bandit\", 10, 5)\n",
    "\n",
    "fight(conan, bandit)"
   ]
  },
  {
   "cell_type": "markdown",
   "metadata": {},
   "source": [
    "Após formar uma aliança com merlin, eles voltam à luta."
   ]
  },
  {
   "cell_type": "code",
   "execution_count": 32,
   "metadata": {},
   "outputs": [
    {
     "ename": "AttributeError",
     "evalue": "'Party' object has no attribute 'attack'",
     "output_type": "error",
     "traceback": [
      "\u001b[0;31m---------------------------------------------------------------------------\u001b[0m",
      "\u001b[0;31mAttributeError\u001b[0m                            Traceback (most recent call last)",
      "\u001b[0;32m<ipython-input-32-7648ba77303f>\u001b[0m in \u001b[0;36m<module>\u001b[0;34m()\u001b[0m\n\u001b[1;32m      2\u001b[0m \u001b[0;34m\u001b[0m\u001b[0m\n\u001b[1;32m      3\u001b[0m \u001b[0mparty\u001b[0m \u001b[0;34m=\u001b[0m \u001b[0mParty\u001b[0m\u001b[0;34m(\u001b[0m\u001b[0;34m\"Sword and magic\"\u001b[0m\u001b[0;34m,\u001b[0m \u001b[0mconan\u001b[0m\u001b[0;34m,\u001b[0m \u001b[0mmerlin\u001b[0m\u001b[0;34m)\u001b[0m\u001b[0;34m\u001b[0m\u001b[0m\n\u001b[0;32m----> 4\u001b[0;31m \u001b[0mfight\u001b[0m\u001b[0;34m(\u001b[0m\u001b[0mparty\u001b[0m\u001b[0;34m,\u001b[0m \u001b[0mbandit\u001b[0m\u001b[0;34m)\u001b[0m\u001b[0;34m\u001b[0m\u001b[0m\n\u001b[0m",
      "\u001b[0;32m<ipython-input-31-6f1cb7cce3ad>\u001b[0m in \u001b[0;36mfight\u001b[0;34m(char, enemy)\u001b[0m\n\u001b[1;32m      1\u001b[0m \u001b[0;32mdef\u001b[0m \u001b[0mfight\u001b[0m\u001b[0;34m(\u001b[0m\u001b[0mchar\u001b[0m\u001b[0;34m:\u001b[0m \u001b[0mCharacter\u001b[0m\u001b[0;34m,\u001b[0m \u001b[0menemy\u001b[0m\u001b[0;34m:\u001b[0m \u001b[0mCharacter\u001b[0m\u001b[0;34m)\u001b[0m\u001b[0;34m:\u001b[0m\u001b[0;34m\u001b[0m\u001b[0m\n\u001b[0;32m----> 2\u001b[0;31m     \u001b[0mprint\u001b[0m\u001b[0;34m(\u001b[0m\u001b[0;34mf\"{char.name} caused {char.attack()} pts of name.\"\u001b[0m\u001b[0;34m)\u001b[0m\u001b[0;34m\u001b[0m\u001b[0m\n\u001b[0m\u001b[1;32m      3\u001b[0m     \u001b[0mprint\u001b[0m\u001b[0;34m(\u001b[0m\u001b[0;34mf\"{enemy.name} caused {enemy.attack()} pts of name.\"\u001b[0m\u001b[0;34m)\u001b[0m\u001b[0;34m\u001b[0m\u001b[0m\n\u001b[1;32m      4\u001b[0m \u001b[0;34m\u001b[0m\u001b[0m\n\u001b[1;32m      5\u001b[0m \u001b[0mconan\u001b[0m \u001b[0;34m=\u001b[0m \u001b[0mWarrior\u001b[0m\u001b[0;34m(\u001b[0m\u001b[0;34m\"Conan\"\u001b[0m\u001b[0;34m,\u001b[0m \u001b[0;36m20\u001b[0m\u001b[0;34m,\u001b[0m \u001b[0;36m3\u001b[0m\u001b[0;34m)\u001b[0m\u001b[0;34m\u001b[0m\u001b[0m\n",
      "\u001b[0;31mAttributeError\u001b[0m: 'Party' object has no attribute 'attack'"
     ]
    }
   ],
   "source": [
    "merlin = Wizzard(\"Merlin\", 3, 30)\n",
    "\n",
    "party = Party(\"Sword and magic\", conan, merlin)\n",
    "fight(party, bandit)"
   ]
  },
  {
   "cell_type": "markdown",
   "metadata": {},
   "source": [
    "Temos que adaptar a função `fight`"
   ]
  },
  {
   "cell_type": "code",
   "execution_count": 34,
   "metadata": {},
   "outputs": [
    {
     "name": "stdout",
     "output_type": "stream",
     "text": [
      "Party Sword and magic caused 115.0 pts of name.\n",
      "Bandit caused 7.0 pts of name.\n"
     ]
    }
   ],
   "source": [
    "def fight(char: 'Any', enemy: Character):\n",
    "    if isinstance(char, Character):\n",
    "        dmg = char.attack()\n",
    "    elif isinstance(char, Party):\n",
    "        dmg = char.team_attack()\n",
    "    else:\n",
    "        dmg = char.guild_attack()\n",
    "    \n",
    "    print(f\"{char.name} caused {dmg} pts of damage.\")\n",
    "    print(f\"{enemy.name} caused {enemy.attack()} pts of damage.\")\n",
    "    \n",
    "fight(party, bandit)"
   ]
  },
  {
   "cell_type": "markdown",
   "metadata": {},
   "source": [
    "Usando o padrão composite."
   ]
  },
  {
   "cell_type": "code",
   "execution_count": 46,
   "metadata": {},
   "outputs": [],
   "source": [
    "class Adventurers(metaclass=abc.ABCMeta):\n",
    "    def __init__(self, name: str):\n",
    "        self._name = name\n",
    "        \n",
    "    def __hash__(self):\n",
    "        return hash(self.name)\n",
    "    \n",
    "    @property\n",
    "    def name(self) -> str:\n",
    "        return self._name\n",
    "    \n",
    "    @abc.abstractmethod\n",
    "    def attack(self) -> float:\n",
    "        \"\"\"\n",
    "        The character performs an attack.\n",
    "        \"\"\"\n",
    "        pass\n",
    "    \n",
    "    def recruit(self, *adventurers: 'Adventurers') -> 'Adventurers':\n",
    "        \"\"\"\n",
    "        Recruit adventurers to your group. Returns \n",
    "        \"\"\"\n",
    "        return Party(self.name, self.members + set(adventurers))\n",
    "\n",
    "    def disband(self, *adventurers: 'Adventurers') -> 'Adventurers':\n",
    "        \"\"\"\n",
    "        Adventurers go their own way.\n",
    "        \"\"\"\n",
    "        return Party(self.name, self.members - set(adventurers))\n",
    "\n",
    "\n",
    "class Group(Adventurers):\n",
    "    prefix = None\n",
    "    \n",
    "    def __init__(self, name, *members):\n",
    "        super().__init__(name)\n",
    "        self.members = set(members)\n",
    "        \n",
    "    @property\n",
    "    def name(self):\n",
    "        return f'{self.prefix} \"{self._name}\"'\n",
    "    \n",
    "    def attack(self):\n",
    "        \"\"\"\n",
    "        The character performs an attack.\n",
    "        \"\"\"\n",
    "        base_damage = sum(member.attack() for member in self.members)\n",
    "        combo_multi = 1 + 0.05 * len(self.members)\n",
    "        return base_damage * combo_multi\n",
    "    \n",
    "class Party(Group):\n",
    "    prefix = \"Party\"\n",
    "    \n",
    "    \n",
    "class Guild(Group):\n",
    "    prefix = \"Guild\"\n",
    "        \n",
    "    \n",
    "class Character(Adventurers):\n",
    "    \n",
    "    def __init__(self, name, strength, magic):\n",
    "        super().__init__(name)\n",
    "        self._strength = strength\n",
    "        self._magic = magic\n",
    "    \n",
    "    def recruit(self, *adventurers):\n",
    "        return Party(f\"{self.name}'s party\", self, *adventurers)\n",
    "    \n",
    "    def disband(self, *adventurers):\n",
    "        return AttributeError(\"No one to disband.\")\n",
    "        \n",
    "class Warrior(Character):\n",
    "    def attack(self):\n",
    "        return self._strength * 2\n",
    "    \n",
    "\n",
    "class Wizzard(Character):\n",
    "    def attack(self):\n",
    "        return self._magic * 2.5\n",
    "    \n",
    "    \n",
    "class Scout(Character):\n",
    "    def attack(self):\n",
    "        return self._strength * .7"
   ]
  },
  {
   "cell_type": "markdown",
   "metadata": {},
   "source": [
    "Vamos começar nossa aventura."
   ]
  },
  {
   "cell_type": "code",
   "execution_count": 43,
   "metadata": {},
   "outputs": [],
   "source": [
    "def fight(char: Character, enemy: Character):\n",
    "    print(f\"{char.name} caused {char.attack()} pts of damage.\")\n",
    "    print(f\"{enemy.name} caused {enemy.attack()} pts of damage.\")"
   ]
  },
  {
   "cell_type": "code",
   "execution_count": 44,
   "metadata": {},
   "outputs": [
    {
     "name": "stdout",
     "output_type": "stream",
     "text": [
      "Conan caused 40 pts of damage.\n",
      "Bandit caused 7.0 pts of damage.\n"
     ]
    }
   ],
   "source": [
    "conan = Warrior(\"Conan\", 20, 4)\n",
    "bandit = Scout(\"Bandit\", 10, 5)\n",
    "\n",
    "fight(conan, bandit)"
   ]
  },
  {
   "cell_type": "code",
   "execution_count": 50,
   "metadata": {},
   "outputs": [
    {
     "name": "stdout",
     "output_type": "stream",
     "text": [
      "Party \"Conan's party\" caused 112.75000000000001 pts of damage.\n",
      "Bandit caused 7.0 pts of damage.\n"
     ]
    }
   ],
   "source": [
    "merlin = Wizzard(\"Merlin\", 5, 25)\n",
    "\n",
    "party = conan.recruit(merlin)\n",
    "fight(party, bandit)"
   ]
  },
  {
   "cell_type": "code",
   "execution_count": 52,
   "metadata": {},
   "outputs": [
    {
     "name": "stdout",
     "output_type": "stream",
     "text": [
      "Guild \"Alliance\" caused 156.21100000000004 pts of damage.\n",
      "Bandit caused 7.0 pts of damage.\n"
     ]
    }
   ],
   "source": [
    "musashi = Scout(\"Musashi\", 20, 10)\n",
    "suzano = Scout(\"Suzano\", 18, 12)\n",
    "wanderers = Party(\"Wanderers\", musashi, suzano)\n",
    "\n",
    "guild = Guild(\"Alliance\", party, wanderers)\n",
    "\n",
    "fight(guild, bandit)"
   ]
  },
  {
   "cell_type": "markdown",
   "metadata": {},
   "source": [
    "## Pros e cons"
   ]
  },
  {
   "cell_type": "markdown",
   "metadata": {},
   "source": [
    "__Pros__\n",
    "- Ter coleções e unidades intercambiáveis, muitas vez torna o código mais simples e evita repetição (e.g. numpy arrays).\n",
    "- Os componentes podem ser compostos de forma indefinida, criando estruturas mais complexas (e.g. loggers).\n",
    "- O fato dos componentes implementarem uma interface comum torna fácil a adição de novas classes.\n",
    "\n",
    "__Cons__\n",
    "- Por vezes é necessário que uma hierarquia seja estabelecida, porém esse padrão não preve tal conceito (e.g. containers dentro de containers).\n",
    "- A interface pode ser tornar bastante grande e certos comportamentos específicos a uma classe são difíceis de serem implementados (e.g. methods _add_ e _remove_)."
   ]
  },
  {
   "cell_type": "markdown",
   "metadata": {},
   "source": [
    "## Possíveis _use cases_"
   ]
  },
  {
   "cell_type": "markdown",
   "metadata": {},
   "source": [
    "- Estruturas que precisão de valores agregados em camadas (e.g. lucro da companhia vs região vs de uma loja).\n",
    "- Casos em que é necessário propagar ação para apenas um grupo de objetos."
   ]
  },
  {
   "cell_type": "markdown",
   "metadata": {},
   "source": [
    "## Detalhes de implementação\n",
    "- Muitas vezes é útil manter uma referência ao objeto pai dentro do objeto filho (e.g. invalidar o cache).\n",
    "- Compartilhar componentes reduz o uso de memória, porém torna mais difícil a propagação de mensagens e pode causar efeitos secundários (e.g. remover uma _leaf_ compartilhada).\n",
    "- Nem todas a operações são relevantes para todos os componentes. Todos esses métodos devem ser implentados (e.g. _add_ e _remove_).\n",
    "- É preciso pensar em _caching_ e boas estruturas de dados para os objetos filhos para garantir boa performance."
   ]
  },
  {
   "cell_type": "markdown",
   "metadata": {},
   "source": [
    "## Perguntas\n",
    "- Como tratar elementos que precisem de características especiais?\n",
    "- Quais são as alternativas a esse padrão?"
   ]
  }
 ],
 "metadata": {
  "kernelspec": {
   "display_name": "Python 3.6.2 64-bit ('ravelin36': conda)",
   "language": "python",
   "name": "python36264bitravelin36condada913e7107384dcb83ceee8e6e324abe"
  },
  "language_info": {
   "codemirror_mode": {
    "name": "ipython",
    "version": 3
   },
   "file_extension": ".py",
   "mimetype": "text/x-python",
   "name": "python",
   "nbconvert_exporter": "python",
   "pygments_lexer": "ipython3",
   "version": "3.6.0"
  }
 },
 "nbformat": 4,
 "nbformat_minor": 2
}
