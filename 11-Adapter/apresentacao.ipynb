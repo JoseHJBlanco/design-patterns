{
 "cells": [
  {
   "attachments": {
    "adapter.gif": {
     "image/gif": "[encoded data removed]"
    }
   },
   "cell_type": "markdown",
   "metadata": {},
   "source": [
    "# Adapter\n",
    "\n",
    "\n",
    "## O que é?\n",
    "\n",
    "O padrao _adapter_, também conhecido como _wrapper_, permite a interacao entre duas interfaces incompatíveis, convertendo a interface do objeto adaptado numa interface esperada pelo cliente.\n",
    "\n",
    "## Por quê?\n",
    "\n",
    "O _adapter_ é particularmente útil quando estamos trabalhando com interfaces sobre as quais nao temos controle -- libraries, APIs criadas por vendors externos, ou software produzido por um time diferente. Ele permite a criacao de código reusável mesmo quando há incompatibilidades entre as interfaces.\n",
    "\n",
    "## Estrutura: \n",
    "\n",
    "![Adapter](attachment:adapter.gif)\n",
    "\n",
    "## Exemplo 1:\n",
    "\n",
    "Imaginemos que trabalhamos numa empresa de classificados no estilo páginas amarelas. Uma das nossas funcoes é atualizar o número de telefone do anunciante quando há uma mudanca. Como estamos no século XX, tudo é simples: nossas páginas amarelas sao apenas um enorme arquivo de texto, e podemos fazer a mudanca usando o método `replace`."
   ]
  },
  {
   "cell_type": "code",
   "execution_count": 12,
   "metadata": {},
   "outputs": [
    {
     "data": {
      "text/plain": [
       "'Mesbla - (11) 884-7654\\nMappin - (11) 433-9980\\nBamerindus - (11) 555-7890'"
      ]
     },
     "execution_count": 12,
     "metadata": {},
     "output_type": "execute_result"
    }
   ],
   "source": [
    "class Updater:\n",
    "    def __init__(self, yellow_pages: str):\n",
    "        self.yellow_pages = yellow_pages\n",
    "        \n",
    "    def update(self, old_number: str, new_number: str):\n",
    "        self.yellow_pages = self.yellow_pages.replace(old_number, new_number)\n",
    "        \n",
    "yellow_page_sample = \"Mesbla - (11) 884-7654\\nMappin - (11) 433-9980\\nBamerindus - (11) 247-9801\"\n",
    "\n",
    "u1 = Updater(yellow_page_sample)\n",
    "\n",
    "u1.update('(11) 247-9801', '(11) 555-7890')\n",
    "\n",
    "u1.yellow_pages"
   ]
  },
  {
   "cell_type": "markdown",
   "metadata": {},
   "source": [
    "Com a inesperada chegada do século XXI, porém, alguém decide que é hora de armazenar nossas páginas amarelas num  banco de dados. Em vez de um arquivo de texto, agora nossas `yellow_pages` têm uma interace totalmente diferente:"
   ]
  },
  {
   "cell_type": "code",
   "execution_count": 10,
   "metadata": {},
   "outputs": [],
   "source": [
    "class YellowPages:\n",
    "    \n",
    "    def connect(self):\n",
    "        print(\"Connecting to YellowPages database\")\n",
    "        \n",
    "    def super_safe_query(self, query: str):\n",
    "        print(f\"Executing query {query} in YellowPages database\")\n",
    "        \n",
    "    def commit(self):\n",
    "        print(\"Permanently storing changes in the YellowPages database. God bless us all\")\n"
   ]
  },
  {
   "cell_type": "markdown",
   "metadata": {},
   "source": [
    "Diante dessa mudanca, à primeira vista, seria necessário mudar totalmente nossa classe `Updater`, certo? Ou, caso ainda precisemos do `Updater` para manter vivo nosso pujante negócio de venda de páginas amarelas impressas, precisaríamos criar um novo updater para atualizar os números de telefone em nosso banco de dados. \n",
    "\n",
    "O padrao _adapter_ permite uma terceira opcao: manter nosso `Updater` como está e usar um adaptador para permitir que o `Updater` e as `YellowPages` conversem entre si. Nesse caso, por exemplo, o adaptador precisa expor apenas o método `replace`."
   ]
  },
  {
   "cell_type": "code",
   "execution_count": 11,
   "metadata": {
    "scrolled": true
   },
   "outputs": [
    {
     "name": "stdout",
     "output_type": "stream",
     "text": [
      "Connecting to YellowPages database\n",
      "Executing query UPDATE client_list SET phone_number = (11) 555-7890 WHERE phone_number = (11) 247-9801 in YellowPages database\n",
      "Permanently storing changes in the YellowPages database. God bless us all\n"
     ]
    }
   ],
   "source": [
    "class YellowPageAdapter: \n",
    "    \n",
    "    def __init__(self, yellow_pages: YellowPages):\n",
    "        self.yellow_pages = yellow_pages\n",
    "        \n",
    "    def replace(self, old_number: str, new_number: str):\n",
    "        self.yellow_pages.connect()\n",
    "        query_string = f\"UPDATE client_list SET phone_number = {new_number} WHERE phone_number = {old_number}\"\n",
    "        self.yellow_pages.super_safe_query(query_string)\n",
    "        self.yellow_pages.commit()\n",
    "        \n",
    "yellow_page_sample2 = YellowPages()\n",
    "\n",
    "yellow_page_sample2_adapter = YellowPageAdapter(yellow_page_sample2)\n",
    "\n",
    "u2 = Updater(yellow_page_sample2_adapter)\n",
    "    \n",
    "u2.update('(11) 247-9801', '(11) 555-7890')"
   ]
  },
  {
   "cell_type": "markdown",
   "metadata": {},
   "source": [
    "## Exemplo 2: \n",
    "\n",
    "O exemplo anterior pode ser descrito como um **object adapter**: usamos object composition no nosso adaptador para ter acesso aos métodos da classe `YellowPages`. Outra opcao, porém, é usar *inheritance* com esse propósito. Suponhamos que temos uma classe `LoadBalancer` cuja funcao é distribuir requests para nossos servidores. No entanto, estamos no século XX e precisamos checar a temperatura de nossos servidores físicos antes de usá-los: nao queremos que o superaquecimento provoque um incêndio em nossa fábrica de páginas amarelas:"
   ]
  },
  {
   "cell_type": "code",
   "execution_count": 6,
   "metadata": {
    "scrolled": true
   },
   "outputs": [
    {
     "name": "stdout",
     "output_type": "stream",
     "text": [
      "Processing request << Some request >>\n",
      "Unable to process request << Some other request >> due to server overheating; redirecting\n",
      "Processing request << Some other request >>\n",
      "Processing request << A third, equally uninteresting request >>\n"
     ]
    }
   ],
   "source": [
    "import random\n",
    "from typing import List\n",
    "\n",
    "class LegacyServer: \n",
    "    \n",
    "    def is_overheating(self): \n",
    "        '''\n",
    "        Randomly overheats for no reason\n",
    "        '''\n",
    "        return random.choice([True, False])\n",
    "    \n",
    "    def serve(self, request: str):\n",
    "        print(f\"Processing request << {request} >>\")\n",
    "    \n",
    "class LoadBalancer:\n",
    "    def __init__(self, servers: List[LegacyServer]):\n",
    "        self.servers = servers\n",
    "    \n",
    "    def distribute(self, requests: List[str]):\n",
    "        for request in requests:\n",
    "            current_server = random.choice(self.servers)\n",
    "            if current_server.is_overheating():\n",
    "                print(f\"Unable to process request << {request} >> due to server overheating; redirecting\")\n",
    "                current_server = random.choice(self.servers)\n",
    "            current_server.serve(request)\n",
    "\n",
    "\n",
    "server_list = [LegacyServer() for i in range(5)]\n",
    "lb = LoadBalancer(server_list)\n",
    "requests = [\"Some request\", \"Some other request\", \"A third, equally uninteresting request\"]\n",
    "\n",
    "lb.distribute(requests)\n"
   ]
  },
  {
   "cell_type": "markdown",
   "metadata": {},
   "source": [
    "Com a chegada do século XXI, a empresa decide comecar a apostar em cloud servers."
   ]
  },
  {
   "cell_type": "code",
   "execution_count": 8,
   "metadata": {},
   "outputs": [],
   "source": [
    "class CloudServer:\n",
    "    def serve(self, request):\n",
    "        print(f\"Serving request << {request} >> from the cloud! How exciting!\")\n"
   ]
  },
  {
   "cell_type": "markdown",
   "metadata": {},
   "source": [
    "Porém, os servidores na nuvem nao possuem o método `is_overheating` -- e nao queremos que nosso `LoadBalancer` deixe de funcionar com os servidores antigos, que continuam a todo vapor. Vejamos como um **class adapter** pode resolver esse problema:"
   ]
  },
  {
   "cell_type": "code",
   "execution_count": 11,
   "metadata": {},
   "outputs": [
    {
     "name": "stdout",
     "output_type": "stream",
     "text": [
      "Serving request << Some request >> from the cloud! How exciting!\n",
      "Serving request << Some other request >> from the cloud! How exciting!\n",
      "Serving request << A third, equally uninteresting request >> from the cloud! How exciting!\n"
     ]
    }
   ],
   "source": [
    "class ServerAdapter(CloudServer):\n",
    "    def is_overheating(self):\n",
    "        return False\n",
    "\n",
    "server_list = [ServerAdapter() for i in range(5)]\n",
    "lb = LoadBalancer(server_list)\n",
    "requests = [\"Some request\", \"Some other request\", \"A third, equally uninteresting request\"]\n",
    "\n",
    "lb.distribute(requests)"
   ]
  },
  {
   "cell_type": "markdown",
   "metadata": {},
   "source": [
    "## Prós e contras:\n",
    "\n",
    "### Prós\n",
    "\n",
    "- Permite a reutilizacao do código mesmo quando há diferencas de interface\n",
    "- Promove o decoupling entre o cliente e a interface adaptada\n",
    "- Simplifica o código do cliente\n",
    "\n",
    "### Contras\n",
    "\n",
    "- Reduz o controle do cliente sobre a interface adaptada\n",
    "- Esconde a complexidade (pode ser algo bom ou ruim)\n"
   ]
  },
  {
   "cell_type": "markdown",
   "metadata": {},
   "source": [
    "## Discussao:\n",
    "\n",
    "1. Há alguma razao para implementar um _Adapter_ com a mesma interface que o objeto que ele adapta? Nesse caso, o _Adapter_ seria um tipo de _Proxy_?\n",
    "\n",
    "2. (Bônus): Quais sao as diferencas (e semelhancas) entre o _Adapter_ e o _Decorator_?"
   ]
  }
 ],
 "metadata": {
  "kernelspec": {
   "display_name": "Python 3",
   "language": "python",
   "name": "python3"
  },
  "language_info": {
   "codemirror_mode": {
    "name": "ipython",
    "version": 3
   },
   "file_extension": ".py",
   "mimetype": "text/x-python",
   "name": "python",
   "nbconvert_exporter": "python",
   "pygments_lexer": "ipython3",
   "version": "3.7.3"
  }
 },
 "nbformat": 4,
 "nbformat_minor": 2
}
