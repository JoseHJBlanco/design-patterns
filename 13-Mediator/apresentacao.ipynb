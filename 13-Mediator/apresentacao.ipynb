{
 "cells": [
  {
   "cell_type": "markdown",
   "metadata": {},
   "source": [
    "# Mediator"
   ]
  },
  {
   "cell_type": "markdown",
   "metadata": {},
   "source": [
    "## O que é?\n",
    "\n",
    "O _Mediator_ prevê a ciração de um objecto central que serve para gerenciar a interação de multiplos objetos."
   ]
  },
  {
   "cell_type": "markdown",
   "metadata": {},
   "source": [
    "## Por quê?\n",
    "\n",
    "Muitas vezes, objetos precisam ter conhecimento e interagir uns cons os outros, issos os torna difíceis de reutilisar e aumenta complexidade do grupo inteiro cada vez que um novo elemento é adicionado. Utilizando o _Mediator_ os objectos tem apenas que se comunicar com um único objeto (o _mediator_ ), tornando-os desacoplados e limitando a complexidade ao _mediator_ ."
   ]
  },
  {
   "cell_type": "markdown",
   "metadata": {},
   "source": [
    "## Estrutura\n",
    "\n",
    "![mediator](assets/mediator.png)"
   ]
  },
  {
   "cell_type": "markdown",
   "metadata": {},
   "source": [
    "## Exemplo\n",
    "\n",
    "Nossa empresa tem um serviço de ingestão de dados através de uma API _restful_, para eventos online, e um sistema de ingestão em massa. Ambos devem processar os dados e armazená-los em uma database transacional, enquanto um serviço de _logging_ audita as transações.\n",
    "\n",
    "Vejamos uma possível implementação."
   ]
  },
  {
   "cell_type": "code",
   "execution_count": 6,
   "metadata": {},
   "outputs": [],
   "source": [
    "import datetime as dt\n",
    "\n",
    "class OnlineAPI:\n",
    "    \"\"\"\n",
    "    Online events handler.\n",
    "    \"\"\"\n",
    "    \n",
    "    def __init__(self, db, logger):\n",
    "        self._db = db\n",
    "        self._logger = logger\n",
    "        \n",
    "    def put(self, msg):\n",
    "        \"\"\"\n",
    "        Forwards the message to storage.\n",
    "        \"\"\"\n",
    "        self._logger.info(self)\n",
    "        self._db.store(msg)\n",
    "     \n",
    "    \n",
    "class OfflineIngester:\n",
    "    \"\"\"\n",
    "    Batch events handler.\n",
    "    \"\"\"\n",
    "    def __init__(self, db, logger):\n",
    "        self._db = db\n",
    "        self._logger = logger\n",
    "        \n",
    "    def ingest(self, *records):\n",
    "        \"\"\"\n",
    "        Reads multiple records and store them.\n",
    "        \"\"\"\n",
    "        for record in records:\n",
    "            self._logger.info(self)\n",
    "            self._db.store(record)\n",
    "    \n",
    "    \n",
    "class DB:\n",
    "    \"\"\"\n",
    "    Simple database;\n",
    "    \"\"\"\n",
    "    def __init__(self, logger):\n",
    "        self._logger = logger\n",
    "        self.storage = []\n",
    "        \n",
    "    def store(self, struct):\n",
    "        \"\"\"\n",
    "        Persists the structure (not really).\n",
    "        \"\"\"\n",
    "        self._logger.info(self)\n",
    "        self.storage.append(struct)\n",
    "        \n",
    "\n",
    "class Logger:\n",
    "    \"\"\"\n",
    "    For all your logging needs.\n",
    "    \"\"\"\n",
    "    def __init__(self):\n",
    "        self.logs = []\n",
    "        \n",
    "    def info(self, origin):\n",
    "        \"\"\"\n",
    "        Create an INFO level record with timestamps.\n",
    "        \"\"\"\n",
    "        time = dt.datetime.now().strftime(\"%Y-%m-%dT%H:%M:%S\")\n",
    "        self.logs.append(f\"INFO: {origin.__class__.__name__} - {time}\")"
   ]
  },
  {
   "cell_type": "code",
   "execution_count": 7,
   "metadata": {},
   "outputs": [],
   "source": [
    "logger = Logger()\n",
    "db = DB(logger)\n",
    "offline = OfflineIngester(db, logger)\n",
    "online = OnlineAPI(db, logger)"
   ]
  },
  {
   "cell_type": "code",
   "execution_count": 8,
   "metadata": {},
   "outputs": [],
   "source": [
    "offline.ingest({\"id\": 1, \"name\": \"Pedro\"}, {\"id\": 2, \"name\": \"Paulo\"})\n",
    "online.put({\"id\": 3, \"name\": \"Judas\"})"
   ]
  },
  {
   "cell_type": "code",
   "execution_count": 9,
   "metadata": {},
   "outputs": [
    {
     "data": {
      "text/plain": [
       "[{'id': 1, 'name': 'Pedro'},\n",
       " {'id': 2, 'name': 'Paulo'},\n",
       " {'id': 3, 'name': 'Judas'}]"
      ]
     },
     "execution_count": 9,
     "metadata": {},
     "output_type": "execute_result"
    }
   ],
   "source": [
    "db.storage"
   ]
  },
  {
   "cell_type": "code",
   "execution_count": 10,
   "metadata": {},
   "outputs": [
    {
     "data": {
      "text/plain": [
       "['INFO: OfflineIngester - 2020-07-05T17:31:08',\n",
       " 'INFO: DB - 2020-07-05T17:31:08',\n",
       " 'INFO: OfflineIngester - 2020-07-05T17:31:08',\n",
       " 'INFO: DB - 2020-07-05T17:31:08',\n",
       " 'INFO: OnlineAPI - 2020-07-05T17:31:08',\n",
       " 'INFO: DB - 2020-07-05T17:31:08']"
      ]
     },
     "execution_count": 10,
     "metadata": {},
     "output_type": "execute_result"
    }
   ],
   "source": [
    "logger.logs"
   ]
  },
  {
   "cell_type": "markdown",
   "metadata": {},
   "source": [
    "Podemos ver que todas classes têm conhecimento umas da outras, assim com têm referências a instâncias e utilizam um interface bem específica.\n",
    "\n",
    "Nesse caso, um _mediator_ pode ser utilizado para promover o desacoplamento dessas classes."
   ]
  },
  {
   "cell_type": "code",
   "execution_count": 21,
   "metadata": {},
   "outputs": [],
   "source": [
    "import abc\n",
    "\n",
    "\n",
    "class Mediator:\n",
    "    \"\"\"\n",
    "    Manages the interaction between the different objects that compose the system.\n",
    "    \"\"\"\n",
    "    def create_colleagues(self):\n",
    "        self._online = OnlineAPI(self)\n",
    "        self._offline = OfflineIngester(self)\n",
    "        self._logger = Logger(self)\n",
    "        self._db = DB(self)\n",
    "        \n",
    "        return self._online, self._offline, self._logger, self._db\n",
    "    \n",
    "    def notify(self, origin, msg):\n",
    "        \"\"\"\n",
    "        Handles events generated by one of the agents in this system.\n",
    "        \"\"\"\n",
    "        if origin != self._logger:\n",
    "            self._logger.info(origin)\n",
    "            \n",
    "        if origin in (self._online, self._offline):\n",
    "            self._db.store(msg)\n",
    "\n",
    "            \n",
    "class Colleague(metaclass=abc.ABCMeta):\n",
    "    \"\"\"\n",
    "    Simple agent of the system.\n",
    "    \"\"\"\n",
    "        \n",
    "    def __init__(self, mediator):\n",
    "        self._mediator = mediator\n",
    "        \n",
    "    def notify(self, msg):\n",
    "        \"\"\"\n",
    "        Notify mediator of an event.\n",
    "        \"\"\"\n",
    "        self._mediator.notify(self, msg)\n",
    "            \n",
    "\n",
    "class OnlineAPI(Colleague):\n",
    "    \"\"\"\n",
    "    Online events handler.\n",
    "    \"\"\"\n",
    "    def put(self, msg):\n",
    "        \"\"\"\n",
    "        Forwards the message to storage.\n",
    "        \"\"\"\n",
    "        self.notify(msg)\n",
    "     \n",
    "    \n",
    "class OfflineIngester(Colleague):\n",
    "    \"\"\"\n",
    "    Batch events handler.\n",
    "    \"\"\"\n",
    "    def ingest(self, *records):\n",
    "        \"\"\"\n",
    "        Reads multiple records and store them.\n",
    "        \"\"\"\n",
    "        for record in records:\n",
    "            self.notify(record)\n",
    "    \n",
    "    \n",
    "class DB(Colleague):\n",
    "    \"\"\"\n",
    "    Simple database;\n",
    "    \"\"\"\n",
    "    \n",
    "    def __init__(self, mediator):\n",
    "        super().__init__(mediator)\n",
    "        self.storage = []\n",
    "        \n",
    "    def store(self, struct):\n",
    "        \"\"\"\n",
    "        Persists the structure (not really).\n",
    "        \"\"\"\n",
    "        self.storage.append(struct)\n",
    "        self.notify(struct)\n",
    "        \n",
    "        \n",
    "class Logger(Colleague):\n",
    "    \"\"\"\n",
    "    For all your logging needs.\n",
    "    \"\"\"\n",
    "    def __init__(self, mediator):\n",
    "        super().__init__(mediator)\n",
    "        self.logs = []\n",
    "        \n",
    "    def info(self, origin):\n",
    "        \"\"\"\n",
    "        Create an INFO level record with timestamps.\n",
    "        \"\"\"\n",
    "        time = dt.datetime.now().strftime(\"%Y-%m-%dT%H:%M:%S\")\n",
    "        self.logs.append(f\"INFO: {origin.__class__.__name__} - {time}\")"
   ]
  },
  {
   "cell_type": "markdown",
   "metadata": {},
   "source": [
    "Repetindo o procedimento anterior."
   ]
  },
  {
   "cell_type": "code",
   "execution_count": 22,
   "metadata": {},
   "outputs": [],
   "source": [
    "mediator = Mediator()\n",
    "online, offline, logger, db = mediator.create_colleagues()"
   ]
  },
  {
   "cell_type": "code",
   "execution_count": 23,
   "metadata": {},
   "outputs": [],
   "source": [
    "offline.ingest({\"id\": 1, \"name\": \"Pedro\"}, {\"id\": 2, \"name\": \"Paulo\"})\n",
    "online.put({\"id\": 3, \"name\": \"Judas\"})"
   ]
  },
  {
   "cell_type": "code",
   "execution_count": 24,
   "metadata": {},
   "outputs": [
    {
     "data": {
      "text/plain": [
       "[{'id': 1, 'name': 'Pedro'},\n",
       " {'id': 2, 'name': 'Paulo'},\n",
       " {'id': 3, 'name': 'Judas'}]"
      ]
     },
     "execution_count": 24,
     "metadata": {},
     "output_type": "execute_result"
    }
   ],
   "source": [
    "db.storage"
   ]
  },
  {
   "cell_type": "code",
   "execution_count": 25,
   "metadata": {},
   "outputs": [
    {
     "data": {
      "text/plain": [
       "['INFO: OfflineIngester - 2020-07-05T17:32:39',\n",
       " 'INFO: DB - 2020-07-05T17:32:39',\n",
       " 'INFO: OfflineIngester - 2020-07-05T17:32:39',\n",
       " 'INFO: DB - 2020-07-05T17:32:39',\n",
       " 'INFO: OnlineAPI - 2020-07-05T17:32:39',\n",
       " 'INFO: DB - 2020-07-05T17:32:39']"
      ]
     },
     "execution_count": 25,
     "metadata": {},
     "output_type": "execute_result"
    }
   ],
   "source": [
    "logger.logs"
   ]
  },
  {
   "cell_type": "markdown",
   "metadata": {},
   "source": [
    "Como podemos ver as classes não mais têm conhecimento umas das outras, apenas do mediador. Além disso, a função de _logging_ veio quase de graça.\n",
    "\n",
    "Por outro lado, podemos ver que o method `notify` do _mediator_ pode crescer rapidamente e tornar-se bastante complexo. Talvez um bom meio termo seja a utilização de sistema de _pub-sub_ ."
   ]
  },
  {
   "cell_type": "code",
   "execution_count": 52,
   "metadata": {},
   "outputs": [],
   "source": [
    "from collections import defaultdict\n",
    "\n",
    "class PubSubMediator:\n",
    "    \"\"\"\n",
    "    Mediator that notifies events to all colleagues subscribed to a topic.\n",
    "    \"\"\"\n",
    "    def __init__(self):\n",
    "        self.topics = defaultdict(list)\n",
    "    \n",
    "    def subscribe(self, colleague, topic):\n",
    "        \"\"\"\n",
    "        Subscribe colleague to given topic.\n",
    "        \"\"\"\n",
    "        self.topics[topic].append(colleague)\n",
    "    \n",
    "    def notify(self, colleague, msg, *topics):\n",
    "        \"\"\"\n",
    "        Notify all colleagues subscribed to `topics`.\n",
    "        \"\"\"\n",
    "        for topic in topics:\n",
    "            for subscriber in self.topics[topic]:\n",
    "                if subscriber == colleague:\n",
    "                    continue\n",
    "                subscriber.notified(colleague, msg)\n",
    "\n",
    "            \n",
    "class Colleague(metaclass=abc.ABCMeta):\n",
    "        \n",
    "    def __init__(self, mediator):\n",
    "        self._mediator = mediator\n",
    "        \n",
    "    def notify(self, msg, *topics):\n",
    "        \"\"\"\n",
    "        Notify the mediator.\n",
    "        \"\"\"\n",
    "        self._mediator.notify(self, msg, *topics)\n",
    "        \n",
    "    def subscribe(self, topic):\n",
    "        \"\"\"\n",
    "        Subscribe to a topic.\n",
    "        \"\"\"\n",
    "        self._mediator.subscribe(self, topic)\n",
    "        \n",
    "    def notified(self, origin, msg):\n",
    "        \"\"\"\n",
    "        Get a notification that an event has happened.\n",
    "        \"\"\"\n",
    "        pass\n",
    "            \n",
    "\n",
    "class OnlineAPI(Colleague):\n",
    "    def put(self, msg):\n",
    "        self.notify(msg, \"ingest\", \"log\")\n",
    "     \n",
    "    \n",
    "class OfflineIngester(Colleague):\n",
    "    def ingest(self, *records):\n",
    "        for record in records:\n",
    "            self.notify(record, \"ingest\", \"log\")\n",
    "    \n",
    "    \n",
    "class DB(Colleague):\n",
    "    def __init__(self, mediator):\n",
    "        super().__init__(mediator)\n",
    "        self.storage = []\n",
    "        \n",
    "    def store(self, struct):\n",
    "        self.storage.append(struct)\n",
    "        self.notify({}, \"log\")\n",
    "        \n",
    "    def notified(self, origin, msg):\n",
    "        self.store(msg)\n",
    "        \n",
    "        \n",
    "class Logger(Colleague):\n",
    "    def __init__(self, mediator):\n",
    "        super().__init__(mediator)\n",
    "        self.logs = []\n",
    "        \n",
    "    def info(self, origin):\n",
    "        time = dt.datetime.now().strftime(\"%Y-%m-%dT%H:%M:%S\")\n",
    "        self.logs.append(f\"INFO: {origin.__class__.__name__} - {time}\")\n",
    "        \n",
    "    def notified(self, origin, msg):\n",
    "        self.info(origin)"
   ]
  },
  {
   "cell_type": "code",
   "execution_count": 53,
   "metadata": {},
   "outputs": [],
   "source": [
    "mediator = PubSubMediator()\n",
    "\n",
    "logger = Logger(mediator)\n",
    "db = DB(mediator)\n",
    "offline = OfflineIngester(mediator)\n",
    "online = OnlineAPI(mediator)"
   ]
  },
  {
   "cell_type": "code",
   "execution_count": 54,
   "metadata": {},
   "outputs": [],
   "source": [
    "# subscribing to topics\n",
    "\n",
    "logger.subscribe(\"log\")\n",
    "db.subscribe(\"ingest\")"
   ]
  },
  {
   "cell_type": "code",
   "execution_count": 55,
   "metadata": {},
   "outputs": [],
   "source": [
    "offline.ingest({\"id\": 1, \"name\": \"Pedro\"}, {\"id\": 2, \"name\": \"Paulo\"})\n",
    "online.put({\"id\": 3, \"name\": \"Judas\"})"
   ]
  },
  {
   "cell_type": "code",
   "execution_count": 56,
   "metadata": {},
   "outputs": [
    {
     "data": {
      "text/plain": [
       "[{'id': 1, 'name': 'Pedro'},\n",
       " {'id': 2, 'name': 'Paulo'},\n",
       " {'id': 3, 'name': 'Judas'}]"
      ]
     },
     "execution_count": 56,
     "metadata": {},
     "output_type": "execute_result"
    }
   ],
   "source": [
    "db.storage"
   ]
  },
  {
   "cell_type": "code",
   "execution_count": 57,
   "metadata": {},
   "outputs": [
    {
     "data": {
      "text/plain": [
       "['INFO: DB - 2020-07-05T18:47:33',\n",
       " 'INFO: OfflineIngester - 2020-07-05T18:47:33',\n",
       " 'INFO: DB - 2020-07-05T18:47:33',\n",
       " 'INFO: OfflineIngester - 2020-07-05T18:47:33',\n",
       " 'INFO: DB - 2020-07-05T18:47:33',\n",
       " 'INFO: OnlineAPI - 2020-07-05T18:47:33']"
      ]
     },
     "execution_count": 57,
     "metadata": {},
     "output_type": "execute_result"
    }
   ],
   "source": [
    "logger.logs"
   ]
  },
  {
   "cell_type": "markdown",
   "metadata": {},
   "source": [
    "Podemos ver que nesse caso a responsabilidade de gerir a interação entre os elementos é dividida entre o _mediator_ e os _colleagues_ . O mediator é reponsável por gerir os tópicos, enquanto os _colleagues_ são repossáveis por saber quais tópicos são relevantes para eles. Dessa forma, os _colleagues_ não precisam conhecer a interface de outras classes ou com quais outros objetos eles estão interagindo."
   ]
  },
  {
   "cell_type": "markdown",
   "metadata": {},
   "source": [
    "## Prós e contras:\n",
    "\n",
    "### Pros\n",
    "- Permitem que as classes tornem-se desacopladas umas das outras, resultando maior reutilização de código e classes mais simples\n",
    "- Instanciar classes torna-se mais fácil\n",
    "- Pelo fato do mediador ser o único ponto de troca de informação entre os agentes, funcionalidade adicionais como _logging_ podem ser facilemente implementadas\n",
    "\n",
    "### Cons\n",
    "- O mediator pode tornar-se um monolito muito complexo\n",
    "- Para evitar que a interface do _mediator_ torne-se muito inchada, a comunicação é feita através de mensagens, o que torna as interações menos \"estruturadas\"."
   ]
  },
  {
   "cell_type": "markdown",
   "metadata": {},
   "source": [
    "## Discussao:\n",
    "\n",
    "- Since a Mediator becomes a repository for logic, can the code that implements this logic begin to get overly complex, possible resembling speggheti code? How could this potential problem be solved?"
   ]
  }
 ],
 "metadata": {
  "kernelspec": {
   "display_name": "design-patterns-py38",
   "language": "python",
   "name": "design-patterns-py38"
  },
  "language_info": {
   "codemirror_mode": {
    "name": "ipython",
    "version": 3
   },
   "file_extension": ".py",
   "mimetype": "text/x-python",
   "name": "python",
   "nbconvert_exporter": "python",
   "pygments_lexer": "ipython3",
   "version": "3.8.3"
  }
 },
 "nbformat": 4,
 "nbformat_minor": 4
}
