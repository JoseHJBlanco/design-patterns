{
 "cells": [
  {
   "attachments": {
    "command.gif": {
     "image/gif": "[encoded data removed]"
    }
   },
   "cell_type": "markdown",
   "metadata": {},
   "source": [
    "# Command\n",
    "\n",
    "\n",
    "## O que é?\n",
    "\n",
    "O padrao utiliza um objeto para encapsular uma requisicao a ser executada, promovendo assim o _decoupling_ entre o objeto que invoca uma acao e o objeto responsável por executá-la.\n",
    "\n",
    "## Por quê?\n",
    "\n",
    "O livro _Design Patterns_ menciona os seguintes contextos em que o padrao _Command_ pode ser útil: \n",
    "\n",
    "- Atrelar um comando a uma acao invocada em outro objeto -- por exemplo, um clique num menu\n",
    "- Permitir que requisicoes sejam armazenadas e executadas em outro momento ou contexto\n",
    "- Permitir a operacao _undo_ -- nesse caso, o _Command_ pode ser usado em conjunto com o _Memento_\n",
    "- Manter um histórico das operacoes realizadas num sistema (e possivelmente re-executarlas)\n",
    "- Contruir um sistema com base em transacoes que possuem a mesma interface\n",
    "\n",
    "## Estrutura\n",
    "\n",
    "![command.gif](attachment:command.gif)\n",
    "\n",
    "\n",
    "## Exemplo 1: Decoupling\n",
    "\n",
    "Imaginemos um processador de texto simples, com apenas duas funcoes: adicionar conteúdo a um documento e salvá-lo. \n",
    "Para salvar o documento, o usuário deve clicar em um botao. Uma implementacao ingênua, sem o uso de patterns, seria mais ou menos assim:"
   ]
  },
  {
   "cell_type": "code",
   "execution_count": 4,
   "metadata": {},
   "outputs": [],
   "source": [
    "class Document:\n",
    "    def __init__(self, content: str = \"\"):\n",
    "        self.content = content\n",
    "    \n",
    "    def write(self, text: str):\n",
    "        self.content += text\n",
    "        \n",
    "    def save(self):\n",
    "        file = open(f\"document.txt\", \"w\")\n",
    "        file.write(self.content)\n",
    "        file.close()\n",
    "\n",
    "        \n",
    "class SaveButton:\n",
    "    def __init__(self, document: Document):\n",
    "        self.document = document\n",
    "        self.label = 'save'\n",
    "    \n",
    "    def click(self):\n",
    "        document.save()\n",
    "        \n",
    "\n",
    "document = Document()\n",
    "save_button = SaveButton(document)\n",
    "document.write('Some random text')\n",
    "save_button.click()"
   ]
  },
  {
   "cell_type": "markdown",
   "metadata": {},
   "source": [
    "Um dos problemas dessa abordagem, porém, é que ela exige que o botao tenha o documento como dependência. Mais do que isso: todos os botoes precisariam de um método `click` diferente, sempre executando um ou mais métodos do documento. Em comparacao, o padrao `Command` retiraria essa responsabilidade da classe `Button`:"
   ]
  },
  {
   "cell_type": "code",
   "execution_count": 12,
   "metadata": {},
   "outputs": [],
   "source": [
    "import abc\n",
    "\n",
    "\n",
    "class Document:\n",
    "    \n",
    "    def __init__(self, content: str = \"\"):\n",
    "        self.content = content\n",
    "    \n",
    "    def write(self, text: str):\n",
    "        self.content += text\n",
    "        \n",
    "    def save(self):\n",
    "        file = open(f\"document.txt\", \"w\")\n",
    "        file.write(self.content)\n",
    "        file.close()\n",
    "    \n",
    "    \n",
    "class Command(abc.ABC):\n",
    "    \n",
    "    def __init__(self, document: Document):\n",
    "        self.document = document\n",
    "    \n",
    "    @abc.abstractmethod\n",
    "    def execute(self):\n",
    "        pass\n",
    "\n",
    "    \n",
    "class SaveCommand(Command):\n",
    "    \n",
    "    def execute(self):\n",
    "        self.document.save()\n",
    "        \n",
    "        \n",
    "class Button(abc.ABC):\n",
    "    def __init__(self, label: str, command: Command):\n",
    "        self.label = label\n",
    "        self.command = command\n",
    "        \n",
    "    def click(self):\n",
    "        self.command.execute()\n",
    "        \n",
    "\n",
    "class SaveButton(Button):\n",
    "    def __init__(self, command: SaveCommand):\n",
    "        super().__init__('save', command)\n",
    "        \n",
    "\n",
    "\n",
    "document = Document()\n",
    "save_command = SaveCommand(document)\n",
    "save_button = SaveButton(save_command)\n",
    "document.write('Some other random bit of text')\n",
    "save_button.click()"
   ]
  },
  {
   "cell_type": "markdown",
   "metadata": {},
   "source": [
    "Ao separar o objeto que invoca a acao (`Button`) do objeto responsável por executá-la (`Document`), o padrao `Command` permite que a classe `Button` seja mais enxuta e tenha menos responsabilidades. E caso desejemos disponibilizar ao usuário outra maneira de salvar o documento (com um atalho de teclado, por exemplo), podemos reaproveitar o comando.\n",
    "\n",
    "## Exemplo 2: Transacoes e macro-commands\n",
    "\n",
    "Imaginemos uma base de dados simples que permite ao usuário agregar tabelas ao schema e atualizá-las:"
   ]
  },
  {
   "cell_type": "code",
   "execution_count": 15,
   "metadata": {},
   "outputs": [
    {
     "name": "stdout",
     "output_type": "stream",
     "text": [
      "users\n",
      "\tname : var_char(256)\n",
      "\tage : int(3)\n",
      "\tgender : var_char(1)\n",
      "\n"
     ]
    }
   ],
   "source": [
    "class Database:\n",
    "    \n",
    "    def __init__(self):\n",
    "        self.schema = {}\n",
    "    \n",
    "    def create_table(self, table_name: str, fields: dict):\n",
    "        self.schema[table_name] = {name: field_type for name, field_type in fields.items()}\n",
    "        \n",
    "    def alter_table(self, table_name: str, field: dict):\n",
    "        for name, field_type in field.items():\n",
    "            self.schema[table_name][name] = field_type\n",
    "    \n",
    "    def __str__(self):\n",
    "        result = \"\"\n",
    "        for table in self.schema:\n",
    "            result += f\"{table}\\n\"\n",
    "            for field, field_type in self.schema[table].items():\n",
    "                 result += f\"\\t{field} : {field_type}\\n\"\n",
    "        return result\n",
    "\n",
    "                    \n",
    "                    \n",
    "db = Database()\n",
    "db.create_table(\"users\", {\"name\":\"var_char(256)\", \"age\":\"int(2)\",\"gender\":\"var_char(1)\"})\n",
    "db.alter_table(\"users\", {\"age\": \"int(3)\"})\n",
    "print(db)        "
   ]
  },
  {
   "cell_type": "markdown",
   "metadata": {},
   "source": [
    "Cada execucao de `create_table` e `update_table` gera uma mudanca no schema da base de dados. Com o padrao Command, poderíamos isolar essa transacao e executá-la em mais de uma base de dados (diferentes ambientes de desenvolvimento, por exemplo)."
   ]
  },
  {
   "cell_type": "code",
   "execution_count": 28,
   "metadata": {
    "scrolled": true
   },
   "outputs": [
    {
     "name": "stdout",
     "output_type": "stream",
     "text": [
      "users\n",
      "\tname : var_char(256)\n",
      "\tage : int(3)\n",
      "\tgender : var_char(1)\n",
      "\n",
      "users\n",
      "\tname : var_char(256)\n",
      "\tage : int(3)\n",
      "\tgender : var_char(1)\n",
      "\n"
     ]
    }
   ],
   "source": [
    "class Database:\n",
    "    \n",
    "    def __init__(self):\n",
    "        self.schema = {}\n",
    "    \n",
    "    def create_table(self, table_name: str, fields: dict):\n",
    "        self.schema[table_name] = {name: field_type for name, field_type in fields.items()}\n",
    "        \n",
    "    def alter_table(self, table_name: str, field: dict):\n",
    "        for name, field_type in field.items():\n",
    "            self.schema[table_name][name] = field_type\n",
    "    \n",
    "    def __str__(self):\n",
    "        result = \"\"\n",
    "        for table in self.schema:\n",
    "            result += f\"{table}\\n\"\n",
    "            for field, field_type in self.schema[table].items():\n",
    "                 result += f\"\\t{field} : {field_type}\\n\"\n",
    "        return result\n",
    "    \n",
    "    \n",
    "    \n",
    "class Migration:\n",
    "    \n",
    "    def __init__(self, db: Database, table_name: str, fields: dict):\n",
    "        self.db = db\n",
    "        self.table_name = table_name\n",
    "        self.fields = fields\n",
    "        \n",
    "    def set_db(self, db: Database):\n",
    "        self.db = db\n",
    "    \n",
    "    def execute(self):\n",
    "        if self.table_name not in self.db.schema:\n",
    "            self.db.create_table(self.table_name, self.fields)\n",
    "        else: \n",
    "            self.db.alter_table(self.table_name, self.fields)\n",
    "        \n",
    "    \n",
    "\n",
    "class TransactionHistory:\n",
    "    \n",
    "    def __init__(self):\n",
    "        self.history = []\n",
    "    \n",
    "    def create_migration(self, db: Database, table_name: str, fields: dict) -> Migration:\n",
    "        migration = Migration(db, table_name, fields)\n",
    "        self.history.append(migration)\n",
    "        return migration\n",
    "    \n",
    "    def execute_all(self,db: Database):\n",
    "        for migration in self.history:\n",
    "            migration.set_db(db)\n",
    "            migration.execute()\n",
    "                \n",
    "                    \n",
    "db = Database()\n",
    "transactions = TransactionHistory()\n",
    "\n",
    "migration1 = transactions.create_migration(db,\"users\", {\"name\":\"var_char(256)\", \"age\":\"int(2)\",\"gender\":\"var_char(1)\"})\n",
    "migration2 = transactions.create_migration(db, \"users\", {\"age\": \"int(3)\"})\n",
    "migration1.execute()\n",
    "migration2.execute()\n",
    "\n",
    "print(db)        \n",
    "\n",
    "del db\n",
    "\n",
    "\n",
    "db = Database()\n",
    "transactions.execute_all(db)\n",
    "\n",
    "print(db)        "
   ]
  },
  {
   "cell_type": "markdown",
   "metadata": {},
   "source": [
    "O método `execute_all` acima é um exemplo do que o livro chama de MacroCommand: uma classe responsável por executar uma sequência de comandos."
   ]
  },
  {
   "cell_type": "markdown",
   "metadata": {},
   "source": [
    "## Prós e contras:\n",
    "\n",
    "### Pros:\n",
    "- Promove o decoupling\n",
    "- Possibilita a criacao de um histórico de transacoes\n",
    "- Facilita operacoes de undo\n",
    "\n",
    "### Cons:\n",
    "- Aumenta a complexidade do sistema\n",
    "- Pode provocar uma explosao no número de objetos Command\n",
    "\n",
    "\n",
    "## Discussao: \n",
    "\n",
    "In the Motivation section of the Command pattern, an application's menu system is described. An application has a Menu, which in turn has MenuItems, which in turn execute commands when they are clicked. What happens if the command needs some information about the application in order to do its job? How would the command have access to such information such that new comamnds could easily be written that would also have access to the information they need?"
   ]
  }
 ],
 "metadata": {
  "kernelspec": {
   "display_name": "Python 3",
   "language": "python",
   "name": "python3"
  },
  "language_info": {
   "codemirror_mode": {
    "name": "ipython",
    "version": 3
   },
   "file_extension": ".py",
   "mimetype": "text/x-python",
   "name": "python",
   "nbconvert_exporter": "python",
   "pygments_lexer": "ipython3",
   "version": "3.7.3"
  }
 },
 "nbformat": 4,
 "nbformat_minor": 2
}
