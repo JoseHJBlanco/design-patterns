{
 "cells": [
  {
   "cell_type": "markdown",
   "metadata": {},
   "source": [
    "# Exemplo"
   ]
  },
  {
   "cell_type": "markdown",
   "metadata": {},
   "source": [
    "Esse eh um exemplo um pouco mais real (na teoria, nao ta nada implementado) sobre um cenario em que o decorator pattern seria util.\n",
    "\n",
    "Imaginando uma aplicacao onde temos que renderizar varios elementos (um browser por exemplo), podemos ter diversos componentes visuais que em si se comportam de forma completamente diferente no quesito renderizacao (em uma imagem voce precisa \"pintar\" os pixels enquanto em um texto voce precisa desenhar cada caracter baseado em seu tamanho e fonte), mas na logica do browser esses elementos podem ter alguns addons (uma barra de rolage, bordas, etc) que adicionariam um comportamento especifico para cada componente visual mas que se comportariam da mesma forma independente do que o elemento visual eh de fato."
   ]
  },
  {
   "cell_type": "code",
   "execution_count": 3,
   "metadata": {},
   "outputs": [],
   "source": [
    "class VisualComponent:\n",
    "\n",
    "    def draw(self):\n",
    "        pass\n",
    "\n",
    "class Text(VisualComponent):\n",
    "\n",
    "    def draw(self):\n",
    "        return \"Write the text\"\n",
    "\n",
    "class Image(VisualComponent):\n",
    "\n",
    "    def draw(self):\n",
    "        return \"Paint the image\"\n",
    "\n",
    "class Decorator(VisualComponent):\n",
    "    _component: VisualComponent = None\n",
    "\n",
    "    def __init__(self, component: VisualComponent) -> None:\n",
    "        self._component = component\n",
    "\n",
    "    @property\n",
    "    def component(self) -> str:\n",
    "        \"\"\"\n",
    "        The Decorator delegates all work to the wrapped component.\n",
    "        \"\"\"\n",
    "\n",
    "        return self._component\n",
    "\n",
    "    def draw(self):\n",
    "        return self._component.draw()\n",
    "\n",
    "\n",
    "class ScrollDecorator(Decorator):\n",
    "    _position: int = 0\n",
    "\n",
    "    def _drawScrollBar(self):\n",
    "        pass\n",
    "\n",
    "    def draw(self):\n",
    "        self.component.draw()\n",
    "        self._drawScrollBar()\n",
    "\n",
    "    def scrollTo(self, pos: int):\n",
    "        self._position = pos\n",
    "        \n",
    "\n",
    "class BorderDecorator(Decorator):\n",
    "    _width: int = 0\n",
    "\n",
    "    def __init__(self, component: VisualComponent, witdh: int) -> None:\n",
    "        self._component = component\n",
    "        self._width = witdh\n",
    "\n",
    "    def _drawBorder(self):\n",
    "        pass\n",
    "\n",
    "    def draw(self):\n",
    "        self.component.draw()\n",
    "        self._drawBorder()\n",
    "    \n",
    "        "
   ]
  }
 ],
 "metadata": {
  "kernelspec": {
   "display_name": "Python 3",
   "language": "python",
   "name": "python3"
  },
  "language_info": {
   "codemirror_mode": {
    "name": "ipython",
    "version": 3
   },
   "file_extension": ".py",
   "mimetype": "text/x-python",
   "name": "python",
   "nbconvert_exporter": "python",
   "pygments_lexer": "ipython3",
   "version": "3.7.2-final"
  }
 },
 "nbformat": 4,
 "nbformat_minor": 2
}