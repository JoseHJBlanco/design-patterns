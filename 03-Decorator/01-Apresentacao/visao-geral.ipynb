{
 "cells": [
  {
   "cell_type": "markdown",
   "metadata": {},
   "source": [
    "# Decorator"
   ]
  },
  {
   "cell_type": "markdown",
   "metadata": {},
   "source": [
    "## Objetivo"
   ]
  },
  {
   "cell_type": "markdown",
   "metadata": {},
   "source": [
    "O objetivo do \"Decorator Pattern\" é adicionar comportamento/estado a um objeto de forma dinamica (sem modificar o objeto)."
   ]
  },
  {
   "cell_type": "markdown",
   "metadata": {},
   "source": [
    "## Estrutura\n",
    "\n",
    "![struct](https://www.dofactory.com/images/diagrams/net/decorator.gif)"
   ]
  },
  {
   "cell_type": "markdown",
   "metadata": {},
   "source": [
    "## Detalhes de implementação\n",
    "\n",
    "### Sendo e tendo um objeto\n",
    "\n",
    "Para atingir o objetivo de adicionar comportamento a um objeto dinamicamente:\n",
    "\n",
    "1 - O decorator implementanda a classe do objeto que ele quer decorar, sendo assim, o decorator pode ser tratado como o objeto decorado.\n",
    "\n",
    "2 - O decorator possui uma referencia ao objeto decorado, para que junto com o comportamento que o decorator esta adicionando ele possa chamar o comportamento do objeto decorado.\n",
    "\n"
   ]
  },
  {
   "cell_type": "markdown",
   "metadata": {},
   "source": [
    "## Exemplo"
   ]
  },
  {
   "cell_type": "markdown",
   "metadata": {},
   "source": [
    "Um exemplo ludico (bom para aprender mas nada parecido com a vida real) de uso do padrão Decorator seria o menu de uma cafeteria hipster: "
   ]
  },
  {
   "cell_type": "code",
   "execution_count": 6,
   "metadata": {},
   "outputs": [
    {
     "output_type": "stream",
     "name": "stdout",
     "text": "Beverage:  Coffee Price:  2\nBeverage:  Tea Price:  1\nBeverage:  Coffee with milk Price:  3\nBeverage:  Tea with milk Price:  2\n"
    }
   ],
   "source": [
    "class Beverage:\n",
    "\n",
    "    def describe(self):\n",
    "        return \"\"\n",
    "\n",
    "    def price(self):\n",
    "        return 0\n",
    "\n",
    "class Coffee(Beverage):\n",
    "\n",
    "    def describe(self):\n",
    "        return \"Coffee\"\n",
    "\n",
    "    def price(self):\n",
    "        return 2\n",
    "\n",
    "class Tea(Beverage):\n",
    "\n",
    "    def describe(self):\n",
    "        return \"Tea\"\n",
    "\n",
    "    def price(self):\n",
    "        return 1\n",
    "\n",
    "class CoffeeWithMilk(Beverage):\n",
    "\n",
    "    def describe(self):\n",
    "        return \"Coffee with milk\"\n",
    "\n",
    "    def price(self):\n",
    "        return 3\n",
    "\n",
    "class TeaWithMilk(Beverage):\n",
    "\n",
    "    def describe(self):\n",
    "        return \"Tea with milk\"\n",
    "\n",
    "    def price(self):\n",
    "        return 2\n",
    "\n",
    "\n",
    "\n",
    "\n",
    "coffee = Coffee()\n",
    "tea = Tea()\n",
    "coffee_m = CoffeeWithMilk()\n",
    "tea_m = TeaWithMilk()\n",
    "\n",
    "print(\"Beverage: \",coffee.describe(), \"Price: \", coffee.price())\n",
    "print(\"Beverage: \",tea.describe(), \"Price: \", tea.price())\n",
    "print(\"Beverage: \",coffee_m.describe(), \"Price: \", coffee_m.price())\n",
    "print(\"Beverage: \",tea_m.describe(), \"Price: \", tea_m.price())"
   ]
  },
  {
   "cell_type": "markdown",
   "metadata": {},
   "source": [
    "Podemos ver algumas coisas aqui: \n",
    "\n",
    "1 - eu nao sei implementar uma interface/abstract class em python (nem usar acentuacao nesse teclado).\n",
    "\n",
    "2 - com esse modelo temos que criar uma classe nova a cada nova variacao do \"cardapio\" e, como somos uma cafeteria hipster, teremos uma explosao de classes ao implementar todas as possiveis variacoes do cardapio.\n",
    "\n",
    "3 - nao estamos reutilizando codigo, se mudarmos o preco do cafe (por exemplo) teriamos que mudar todas as classes que possuem cafe em sua composicao.\n",
    "\n",
    "\n",
    "A seguir vamos implementar esse menu usando o Decorator pattern. Para isso teremos uma classe abstrata/interface chamada Beverage, ela sera implementada pela classes Coffee e Tea (as bebidas base), para os \"addons\" iremos definir um decorator que sera uma classe abstrata/intreface que implementa a classe Beverage e possui referencia a um objeto da mesma classe\n",
    "\n",
    "\n"
   ]
  },
  {
   "cell_type": "code",
   "execution_count": 9,
   "metadata": {},
   "outputs": [
    {
     "output_type": "stream",
     "name": "stdout",
     "text": "Beverage:  Coffee Price:  2\nBeverage:  Coffee with boose Price:  5\nBeverage:  Coffee with boose with milk Price:  6\nBeverage:  Tea with milk Price:  2\n"
    }
   ],
   "source": [
    "class Beverage:\n",
    "\n",
    "    def describe(self):\n",
    "        return \"\"\n",
    "\n",
    "    def price(self):\n",
    "        return 0\n",
    "\n",
    "class Coffee(Beverage):\n",
    "\n",
    "    def describe(self):\n",
    "        return \"Coffee\"\n",
    "\n",
    "    def price(self):\n",
    "        return 2\n",
    "\n",
    "class Tea(Beverage):\n",
    "\n",
    "    def describe(self):\n",
    "        return \"Tea\"\n",
    "\n",
    "    def price(self):\n",
    "        return 1\n",
    "\n",
    "class Decorator(Beverage):\n",
    "    _beverage: Beverage = None\n",
    "\n",
    "    def __init__(self, beverage: Beverage) -> None:\n",
    "        self._beverage = beverage\n",
    "\n",
    "    @property\n",
    "    def beverage(self) -> str:\n",
    "        \"\"\"\n",
    "        The Decorator delegates all work to the wrapped beverage.\n",
    "        \"\"\"\n",
    "\n",
    "        return self._beverage\n",
    "\n",
    "    def describe(self) -> str:\n",
    "        return self._beverage.describe()\n",
    "\n",
    "    def price(self) -> int:\n",
    "        return self._beverage.price()\n",
    "\n",
    "class MilkDecorator(Decorator):\n",
    "    \"\"\"\n",
    "    Concrete Decorators call the wrapped object and alter its result.\n",
    "    \"\"\"\n",
    "\n",
    "    def describe(self) -> str:\n",
    "        return f\"{self.beverage.describe()} with milk\"\n",
    "\n",
    "    def price(self) -> int:\n",
    "        return self.beverage.price() + 1\n",
    "\n",
    "class IrishDecorator(Decorator):\n",
    "    \"\"\"\n",
    "    Concrete Decorators call the wrapped object and alter its result.\n",
    "    \"\"\"\n",
    "\n",
    "    def describe(self) -> str:\n",
    "        return f\"{self.beverage.describe()} with boose\"\n",
    "\n",
    "    def price(self) -> int:\n",
    "        return self.beverage.price() + 3\n",
    "\n",
    "coffee = Coffee()\n",
    "irishCoffe = IrishDecorator(Coffee())\n",
    "milkIrishCoffe = MilkDecorator(IrishDecorator(Coffee()))\n",
    "milkTea = MilkDecorator(Tea())\n",
    "\n",
    "print(\"Beverage: \",coffee.describe(), \"Price: \", coffee.price())\n",
    "print(\"Beverage: \",irishCoffe.describe(), \"Price: \", irishCoffe.price())\n",
    "print(\"Beverage: \",milkIrishCoffe.describe(), \"Price: \", milkIrishCoffe.price())\n",
    "print(\"Beverage: \",milkTea.describe(), \"Price: \", milkTea.price())\n",
    "\n"
   ]
  },
  {
   "cell_type": "markdown",
   "metadata": {},
   "source": [
    "Vemos como com o decorator pattern nos conseguimos incluir mais combinacoes com menos codigo, alem do que a separacao de responsabilidade esta melhor (se subir o preco do cafe soh precisamos mudar a classe cafe)"
   ]
  },
  {
   "cell_type": "markdown",
   "metadata": {},
   "source": [
    "## Vantagens e desvantagens\n",
    "\n",
    "### Pros:\n",
    "- Evita explosao de classes (quando o numero de classes cresce alem do administravel)\n",
    "- Possibilita a composicao do objeto em lugar da heranca para definir comportamento\n",
    "- Ajuda com a separacao de atribuicoes no codigo (interface segregation)\n",
    "- Possibilita mudar o comportamento de um objeto sem necessidade de altera-lo\n",
    "\n",
    "### Cons:\n",
    "- Aumenta a complexidade do codigo. Podemos perder a nocao do que o objeto realmente faz (se decorarmos o decorado do decorado do objeto)\n"
   ]
  }
 ],
 "metadata": {
  "kernelspec": {
   "display_name": "Python 3.7.2 64-bit",
   "language": "python",
   "name": "python37264bite6ee5a9e00e94593b23adb5b1b967260"
  },
  "language_info": {
   "codemirror_mode": {
    "name": "ipython",
    "version": 3
   },
   "file_extension": ".py",
   "mimetype": "text/x-python",
   "name": "python",
   "nbconvert_exporter": "python",
   "pygments_lexer": "ipython3",
   "version": "3.7.2-final"
  }
 },
 "nbformat": 4,
 "nbformat_minor": 2
}