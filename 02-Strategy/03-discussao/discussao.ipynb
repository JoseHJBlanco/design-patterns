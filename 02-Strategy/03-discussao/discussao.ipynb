{
 "cells": [
  {
   "cell_type": "markdown",
   "metadata": {},
   "source": [
    "## Discussão\n",
    "\n",
    "### 1. O que acontece quando um sistema tem uma explosão na quantidade de subclasses _Strategy_? Há uma melhor maneira de administrá-las?\n",
    "\n",
    "### 2. Os autores de _Design Patterns_ descrevem duas maneiras para que o objeto Strategy tenha acesso às informações de contexto necessárias para fazer seu trabalho. Uma delas envolve passar ao Strategy uma referência ao contexto. Mas existiria a possibilidade de que os dados necessários para o objeto Strategy não estejam disponíveis no contexto? Como lidar com esse potencial problema?"
   ]
  }
 ],
 "metadata": {
  "kernelspec": {
   "display_name": "Python 3",
   "language": "python",
   "name": "python3"
  },
  "language_info": {
   "codemirror_mode": {
    "name": "ipython",
    "version": 3
   },
   "file_extension": ".py",
   "mimetype": "text/x-python",
   "name": "python",
   "nbconvert_exporter": "python",
   "pygments_lexer": "ipython3",
   "version": "3.7.3"
  }
 },
 "nbformat": 4,
 "nbformat_minor": 2
}
