{
 "cells": [
  {
   "cell_type": "markdown",
   "metadata": {},
   "source": [
    "# Strategy"
   ]
  },
  {
   "cell_type": "markdown",
   "metadata": {},
   "source": [
    "## O que é?"
   ]
  },
  {
   "cell_type": "markdown",
   "metadata": {},
   "source": [
    "O padrao _Strategy_ permite que objetos criados por uma classe tenham comportamentos diferentes para o mesmo método sem que o comportamento esteja atrelado à lógica da subclasse. Ele também permite que o comportamento mude durante o runtime."
   ]
  },
  {
   "cell_type": "markdown",
   "metadata": {},
   "source": [
    "## Problema a ser resolvido"
   ]
  },
  {
   "cell_type": "markdown",
   "metadata": {},
   "source": [
    "Objetos da mesma classe precisam executar uma determinada acao de maneiras diferentes, mantendo a flexibilidade e evitando "
   ]
  },
  {
   "cell_type": "markdown",
   "metadata": {},
   "source": [
    "## Exemplo"
   ]
  },
  {
   "cell_type": "markdown",
   "metadata": {},
   "source": [
    "Um exemplo clássico de uso do padrao Strategy seria a criacao de personagens num jogo no estilo RPG. Suponhamos que o jogo tenha personagens com as seguintes características: "
   ]
  },
  {
   "cell_type": "code",
   "execution_count": 5,
   "metadata": {},
   "outputs": [
    {
     "name": "stdout",
     "output_type": "stream",
     "text": [
      "Player1 is killing you\n",
      "Player2 is killing you\n",
      "Player3 is killing you\n"
     ]
    }
   ],
   "source": [
    "class Character:\n",
    "    def __init__(self, name, job):\n",
    "        self.name = name\n",
    "        self.job = job\n",
    "    \n",
    "    def attack(self):\n",
    "        print(f\"{self.name} is killing you\")\n",
    "\n",
    "\n",
    "c1 = Character('Player1', 'Fighter')\n",
    "c2 = Character('Player2', 'Black Mage')\n",
    "c3 = Character('Player3', 'Bard')\n",
    "\n",
    "c1.attack()\n",
    "c2.attack()\n",
    "c3.attack()"
   ]
  },
  {
   "cell_type": "markdown",
   "metadata": {},
   "source": [
    "Vamos supor que queremos implementar métodos de ataque distintos para cada job. Uma implementacao naive seria a seguinte:"
   ]
  },
  {
   "cell_type": "code",
   "execution_count": 6,
   "metadata": {},
   "outputs": [
    {
     "name": "stdout",
     "output_type": "stream",
     "text": [
      "Player1 is killing you with his mighty fists\n",
      "Player2 is killing you with the power of magic\n",
      "Player3 is killing you with the power of music\n"
     ]
    }
   ],
   "source": [
    "class Character:\n",
    "    def __init__(self, name, job):\n",
    "        self.name = name\n",
    "        self.job = job\n",
    "    \n",
    "    def attack(self):\n",
    "        if self.job == 'Fighter':\n",
    "            print(f\"{self.name} is killing you with his mighty fists\")\n",
    "        if self.job == 'Black Mage':\n",
    "            print(f\"{self.name} is killing you with the power of magic\")\n",
    "        if self.job == 'Bard':\n",
    "            print(f\"{self.name} is killing you with the power of music\")\n",
    "            \n",
    "c1 = Character('Player1', 'Fighter')\n",
    "c2 = Character('Player2', 'Black Mage')\n",
    "c3 = Character('Player3', 'Bard')\n",
    "\n",
    "c1.attack()\n",
    "c2.attack()\n",
    "c3.attack()"
   ]
  },
  {
   "cell_type": "markdown",
   "metadata": {},
   "source": [
    "É fácil ver como a complexidade do método `attack` pode explodir com a criacao de novos jobs ou métodos de ataque. Uma maneira otimista de contornar isso seria usando inheritance e criando subclasses para cada job"
   ]
  },
  {
   "cell_type": "code",
   "execution_count": 7,
   "metadata": {},
   "outputs": [
    {
     "name": "stdout",
     "output_type": "stream",
     "text": [
      "Player1 is killing you with his mighty fists\n",
      "Player2 is killing you with the power of magic\n",
      "Player3 is killing you with the power of music\n"
     ]
    }
   ],
   "source": [
    "class Character:\n",
    "    def __init__(self, name, job):\n",
    "        self.name = name\n",
    "        self.job = job\n",
    "    \n",
    "    def attack(self):\n",
    "        pass\n",
    "\n",
    "class Fighter(Character):\n",
    "    def __init__(self, name):\n",
    "        super().__init__(name,\"Fighter\")\n",
    "    \n",
    "    def attack(self):\n",
    "        print(f\"{self.name} is killing you with his mighty fists\")\n",
    "\n",
    "class BlackMage(Character):\n",
    "    def __init__(self, name):\n",
    "        super().__init__(name,\"Black Mage\")\n",
    "    \n",
    "    def attack(self):\n",
    "        print(f\"{self.name} is killing you with the power of magic\")\n",
    "\n",
    "class Bard(Character):\n",
    "    def __init__(self, name):\n",
    "        super().__init__(name,\"Bard\")\n",
    "    \n",
    "    def attack(self):\n",
    "        print(f\"{self.name} is killing you with the power of music\")\n",
    "\n",
    "c1 = Fighter('Player1')\n",
    "c2 = BlackMage('Player2')\n",
    "c3 = Bard('Player3')\n",
    "\n",
    "c1.attack()\n",
    "c2.attack()\n",
    "c3.attack()"
   ]
  },
  {
   "cell_type": "code",
   "execution_count": null,
   "metadata": {},
   "outputs": [],
   "source": []
  }
 ],
 "metadata": {
  "kernelspec": {
   "display_name": "Python 3",
   "language": "python",
   "name": "python3"
  },
  "language_info": {
   "codemirror_mode": {
    "name": "ipython",
    "version": 3
   },
   "file_extension": ".py",
   "mimetype": "text/x-python",
   "name": "python",
   "nbconvert_exporter": "python",
   "pygments_lexer": "ipython3",
   "version": "3.7.3"
  }
 },
 "nbformat": 4,
 "nbformat_minor": 2
}
