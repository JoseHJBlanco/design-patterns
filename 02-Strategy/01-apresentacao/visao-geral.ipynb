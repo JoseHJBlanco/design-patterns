{
 "cells": [
  {
   "cell_type": "markdown",
   "metadata": {},
   "source": [
    "# Strategy"
   ]
  },
  {
   "cell_type": "markdown",
   "metadata": {},
   "source": [
    "## O que é?"
   ]
  },
  {
   "cell_type": "markdown",
   "metadata": {},
   "source": [
    "A ideia do padrao _Strategy_ é definir uma família de métodos, encapsulá-los e permitir que eles sejam intercambiáveis."
   ]
  },
  {
   "cell_type": "markdown",
   "metadata": {},
   "source": [
    "## Exemplo"
   ]
  },
  {
   "cell_type": "markdown",
   "metadata": {},
   "source": [
    "Um exemplo clássico de uso do padrao Strategy seria a criacao de personagens num jogo no estilo RPG. Suponhamos que o jogo tenha personagens com as seguintes características: "
   ]
  },
  {
   "cell_type": "code",
   "execution_count": 4,
   "metadata": {},
   "outputs": [
    {
     "name": "stdout",
     "output_type": "stream",
     "text": [
      "Player1 is killing you\n",
      "Player2 is killing you\n",
      "Player3 is killing you\n"
     ]
    }
   ],
   "source": [
    "class Character:\n",
    "    \n",
    "    def __init__(self, name: str, job: str):\n",
    "        self.name = name\n",
    "        self.job = job\n",
    "    \n",
    "    def attack(self):\n",
    "        print(f\"{self.name} is killing you\")\n",
    "\n",
    "\n",
    "c1 = Character('Player1', 'Fighter')\n",
    "c2 = Character('Player2', 'Black Mage')\n",
    "c3 = Character('Player3', 'Bard')\n",
    "\n",
    "c1.attack()\n",
    "c2.attack()\n",
    "c3.attack()"
   ]
  },
  {
   "cell_type": "markdown",
   "metadata": {},
   "source": [
    "Vamos supor que queremos implementar métodos de ataque distintos para cada job. Uma implementacao naive seria a seguinte:"
   ]
  },
  {
   "cell_type": "code",
   "execution_count": 6,
   "metadata": {},
   "outputs": [
    {
     "name": "stdout",
     "output_type": "stream",
     "text": [
      "Player1 is killing you with his mighty fists\n",
      "Player2 is killing you with the power of magic\n",
      "Player3 is killing you with the power of music\n"
     ]
    }
   ],
   "source": [
    "class Character:\n",
    "    def __init__(self, name: str, job: str):\n",
    "        self.name = name\n",
    "        self.job = job\n",
    "    \n",
    "    def attack(self):\n",
    "        if self.job == 'Fighter':\n",
    "            print(f\"{self.name} is killing you with his mighty fists\")\n",
    "        if self.job == 'Black Mage':\n",
    "            print(f\"{self.name} is killing you with the power of magic\")\n",
    "        if self.job == 'Bard':\n",
    "            print(f\"{self.name} is killing you with the power of music\")\n",
    "            \n",
    "c1 = Character('Player1', 'Fighter')\n",
    "c2 = Character('Player2', 'Black Mage')\n",
    "c3 = Character('Player3', 'Bard')\n",
    "\n",
    "c1.attack()\n",
    "c2.attack()\n",
    "c3.attack()"
   ]
  },
  {
   "cell_type": "markdown",
   "metadata": {},
   "source": [
    "É fácil ver como a complexidade do método `attack` pode explodir com a criacao de novos jobs ou métodos de ataque. Uma maneira otimista de contornar isso seria usando inheritance e criando subclasses para cada job"
   ]
  },
  {
   "cell_type": "code",
   "execution_count": 3,
   "metadata": {},
   "outputs": [
    {
     "name": "stdout",
     "output_type": "stream",
     "text": [
      "Player1 is killing you with his mighty fists\n",
      "Player2 is killing you with the power of magic\n",
      "Player3 is killing you with the power of music\n"
     ]
    }
   ],
   "source": [
    "import abc\n",
    "\n",
    "\n",
    "class Character(abc.ABC):\n",
    "    \n",
    "    def __init__(self, name: str, job: str):\n",
    "        self.name = name\n",
    "        self.job = job\n",
    "    \n",
    "    @abc.abstractmethod\n",
    "    def attack(self):\n",
    "        pass\n",
    "\n",
    "class Fighter(Character):\n",
    "\n",
    "    def __init__(self, name: str):\n",
    "        super().__init__(name, \"Fighter\")\n",
    "    \n",
    "    def attack(self):\n",
    "        print(f\"{self.name} is killing you with his mighty fists\")\n",
    "\n",
    "class BlackMage(Character):\n",
    "    \n",
    "    def __init__(self, name: str):\n",
    "        super().__init__(name, \"Black Mage\")\n",
    "    \n",
    "    def attack(self):\n",
    "        print(f\"{self.name} is killing you with the power of magic\")\n",
    "\n",
    "class Bard(Character):\n",
    "    \n",
    "    def __init__(self, name: str):\n",
    "        super().__init__(name, \"Bard\")\n",
    "    \n",
    "    def attack(self):\n",
    "        print(f\"{self.name} is killing you with the power of music\")\n",
    "\n",
    "c1 = Fighter('Player1')\n",
    "c2 = BlackMage('Player2')\n",
    "c3 = Bard('Player3')\n",
    "\n",
    "c1.attack()\n",
    "c2.attack()\n",
    "c3.attack()"
   ]
  },
  {
   "cell_type": "markdown",
   "metadata": {},
   "source": [
    "O uso de subclasses evita a complexidade do método `attack`, mas cria novos problemas: se desejássemos introduzir _power-ups_ ou armas para mudar o método `attack`, teríamos que reestruturar todo o código. O mesmo aconteceria se quiséssemos permitir que os personagens mudassem de job ao longo do jogo."
   ]
  },
  {
   "cell_type": "markdown",
   "metadata": {},
   "source": [
    "## Usando o padrao Strategy"
   ]
  },
  {
   "cell_type": "code",
   "execution_count": 15,
   "metadata": {},
   "outputs": [
    {
     "name": "stdout",
     "output_type": "stream",
     "text": [
      "Player1 is killing you with his mighty fists\n",
      "Player2 is killing you with the power of magic\n",
      "Player3 is killing you with the power of music\n"
     ]
    }
   ],
   "source": [
    "import abc\n",
    "\n",
    "\n",
    "class AttackStrategy(abc.ABC):\n",
    "    \n",
    "    def __init__(self, character: Character):\n",
    "        self.character = character\n",
    "        \n",
    "    def attack(self):\n",
    "        pass\n",
    "\n",
    "    \n",
    "class FistAttackStrategy(AttackStrategy):\n",
    "    \n",
    "    def attack(self):\n",
    "        print(f\"{self.character.name} is killing you with his mighty fists\")\n",
    "        \n",
    "        \n",
    "class MagicAttackStrategy(AttackStrategy):\n",
    "    \n",
    "    def attack(self):\n",
    "        print(f\"{self.character.name} is killing you with the power of magic\")  \n",
    "\n",
    "        \n",
    "class MusicAttackStrategy(AttackStrategy):\n",
    "    \n",
    "    def attack(self):\n",
    "        print(f\"{self.character.name} is killing you with the power of music\")         \n",
    "        \n",
    "        \n",
    "class Character(abc.ABC):\n",
    "    \n",
    "    def __init__(self, name: str, job: str):\n",
    "        self.name = name\n",
    "        self.job = job\n",
    "        self.attack_strategy = AttackStrategy(self)\n",
    "    \n",
    "    def attack(self):\n",
    "        self.attack_strategy.attack()\n",
    "         \n",
    "\n",
    "class Fighter(Character):\n",
    "\n",
    "    def __init__(self, name: str):\n",
    "        super().__init__(name, \"Fighter\")\n",
    "        self.attack_strategy = FistAttackStrategy(self)\n",
    "        \n",
    "\n",
    "class BlackMage(Character):\n",
    "    \n",
    "    def __init__(self, name: str):\n",
    "        super().__init__(name, \"Black Mage\")\n",
    "        self.attack_strategy = MagicAttackStrategy(self)\n",
    "\n",
    "        \n",
    "class Bard(Character):\n",
    "    \n",
    "    def __init__(self, name: str):\n",
    "        super().__init__(name, \"Bard\")\n",
    "        self.attack_strategy = MusicAttackStrategy(self)\n",
    "    \n",
    "    \n",
    "\n",
    "c1 = Fighter('Player1')\n",
    "c2 = BlackMage('Player2')\n",
    "c3 = Bard('Player3')\n",
    "\n",
    "c1.attack()\n",
    "c2.attack()\n",
    "c3.attack()\n"
   ]
  },
  {
   "cell_type": "markdown",
   "metadata": {},
   "source": [
    "A primeira vista, estamos usando muito mais código para atingir o mesmo resultado. No entanto, o uso do _strategy pattern_ nos permite ter muito mais flexibilidade. Se o nosso _fighter_ decidir estudar magia negra nas horas vagas, por exemplo, nosso jogo permite isso sem problemas."
   ]
  },
  {
   "cell_type": "code",
   "execution_count": 19,
   "metadata": {},
   "outputs": [
    {
     "name": "stdout",
     "output_type": "stream",
     "text": [
      "Player1 is killing you with the power of magic\n"
     ]
    }
   ],
   "source": [
    "c1.attack_strategy = MagicAttackStrategy(c1)\n",
    "c1.attack()"
   ]
  },
  {
   "cell_type": "markdown",
   "metadata": {},
   "source": [
    "Se desejamos criar um power-up ̣_fireball_, por exemplo, só precisamos adicionar uma nova classe `AttackStrategy`. Nao é necessário fazer qualquer mudanca à classe `Character`."
   ]
  },
  {
   "cell_type": "code",
   "execution_count": 20,
   "metadata": {},
   "outputs": [
    {
     "name": "stdout",
     "output_type": "stream",
     "text": [
      "Player2 is killing you with FIRE\n"
     ]
    }
   ],
   "source": [
    "class FireballAttackStrategy(AttackStrategy):\n",
    "\n",
    "    def attack(self):\n",
    "        print(f\"{self.character.name} is killing you with FIRE\")\n",
    "\n",
    "        \n",
    "c2.attack_strategy = FireballAttackStrategy(c2)\n",
    "c2.attack()\n",
    "    "
   ]
  },
  {
   "cell_type": "markdown",
   "metadata": {},
   "source": [
    "## Vantagens e desvantagens\n",
    "\n",
    "### Pros:\n",
    "- Aumenta a flexibilidade \n",
    "- Reduz a complexidade da classe que implementa o método\n",
    "- Desacopla o código de uma classe específica\n",
    "\n",
    "### Cons:\n",
    "- Força a criação de novas classes\n",
    "- Adiciona complexidade à criacao de objeto"
   ]
  },
  {
   "cell_type": "markdown",
   "metadata": {},
   "source": [
    "## Estrutura\n",
    "\n",
    "![struct](https://www.dofactory.com/images/diagrams/net/strategy.gif)"
   ]
  },
  {
   "cell_type": "markdown",
   "metadata": {},
   "source": [
    "## Detalhes de implementacao\n",
    "\n",
    "### Acessando a informacoes do contexto\n",
    "\n",
    "Para que o padrao _Strategy_ funcione, é necessário que o objeto Strategy tenha acesso às propriedades do cliente que o implementa. O livro _Design Patterns_ descreve duas maneiras de solucionar esse problema:\n",
    "\n",
    "1 - Passar os detalhes de cliente como parâmetros para os métodos do objeto Strategy. Isso reduz a interdependência entre a classe Strategy e o cliente, mas dá ao cliente a responsabilidade adicional de passar a informacao ao método Strategy.\n",
    "\n",
    "2 - Passar o cliente em si como parâmetro para o objeto Strategy dar à classe Strategy a responsabilidade de extrair a informacao necessária. Essa foi a opcao adotada no exemplo acima. O benefício dessa solucao é que ela reduz as responsabilidades do cliente, embora aumente a interdependencia entre a classe Strategy e o cliente.\n",
    "\n",
    "### Uso em conjunto com _Factory Method_\n",
    "\n",
    "Por aumentar a complexidade da criacao dos objetos que o implementam, o padrao _Strategy_ é um bom candidato para uso em conjunto com o _Factory Method_"
   ]
  }
 ],
 "metadata": {
  "kernelspec": {
   "display_name": "Python 3",
   "language": "python",
   "name": "python3"
  },
  "language_info": {
   "codemirror_mode": {
    "name": "ipython",
    "version": 3
   },
   "file_extension": ".py",
   "mimetype": "text/x-python",
   "name": "python",
   "nbconvert_exporter": "python",
   "pygments_lexer": "ipython3",
   "version": "3.7.3"
  }
 },
 "nbformat": 4,
 "nbformat_minor": 2
}
