{
 "cells": [
  {
   "cell_type": "markdown",
   "metadata": {},
   "source": [
    "# Refactor"
   ]
  },
  {
   "cell_type": "code",
   "execution_count": 3,
   "metadata": {
    "scrolled": false
   },
   "outputs": [
    {
     "name": "stdout",
     "output_type": "stream",
     "text": [
      "<ol>\n",
      "\t<li>Factory</li>\n",
      "\t<li>Strategy</li>\n",
      "\t<li>Decorator</li>\n",
      "</ol>\n",
      "\n",
      "<ul>\n",
      "\t<li>Factory</li>\n",
      "\t<li>Strategy</li>\n",
      "\t<li>Decorator</li>\n",
      "</ul>\n",
      "\n",
      "- Factory\n",
      "- Strategy\n",
      "- Decorator\n"
     ]
    }
   ],
   "source": [
    "import abc\n",
    "\n",
    "\n",
    "class RenderStrategy(abc.ABC):\n",
    "    \n",
    "    @abc.abstractmethod\n",
    "    def render(self, lst: list):\n",
    "        pass\n",
    "\n",
    "    \n",
    "class UnorderedRenderStrategy(RenderStrategy):\n",
    "\n",
    "    def render(self, lst: list):\n",
    "        html_string = '<ul>\\n'\n",
    "        for element in lst:\n",
    "            html_string += f\"\\t<li>{element}</li>\\n\"\n",
    "        html_string += '</ul>'\n",
    "        print(html_string)\n",
    "\n",
    "        \n",
    "class OrderedRenderStrategy(RenderStrategy):\n",
    "    \n",
    "    def render(self, lst: list):\n",
    "        html_string = '<ol>\\n'\n",
    "        for element in lst:\n",
    "            html_string += f\"\\t<li>{element}</li>\\n\"\n",
    "        html_string += '</ol>'\n",
    "        print(html_string)\n",
    "        \n",
    "        \n",
    "class MarkdownRenderStrategy(RenderStrategy):\n",
    "    \n",
    "    def render(self, lst: list):\n",
    "        markdown_string = '\\n'.join(f\"- {element}\" for element in lst)\n",
    "        print(markdown_string)\n",
    "\n",
    "\n",
    "class FormattedList:\n",
    "    \n",
    "    def __init__(self, render_strategy: 'RenderStrategy'):\n",
    "        self.list = []\n",
    "        self.render_strategy = render_strategy\n",
    "    \n",
    "    def add(self, item: str):\n",
    "        self.list.append(item)\n",
    "    \n",
    "    def render(self):\n",
    "        self.render_strategy.render(self.list)\n",
    "\n",
    "    @staticmethod\n",
    "    def make_ordered_list() -> 'FormattedList':\n",
    "        return FormattedList(OrderedRenderStrategy())\n",
    "    \n",
    "    @staticmethod\n",
    "    def make_unordered_list() -> 'FormattedList':\n",
    "        return FormattedList(UnorderedRenderStrategy())\n",
    "\n",
    "    @staticmethod\n",
    "    def make_markdown_list() -> 'FormattedList':\n",
    "        return FormattedList(MarkdownRenderStrategy())\n",
    "   \n",
    "\n",
    "l = FormattedList.make_ordered_list()\n",
    "l.add('Factory')\n",
    "l.add('Strategy')\n",
    "l.add('Decorator')\n",
    "l.render()\n",
    "print()\n",
    "\n",
    "# Changing render strategy at runtime\n",
    "l.render_strategy = UnorderedRenderStrategy()\n",
    "l.render()\n",
    "print()\n",
    "\n",
    "l.render_strategy = MarkdownRenderStrategy()\n",
    "l.render()\n"
   ]
  }
 ],
 "metadata": {
  "kernelspec": {
   "display_name": "Python 3",
   "language": "python",
   "name": "python3"
  },
  "language_info": {
   "codemirror_mode": {
    "name": "ipython",
    "version": 3
   },
   "file_extension": ".py",
   "mimetype": "text/x-python",
   "name": "python",
   "nbconvert_exporter": "python",
   "pygments_lexer": "ipython3",
   "version": "3.7.3"
  }
 },
 "nbformat": 4,
 "nbformat_minor": 2
}
