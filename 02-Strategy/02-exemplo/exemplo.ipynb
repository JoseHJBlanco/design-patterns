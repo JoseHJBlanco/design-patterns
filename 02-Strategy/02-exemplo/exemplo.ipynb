{
 "cells": [
  {
   "cell_type": "markdown",
   "metadata": {},
   "source": [
    "# Exemplo"
   ]
  },
  {
   "cell_type": "markdown",
   "metadata": {},
   "source": [
    "Neste exemplo, temos uma classe `FormattedList` com um método `render`, que gera uma string HTML a partir do conteúdo da lista."
   ]
  },
  {
   "cell_type": "code",
   "execution_count": 5,
   "metadata": {},
   "outputs": [
    {
     "name": "stdout",
     "output_type": "stream",
     "text": [
      "<ul>\n",
      "\t<li>Factory</li>\n",
      "\t<li>Strategy</li>\n",
      "\t<li>Decorator</li>\n",
      "</ul>\n"
     ]
    }
   ],
   "source": [
    "class FormattedList:\n",
    "    \n",
    "    def __init__(self):\n",
    "        self.list = []\n",
    "    \n",
    "    def add(self, item: str):\n",
    "        self.list.append(item)\n",
    "    \n",
    "    def render(self):\n",
    "        html_string = '<ul>\\n'\n",
    "        for element in self.list:\n",
    "            html_string += f\"\\t<li>{element}</li>\\n\"\n",
    "        html_string += '</ul>'\n",
    "        print(html_string)\n",
    "        \n",
    "\n",
    "l = FormattedList()\n",
    "l.add('Factory')\n",
    "l.add('Strategy')\n",
    "l.add('Decorator')\n",
    "l.render()\n",
    "    \n",
    "        "
   ]
  },
  {
   "cell_type": "markdown",
   "metadata": {},
   "source": [
    "Suponhamos que queremos criar duas possibilidades para o método `render`: a de gerar listas ordenadas e a de substituir HTML por markdown. Como podemos usar o Strategy pattern para implementar essa mudança?"
   ]
  }
 ],
 "metadata": {
  "kernelspec": {
   "display_name": "Python 3",
   "language": "python",
   "name": "python3"
  },
  "language_info": {
   "codemirror_mode": {
    "name": "ipython",
    "version": 3
   },
   "file_extension": ".py",
   "mimetype": "text/x-python",
   "name": "python",
   "nbconvert_exporter": "python",
   "pygments_lexer": "ipython3",
   "version": "3.7.3"
  }
 },
 "nbformat": 4,
 "nbformat_minor": 2
}
