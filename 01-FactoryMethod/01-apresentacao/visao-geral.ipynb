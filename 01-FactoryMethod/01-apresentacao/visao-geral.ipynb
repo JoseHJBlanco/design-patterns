{
 "cells": [
  {
   "cell_type": "markdown",
   "metadata": {},
   "source": [
    "# Factory Method"
   ]
  },
  {
   "cell_type": "markdown",
   "metadata": {},
   "source": [
    "## O que é?\n",
    "\n",
    "O padrão _Factory Method_ preve a definição de interfaces para a criação objetos (factory methods), porém delegando às subclasses a definição do objeto a ser criado."
   ]
  },
  {
   "cell_type": "markdown",
   "metadata": {},
   "source": [
    "## Problema a ser resolvido\n",
    "\n",
    "Em certas aplicações é necessário criar novas instâncias de classes que implementam uma determinada interface, porém cuja a classe concreta é específica a cada aplicação."
   ]
  },
  {
   "cell_type": "markdown",
   "metadata": {},
   "source": [
    "### Exemplo\n",
    "\n",
    "- Uma classe `Logger` quer captura e formata eventos e utiliza outra classe `PTPublisher` para publicá-los no Paper Trail.\n",
    "\n",
    "```python\n",
    "class Logger:\n",
    "    def __init__(self):\n",
    "        self._publisher = PTPublisher()\n",
    "    \n",
    "    ...\n",
    "    def info(self, msg):\n",
    "        log = self.format(msg)\n",
    "        log = self.set_level(log, level=\"INFO\")\n",
    "        self._publisher.publish(log)\n",
    "    ...\n",
    "```\n",
    "\n",
    "- Como mudar de PaperTrail para StackDriver?"
   ]
  },
  {
   "cell_type": "markdown",
   "metadata": {},
   "source": [
    "## Usando Factory Method\n",
    "\n",
    "```python\n",
    "class Logger(abc.ABC):\n",
    "    \n",
    "    @abc.abstractmethod\n",
    "    def make_publisher(self):\n",
    "        pass\n",
    "        \n",
    "    def info(self, msg):\n",
    "        ...\n",
    "        self.make_publisher().publish(log)\n",
    "\n",
    "class PTLogger(Logger):\n",
    "    def make_publisher(self):\n",
    "        return PaperTrailPublisher()\n",
    "        \n",
    "class STLogger(Logger):\n",
    "    def make_publisher(self):\n",
    "        return StackDriverPublisher()\n",
    "```"
   ]
  },
  {
   "cell_type": "markdown",
   "metadata": {},
   "source": [
    "## Vantagens e desvantagens\n",
    "\n",
    "### Pros:\n",
    "- Desacopla o código de uma classe específica\n",
    "- Motiva o desenvolvedor a escrever código com interfaces em mente\n",
    "- Abstrai código possivelmente complexo de instanciação\n",
    "\n",
    "\n",
    "### Cons:\n",
    "- Força a criação de subclasses"
   ]
  },
  {
   "cell_type": "markdown",
   "metadata": {},
   "source": [
    "## Estrutura\n",
    "\n",
    "![struct](assets/factory-method-struct.png)"
   ]
  },
  {
   "cell_type": "markdown",
   "metadata": {},
   "source": [
    "## Detalhes de implemtação\n",
    "#### Classe abstrata vs concreta\n",
    "Se houver um valor padrão sano, uma _parent class_ concreta poder ser usada.\n",
    "\n",
    "#### Factory methods dinâmicos\n",
    "Os _factory methods_ podem ter parametros ou podem utilizar o contexto para definir dinamicamente qual classes utilizar.\n",
    "\n",
    "#### _Generic typing_\n",
    "Em algumas linguagens é possível utilizar _generic types_ para definir a classes do `Product` sem a necessidade de criar uma subclasse."
   ]
  },
  {
   "cell_type": "code",
   "execution_count": null,
   "metadata": {},
   "outputs": [],
   "source": []
  }
 ],
 "metadata": {
  "kernelspec": {
   "display_name": "Python 3.6.2 64-bit ('ravelin36': conda)",
   "language": "python",
   "name": "python36264bitravelin36condada913e7107384dcb83ceee8e6e324abe"
  },
  "language_info": {
   "codemirror_mode": {
    "name": "ipython",
    "version": 3
   },
   "file_extension": ".py",
   "mimetype": "text/x-python",
   "name": "python",
   "nbconvert_exporter": "python",
   "pygments_lexer": "ipython3",
   "version": "3.6.0"
  }
 },
 "nbformat": 4,
 "nbformat_minor": 2
}
