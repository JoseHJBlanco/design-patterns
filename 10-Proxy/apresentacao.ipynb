{
 "cells": [
  {
   "cell_type": "markdown",
   "metadata": {},
   "source": [
    "# Proxy"
   ]
  },
  {
   "cell_type": "markdown",
   "metadata": {},
   "source": [
    "## O que é?\n",
    "\n",
    "O padrão _Proxy_ sugere a criação de um objeto com o qual o cliente interagirá e que controla o acesso atributos de outros objetos."
   ]
  },
  {
   "cell_type": "markdown",
   "metadata": {},
   "source": [
    "## Por quê?\n",
    "\n",
    "Esse padrão nos dá controle sobre todas as interações entre o cliente e o objeto real, permitindo que otimizemos uso de memória, controlemos o acesso de atributos de acordo com o usuário, abstraiamos interações mais complexas.\n",
    "\n",
    "O livro cita 4 tipos clássicos de _proxies_.\n",
    "\n",
    "- _Virtual Proxy_: Um objeto que apresenta um comportamento idêntico a um objeto real, porém que realiza operação custosas apenas quando realmente necessário (e.g.: Spark DFs).\n",
    "- _Remote Proxy_: Atua como um objeto local, abstraindo as operações necessárias para acessar um objeto remoto (e.g.: VMs).\n",
    "- Protection Proxy_: Permite ou nega o acesso de usuários a certo atributos do objeto real.\n",
    "- _Smart Reference_: Usado para controlar a criação e destruição de objetos. Geralmente essas estruturas mantém um contador de referências que ao chegar a zero deleta o objeto real."
   ]
  },
  {
   "cell_type": "markdown",
   "metadata": {},
   "source": [
    "## Estrutura\n",
    "\n",
    "![struct](assets/proxy-struct.jpg)"
   ]
  },
  {
   "cell_type": "markdown",
   "metadata": {},
   "source": [
    "## Exemplo 1\n",
    "\n",
    "Imaginemos que uma empresa tem um sistem de ORM. Esse sistema performa operações basicas como criar, destruir e atualizar o _schema_. Como esperado, existem multiplas posições na empresa que precisam interagir com esse database, como analistas, engenheiros e engenheiros sr."
   ]
  },
  {
   "cell_type": "code",
   "execution_count": 89,
   "metadata": {},
   "outputs": [],
   "source": [
    "class Table:\n",
    "    def __init__(self, name, schema=None):\n",
    "        self.name = name\n",
    "        self.schema = schema or {}\n",
    "        \n",
    "    def __repr__(self):\n",
    "        return \"Table(name={name}, schema=({schema}))\".format(\n",
    "            name=self.name,\n",
    "            schema=\", \".join(f\"{field}: {repr(type_)}\" for field, type_ in self.schema.items())\n",
    "        )\n",
    "\n",
    "class DB:\n",
    "    def __init__(self, name: str):\n",
    "        self.name = name\n",
    "        self._tables = None\n",
    "    \n",
    "    @property\n",
    "    def tables(self):\n",
    "        if self._tables is None:\n",
    "            global tables\n",
    "            self._tables = tables\n",
    "        return self._tables\n",
    "    \n",
    "    def drop_table(self, name):\n",
    "        del self._tables[name]\n",
    "        \n",
    "    def add_table(self, name, schema):\n",
    "        if name in self.tables:\n",
    "            raise Exception(\"table already exists\")\n",
    "        self._tables[name] = Table(name, schema)\n",
    "        \n",
    "    def __repr__(self):\n",
    "        return f\"Database({self.name})\""
   ]
  },
  {
   "cell_type": "code",
   "execution_count": 38,
   "metadata": {},
   "outputs": [
    {
     "data": {
      "text/plain": [
       "Database(unsafe)"
      ]
     },
     "execution_count": 38,
     "metadata": {},
     "output_type": "execute_result"
    }
   ],
   "source": [
    "tables = {}\n",
    "\n",
    "db = DB(\"unsafe\")\n",
    "db"
   ]
  },
  {
   "cell_type": "code",
   "execution_count": 39,
   "metadata": {},
   "outputs": [
    {
     "data": {
      "text/plain": [
       "{}"
      ]
     },
     "execution_count": 39,
     "metadata": {},
     "output_type": "execute_result"
    }
   ],
   "source": [
    "db.tables"
   ]
  },
  {
   "cell_type": "code",
   "execution_count": 40,
   "metadata": {},
   "outputs": [
    {
     "data": {
      "text/plain": [
       "{'users': Table(name=users, schema=(id: <class 'str'>, name: <class 'str'>, age: <class 'int'>))}"
      ]
     },
     "execution_count": 40,
     "metadata": {},
     "output_type": "execute_result"
    }
   ],
   "source": [
    "db.add_table(\"users\", {\"id\": str, \"name\": str, \"age\": int})\n",
    "db.tables"
   ]
  },
  {
   "cell_type": "code",
   "execution_count": 41,
   "metadata": {},
   "outputs": [
    {
     "data": {
      "text/plain": [
       "{}"
      ]
     },
     "execution_count": 41,
     "metadata": {},
     "output_type": "execute_result"
    }
   ],
   "source": [
    "db.drop_table(\"users\")\n",
    "db.tables"
   ]
  },
  {
   "cell_type": "markdown",
   "metadata": {},
   "source": [
    "Para evitar erros, é necessário que um sistema de controle de acesso seja criado. Uma forma fazê-lo é implementá-lo diretamente no código do ORM."
   ]
  },
  {
   "cell_type": "code",
   "execution_count": 57,
   "metadata": {},
   "outputs": [],
   "source": [
    "import os\n",
    "\n",
    "\n",
    "role_levels = {\n",
    "    \"analyst\": 10,\n",
    "    \"engineer\": 30,\n",
    "    \"sr-engineer\": 50,\n",
    "}\n",
    "\n",
    "\n",
    "def get_access_level():\n",
    "    \"\"\"\n",
    "    Return the access level for the current user.\n",
    "    \"\"\"\n",
    "    role = os.environ.get(\"DB_ROLE\")\n",
    "    return role_levels.get(role, 0)\n",
    "\n",
    "\n",
    "def restrict_access(min_access_level):\n",
    "    \"\"\"\n",
    "    Restrict access to functions.\n",
    "    \"\"\"\n",
    "    def decorator(func):\n",
    "        def wrapper(*args, **kwargs):\n",
    "            if get_access_level() < min_access_level:\n",
    "                raise Exception(\"Unauthorised.\")\n",
    "            return func(*args, **kwargs)\n",
    "        return wrapper\n",
    "    return decorator"
   ]
  },
  {
   "cell_type": "code",
   "execution_count": 90,
   "metadata": {},
   "outputs": [],
   "source": [
    "class DB:\n",
    "    def __init__(self, name: str):\n",
    "        self.name = name\n",
    "        self._tables = None\n",
    "    \n",
    "    @property\n",
    "    def tables(self):\n",
    "        if self._tables is None:\n",
    "            global tables\n",
    "            self._tables = tables\n",
    "        return self._tables\n",
    "    \n",
    "    @restrict_access(50)\n",
    "    def drop_table(self, name):\n",
    "        del self._tables[name]\n",
    "        \n",
    "    @restrict_access(30)\n",
    "    def add_table(self, name, schema):\n",
    "        if name in self.tables:\n",
    "            raise Exception(\"table already exists\")\n",
    "        self._tables[name] = Table(name, schema)\n",
    "        \n",
    "    def __repr__(self):\n",
    "        return f\"Database({self.name})\""
   ]
  },
  {
   "cell_type": "markdown",
   "metadata": {},
   "source": [
    "Agora, se tentarmos repetir as operações..."
   ]
  },
  {
   "cell_type": "code",
   "execution_count": 59,
   "metadata": {},
   "outputs": [],
   "source": [
    "os.environ[\"DB_ROLE\"] = \"engineer\""
   ]
  },
  {
   "cell_type": "code",
   "execution_count": 60,
   "metadata": {},
   "outputs": [
    {
     "data": {
      "text/plain": [
       "Database(unsafe)"
      ]
     },
     "execution_count": 60,
     "metadata": {},
     "output_type": "execute_result"
    }
   ],
   "source": [
    "tables = {}\n",
    "\n",
    "db = DB(\"unsafe\")\n",
    "db"
   ]
  },
  {
   "cell_type": "code",
   "execution_count": 61,
   "metadata": {},
   "outputs": [
    {
     "data": {
      "text/plain": [
       "{}"
      ]
     },
     "execution_count": 61,
     "metadata": {},
     "output_type": "execute_result"
    }
   ],
   "source": [
    "db.tables"
   ]
  },
  {
   "cell_type": "code",
   "execution_count": 62,
   "metadata": {},
   "outputs": [
    {
     "data": {
      "text/plain": [
       "{'users': Table(name=users, schema=(id: <class 'str'>, name: <class 'str'>, age: <class 'int'>))}"
      ]
     },
     "execution_count": 62,
     "metadata": {},
     "output_type": "execute_result"
    }
   ],
   "source": [
    "db.add_table(\"users\", {\"id\": str, \"name\": str, \"age\": int})\n",
    "db.tables"
   ]
  },
  {
   "cell_type": "code",
   "execution_count": 63,
   "metadata": {},
   "outputs": [
    {
     "ename": "Exception",
     "evalue": "Unauthorised.",
     "output_type": "error",
     "traceback": [
      "\u001b[0;31m---------------------------------------------------------------------------\u001b[0m",
      "\u001b[0;31mException\u001b[0m                                 Traceback (most recent call last)",
      "\u001b[0;32m<ipython-input-63-fa061f14590f>\u001b[0m in \u001b[0;36m<module>\u001b[0;34m\u001b[0m\n\u001b[0;32m----> 1\u001b[0;31m \u001b[0mdb\u001b[0m\u001b[0;34m.\u001b[0m\u001b[0mdrop_table\u001b[0m\u001b[0;34m(\u001b[0m\u001b[0;34m\"users\"\u001b[0m\u001b[0;34m)\u001b[0m\u001b[0;34m\u001b[0m\u001b[0;34m\u001b[0m\u001b[0m\n\u001b[0m\u001b[1;32m      2\u001b[0m \u001b[0mdb\u001b[0m\u001b[0;34m.\u001b[0m\u001b[0mtables\u001b[0m\u001b[0;34m\u001b[0m\u001b[0;34m\u001b[0m\u001b[0m\n",
      "\u001b[0;32m<ipython-input-57-e7c6705a9503>\u001b[0m in \u001b[0;36mwrapper\u001b[0;34m(*args, **kwargs)\u001b[0m\n\u001b[1;32m     24\u001b[0m         \u001b[0;32mdef\u001b[0m \u001b[0mwrapper\u001b[0m\u001b[0;34m(\u001b[0m\u001b[0;34m*\u001b[0m\u001b[0margs\u001b[0m\u001b[0;34m,\u001b[0m \u001b[0;34m**\u001b[0m\u001b[0mkwargs\u001b[0m\u001b[0;34m)\u001b[0m\u001b[0;34m:\u001b[0m\u001b[0;34m\u001b[0m\u001b[0;34m\u001b[0m\u001b[0m\n\u001b[1;32m     25\u001b[0m             \u001b[0;32mif\u001b[0m \u001b[0mget_access_level\u001b[0m\u001b[0;34m(\u001b[0m\u001b[0;34m)\u001b[0m \u001b[0;34m<\u001b[0m \u001b[0mmin_access_level\u001b[0m\u001b[0;34m:\u001b[0m\u001b[0;34m\u001b[0m\u001b[0;34m\u001b[0m\u001b[0m\n\u001b[0;32m---> 26\u001b[0;31m                 \u001b[0;32mraise\u001b[0m \u001b[0mException\u001b[0m\u001b[0;34m(\u001b[0m\u001b[0;34m\"Unauthorised.\"\u001b[0m\u001b[0;34m)\u001b[0m\u001b[0;34m\u001b[0m\u001b[0;34m\u001b[0m\u001b[0m\n\u001b[0m\u001b[1;32m     27\u001b[0m             \u001b[0;32mreturn\u001b[0m \u001b[0mfunc\u001b[0m\u001b[0;34m(\u001b[0m\u001b[0;34m*\u001b[0m\u001b[0margs\u001b[0m\u001b[0;34m,\u001b[0m \u001b[0;34m**\u001b[0m\u001b[0mkwargs\u001b[0m\u001b[0;34m)\u001b[0m\u001b[0;34m\u001b[0m\u001b[0;34m\u001b[0m\u001b[0m\n\u001b[1;32m     28\u001b[0m         \u001b[0;32mreturn\u001b[0m \u001b[0mwrapper\u001b[0m\u001b[0;34m\u001b[0m\u001b[0;34m\u001b[0m\u001b[0m\n",
      "\u001b[0;31mException\u001b[0m: Unauthorised."
     ]
    }
   ],
   "source": [
    "db.drop_table(\"users\")\n",
    "db.tables"
   ]
  },
  {
   "cell_type": "markdown",
   "metadata": {},
   "source": [
    "O problem aqui é que estamos misturando com a lógica de aplicação. Talvez diferentes DBs tenham padrões de acesso diferentes.\n",
    "\n",
    "Uma forma de remediar isso é usando um _Protection Proxy_."
   ]
  },
  {
   "cell_type": "code",
   "execution_count": 99,
   "metadata": {},
   "outputs": [],
   "source": [
    "import abc\n",
    "\n",
    "class DBBase(abc.ABC):\n",
    "    \n",
    "#     nós deveríamos adicionar `tables` como uma `abstractmethod`\n",
    "#     porém por motivos que serão discutidos mais em a frente não faremos isso\n",
    "#     @property\n",
    "#     def tables(self):\n",
    "#         pass\n",
    "    \n",
    "    @abc.abstractmethod\n",
    "    def drop_table(self, name):\n",
    "        pass\n",
    "        \n",
    "    @abc.abstractmethod\n",
    "    def add_table(self, name, schema):\n",
    "        pass\n",
    "    \n",
    "    def __repr__(self):\n",
    "        return f\"Database({self.name})\"    \n",
    "\n",
    "\n",
    "class RealDB(DBBase):\n",
    "    def __init__(self, name: str):\n",
    "        self.name = name\n",
    "        self._tables = None\n",
    "    \n",
    "    @property\n",
    "    def tables(self):\n",
    "        if self._tables is None:\n",
    "            global tables\n",
    "            self._tables = tables\n",
    "        return self._tables\n",
    "    \n",
    "    def drop_table(self, name):\n",
    "        del self._tables[name]\n",
    "        \n",
    "    def add_table(self, name, schema):\n",
    "        if name in self.tables:\n",
    "            raise Exception(\"table already exists\")\n",
    "        self._tables[name] = Table(name, schema)\n",
    "        \n",
    "class ProxyDB(DBBase):\n",
    "    def __init__(self, name: str):\n",
    "        self.name = name\n",
    "        self._db = dbs[name]\n",
    "    \n",
    "    @property\n",
    "    def tables(self):\n",
    "        return self._db._tables\n",
    "    \n",
    "    @restrict_access(50)\n",
    "    def drop_table(self, name):\n",
    "        return self._db.drop_table(name)\n",
    "        \n",
    "    @restrict_access(30)\n",
    "    def add_table(self, name, schema):\n",
    "        return self._db.add_table(name, schema)"
   ]
  },
  {
   "cell_type": "code",
   "execution_count": 100,
   "metadata": {},
   "outputs": [],
   "source": [
    "os.environ[\"DB_ROLE\"] = \"engineer\""
   ]
  },
  {
   "cell_type": "code",
   "execution_count": 101,
   "metadata": {},
   "outputs": [],
   "source": [
    "dbs = {\"unsafe\": RealDB(\"unsafe\")}\n",
    "tables = {}"
   ]
  },
  {
   "cell_type": "markdown",
   "metadata": {},
   "source": [
    "Um dos problemas desse padrão é \"Como identificar um objeto que ainda não foi instanciado?\". Nesse caso, nós temos que criar um identificador universal para o banco de dados. "
   ]
  },
  {
   "cell_type": "code",
   "execution_count": 102,
   "metadata": {},
   "outputs": [
    {
     "data": {
      "text/plain": [
       "Database(unsafe)"
      ]
     },
     "execution_count": 102,
     "metadata": {},
     "output_type": "execute_result"
    }
   ],
   "source": [
    "db = ProxyDB(\"unsafe\")\n",
    "db"
   ]
  },
  {
   "cell_type": "code",
   "execution_count": 103,
   "metadata": {},
   "outputs": [],
   "source": [
    "db.tables"
   ]
  },
  {
   "cell_type": "code",
   "execution_count": 104,
   "metadata": {},
   "outputs": [
    {
     "data": {
      "text/plain": [
       "{'users': Table(name=users, schema=(id: <class 'str'>, name: <class 'str'>, age: <class 'int'>))}"
      ]
     },
     "execution_count": 104,
     "metadata": {},
     "output_type": "execute_result"
    }
   ],
   "source": [
    "db.add_table(\"users\", {\"id\": str, \"name\": str, \"age\": int})\n",
    "db.tables"
   ]
  },
  {
   "cell_type": "code",
   "execution_count": 105,
   "metadata": {},
   "outputs": [
    {
     "ename": "Exception",
     "evalue": "Unauthorised.",
     "output_type": "error",
     "traceback": [
      "\u001b[0;31m---------------------------------------------------------------------------\u001b[0m",
      "\u001b[0;31mException\u001b[0m                                 Traceback (most recent call last)",
      "\u001b[0;32m<ipython-input-105-fa061f14590f>\u001b[0m in \u001b[0;36m<module>\u001b[0;34m\u001b[0m\n\u001b[0;32m----> 1\u001b[0;31m \u001b[0mdb\u001b[0m\u001b[0;34m.\u001b[0m\u001b[0mdrop_table\u001b[0m\u001b[0;34m(\u001b[0m\u001b[0;34m\"users\"\u001b[0m\u001b[0;34m)\u001b[0m\u001b[0;34m\u001b[0m\u001b[0;34m\u001b[0m\u001b[0m\n\u001b[0m\u001b[1;32m      2\u001b[0m \u001b[0mdb\u001b[0m\u001b[0;34m.\u001b[0m\u001b[0mtables\u001b[0m\u001b[0;34m\u001b[0m\u001b[0;34m\u001b[0m\u001b[0m\n",
      "\u001b[0;32m<ipython-input-57-e7c6705a9503>\u001b[0m in \u001b[0;36mwrapper\u001b[0;34m(*args, **kwargs)\u001b[0m\n\u001b[1;32m     24\u001b[0m         \u001b[0;32mdef\u001b[0m \u001b[0mwrapper\u001b[0m\u001b[0;34m(\u001b[0m\u001b[0;34m*\u001b[0m\u001b[0margs\u001b[0m\u001b[0;34m,\u001b[0m \u001b[0;34m**\u001b[0m\u001b[0mkwargs\u001b[0m\u001b[0;34m)\u001b[0m\u001b[0;34m:\u001b[0m\u001b[0;34m\u001b[0m\u001b[0;34m\u001b[0m\u001b[0m\n\u001b[1;32m     25\u001b[0m             \u001b[0;32mif\u001b[0m \u001b[0mget_access_level\u001b[0m\u001b[0;34m(\u001b[0m\u001b[0;34m)\u001b[0m \u001b[0;34m<\u001b[0m \u001b[0mmin_access_level\u001b[0m\u001b[0;34m:\u001b[0m\u001b[0;34m\u001b[0m\u001b[0;34m\u001b[0m\u001b[0m\n\u001b[0;32m---> 26\u001b[0;31m                 \u001b[0;32mraise\u001b[0m \u001b[0mException\u001b[0m\u001b[0;34m(\u001b[0m\u001b[0;34m\"Unauthorised.\"\u001b[0m\u001b[0;34m)\u001b[0m\u001b[0;34m\u001b[0m\u001b[0;34m\u001b[0m\u001b[0m\n\u001b[0m\u001b[1;32m     27\u001b[0m             \u001b[0;32mreturn\u001b[0m \u001b[0mfunc\u001b[0m\u001b[0;34m(\u001b[0m\u001b[0;34m*\u001b[0m\u001b[0margs\u001b[0m\u001b[0;34m,\u001b[0m \u001b[0;34m**\u001b[0m\u001b[0mkwargs\u001b[0m\u001b[0;34m)\u001b[0m\u001b[0;34m\u001b[0m\u001b[0;34m\u001b[0m\u001b[0m\n\u001b[1;32m     28\u001b[0m         \u001b[0;32mreturn\u001b[0m \u001b[0mwrapper\u001b[0m\u001b[0;34m\u001b[0m\u001b[0;34m\u001b[0m\u001b[0m\n",
      "\u001b[0;31mException\u001b[0m: Unauthorised."
     ]
    }
   ],
   "source": [
    "db.drop_table(\"users\")\n",
    "db.tables"
   ]
  },
  {
   "cell_type": "markdown",
   "metadata": {},
   "source": [
    "Um dos problemas aqui é o quão custosa é a manutenção dessa interface. Em algumas linguagens como Python, nós podemos mitigar esse problema sobreescrevendo a operação de acessar atributos das classes."
   ]
  },
  {
   "cell_type": "code",
   "execution_count": 121,
   "metadata": {},
   "outputs": [],
   "source": [
    "class ProxyDB(DBBase):\n",
    "    def __init__(self, name: str):\n",
    "        self.name = name\n",
    "        self._db = dbs[name]\n",
    "        \n",
    "    def __getattr__(self, name):\n",
    "        return vars(self).get(name, None) or getattr(self._db, name)\n",
    "    \n",
    "    @restrict_access(50)\n",
    "    def drop_table(self, name):\n",
    "        return self._db.drop_table(name)\n",
    "        \n",
    "    @restrict_access(30)\n",
    "    def add_table(self, name, schema):\n",
    "        return self._db.add_table(name, schema)"
   ]
  },
  {
   "cell_type": "code",
   "execution_count": 124,
   "metadata": {},
   "outputs": [
    {
     "data": {
      "text/plain": [
       "Database(unsafe)"
      ]
     },
     "execution_count": 124,
     "metadata": {},
     "output_type": "execute_result"
    }
   ],
   "source": [
    "dbs = {\"unsafe\": RealDB(\"unsafe\")}\n",
    "tables = {}\n",
    "db = ProxyDB(\"unsafe\")\n",
    "db"
   ]
  },
  {
   "cell_type": "code",
   "execution_count": 125,
   "metadata": {},
   "outputs": [
    {
     "data": {
      "text/plain": [
       "{}"
      ]
     },
     "execution_count": 125,
     "metadata": {},
     "output_type": "execute_result"
    }
   ],
   "source": [
    "db.tables"
   ]
  },
  {
   "cell_type": "code",
   "execution_count": 126,
   "metadata": {},
   "outputs": [
    {
     "data": {
      "text/plain": [
       "{'users': Table(name=users, schema=(id: <class 'str'>, name: <class 'str'>, age: <class 'int'>))}"
      ]
     },
     "execution_count": 126,
     "metadata": {},
     "output_type": "execute_result"
    }
   ],
   "source": [
    "db.add_table(\"users\", {\"id\": str, \"name\": str, \"age\": int})\n",
    "db.tables"
   ]
  },
  {
   "cell_type": "code",
   "execution_count": 127,
   "metadata": {},
   "outputs": [
    {
     "ename": "Exception",
     "evalue": "Unauthorised.",
     "output_type": "error",
     "traceback": [
      "\u001b[0;31m---------------------------------------------------------------------------\u001b[0m",
      "\u001b[0;31mException\u001b[0m                                 Traceback (most recent call last)",
      "\u001b[0;32m<ipython-input-127-fa061f14590f>\u001b[0m in \u001b[0;36m<module>\u001b[0;34m\u001b[0m\n\u001b[0;32m----> 1\u001b[0;31m \u001b[0mdb\u001b[0m\u001b[0;34m.\u001b[0m\u001b[0mdrop_table\u001b[0m\u001b[0;34m(\u001b[0m\u001b[0;34m\"users\"\u001b[0m\u001b[0;34m)\u001b[0m\u001b[0;34m\u001b[0m\u001b[0;34m\u001b[0m\u001b[0m\n\u001b[0m\u001b[1;32m      2\u001b[0m \u001b[0mdb\u001b[0m\u001b[0;34m.\u001b[0m\u001b[0mtables\u001b[0m\u001b[0;34m\u001b[0m\u001b[0;34m\u001b[0m\u001b[0m\n",
      "\u001b[0;32m<ipython-input-57-e7c6705a9503>\u001b[0m in \u001b[0;36mwrapper\u001b[0;34m(*args, **kwargs)\u001b[0m\n\u001b[1;32m     24\u001b[0m         \u001b[0;32mdef\u001b[0m \u001b[0mwrapper\u001b[0m\u001b[0;34m(\u001b[0m\u001b[0;34m*\u001b[0m\u001b[0margs\u001b[0m\u001b[0;34m,\u001b[0m \u001b[0;34m**\u001b[0m\u001b[0mkwargs\u001b[0m\u001b[0;34m)\u001b[0m\u001b[0;34m:\u001b[0m\u001b[0;34m\u001b[0m\u001b[0;34m\u001b[0m\u001b[0m\n\u001b[1;32m     25\u001b[0m             \u001b[0;32mif\u001b[0m \u001b[0mget_access_level\u001b[0m\u001b[0;34m(\u001b[0m\u001b[0;34m)\u001b[0m \u001b[0;34m<\u001b[0m \u001b[0mmin_access_level\u001b[0m\u001b[0;34m:\u001b[0m\u001b[0;34m\u001b[0m\u001b[0;34m\u001b[0m\u001b[0m\n\u001b[0;32m---> 26\u001b[0;31m                 \u001b[0;32mraise\u001b[0m \u001b[0mException\u001b[0m\u001b[0;34m(\u001b[0m\u001b[0;34m\"Unauthorised.\"\u001b[0m\u001b[0;34m)\u001b[0m\u001b[0;34m\u001b[0m\u001b[0;34m\u001b[0m\u001b[0m\n\u001b[0m\u001b[1;32m     27\u001b[0m             \u001b[0;32mreturn\u001b[0m \u001b[0mfunc\u001b[0m\u001b[0;34m(\u001b[0m\u001b[0;34m*\u001b[0m\u001b[0margs\u001b[0m\u001b[0;34m,\u001b[0m \u001b[0;34m**\u001b[0m\u001b[0mkwargs\u001b[0m\u001b[0;34m)\u001b[0m\u001b[0;34m\u001b[0m\u001b[0;34m\u001b[0m\u001b[0m\n\u001b[1;32m     28\u001b[0m         \u001b[0;32mreturn\u001b[0m \u001b[0mwrapper\u001b[0m\u001b[0;34m\u001b[0m\u001b[0;34m\u001b[0m\u001b[0m\n",
      "\u001b[0;31mException\u001b[0m: Unauthorised."
     ]
    }
   ],
   "source": [
    "db.drop_table(\"users\")\n",
    "db.tables"
   ]
  },
  {
   "cell_type": "markdown",
   "metadata": {},
   "source": [
    "Por outro lado, eu tive que abrir mão de definir `tables` como um método abstrato."
   ]
  },
  {
   "cell_type": "markdown",
   "metadata": {},
   "source": [
    "## Prós e contras:\n",
    "\n",
    "### Pros\n",
    "- Permite maior robustez na criacao de objetos complexos\n",
    "- Cria uma separacao clara entre a construcao do objeto e o objeto em si\n",
    "- Evita construtores ou factory methods com muitos parâmetros\n",
    "\n",
    "### Cons\n",
    "- Aumenta a complexidade do sistema como um todo\n",
    "- Duplicacao de código (propriedades, getters, etc) entre Builder e Product\n",
    "- Exige que o cliente conheca a implementacao do objeto"
   ]
  },
  {
   "cell_type": "markdown",
   "metadata": {},
   "source": [
    "## Discussao:\n",
    "\n",
    "Like the Abstract Factory pattern, the Builder pattern requires that you define an interface, which will be used by clients to create complex objects in pieces. In the MazeBuilder example, there are BuildMaze(), BuildRoom() and BuildDoor() methods, along with a GetMaze() method. How does the Builder pattern allow one to add new methods to the Builder's interface, without having to change each and every sub-class of the Builder?"
   ]
  }
 ],
 "metadata": {
  "kernelspec": {
   "display_name": "design-patterns-py38",
   "language": "python",
   "name": "design-patterns-py38"
  },
  "language_info": {
   "codemirror_mode": {
    "name": "ipython",
    "version": 3
   },
   "file_extension": ".py",
   "mimetype": "text/x-python",
   "name": "python",
   "nbconvert_exporter": "python",
   "pygments_lexer": "ipython3",
   "version": "3.8.3"
  }
 },
 "nbformat": 4,
 "nbformat_minor": 4
}
