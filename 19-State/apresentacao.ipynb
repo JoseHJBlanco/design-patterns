{
 "cells": [
  {
   "cell_type": "markdown",
   "metadata": {},
   "source": [
    "# State"
   ]
  },
  {
   "cell_type": "markdown",
   "metadata": {},
   "source": [
    "## O que é?\n",
    "\n",
    "O padrao _State_, é um _behavioral pattern_ baseado na ideia de formalizar o estado de objetos como uma familia de classes, os _States_, e utilizá-las para abstrair operações que mudem de acordo com o estado."
   ]
  },
  {
   "cell_type": "markdown",
   "metadata": {},
   "source": [
    "## Por quê?\n",
    "\n",
    "Muitas vezes o comportamento de um objeto muda no _runtime_ de acordo com seu estado interno. Para implementar este comportamento da forma convencional, o desenvolver armazenaria o estado interno como atributos simples e utilizaria `if` ou `switch` _statements_ para que o objeto se comportasse de acordo com seu estado atual.\n",
    "\n",
    "Essa implementação pode tornar o código muito complexo, difícil de ser estendido e pode resultar em estados inválidos. Ao encapsular os estado interno em um classe, a adição de novos estados torna-se simples e as transições mais fáceis de serem compreendidas."
   ]
  },
  {
   "cell_type": "markdown",
   "metadata": {},
   "source": [
    "## Uso:\n",
    "\n",
    "Você deve usar o _State_ quando:\n",
    "- Um classe tem estados internos bem definidos e que modificam seu comportamento.\n",
    "- O estado do objeto evolue dinamicamente durante o _run time_ ."
   ]
  },
  {
   "cell_type": "markdown",
   "metadata": {},
   "source": [
    "## Estrutura: \n",
    "\n",
    "<img src=\"https://upload.wikimedia.org/wikipedia/commons/thumb/e/e8/State_Design_Pattern_UML_Class_Diagram.svg/1200px-State_Design_Pattern_UML_Class_Diagram.svg.png\" alt=\"State Design Pattern UML Class Diagram.svg\">"
   ]
  },
  {
   "cell_type": "markdown",
   "metadata": {},
   "source": [
    "## Exemplo:\n",
    "\n",
    "Vamos escrever uma class usada construir _strings_ ."
   ]
  },
  {
   "cell_type": "code",
   "execution_count": 2,
   "metadata": {},
   "outputs": [],
   "source": [
    "blah = \"a\""
   ]
  },
  {
   "cell_type": "code",
   "execution_count": 10,
   "metadata": {
    "tags": []
   },
   "outputs": [],
   "source": [
    "class StringBuilder:\n",
    "    \"\"\"\n",
    "    Writes a string bit by bit.\n",
    "    \"\"\"\n",
    "    def __init__(self, mode=\"w\"):\n",
    "        self.mode = mode\n",
    "        self.locked = False\n",
    "        self.output = \"\"\n",
    "        \n",
    "    def write(self, string):\n",
    "        \"\"\"Append to the string\"\"\"\n",
    "        if self.locked:\n",
    "            raise Exception(\"Builder must be unlocked in order to write.\")\n",
    "        if self.mode == \"w\":\n",
    "            self.output += string\n",
    "        else:\n",
    "            self.output += string.decode()\n",
    "            \n",
    "    def read(self):\n",
    "        \"\"\"Read the final string.\"\"\"\n",
    "        if not self.locked:\n",
    "            raise Exception(\"Builder must be locked in order to read.\")\n",
    "        if self.mode == \"w\":\n",
    "            return self.output\n",
    "        else:\n",
    "            return self.output.encode()\n",
    "    \n",
    "    def lock(self):\n",
    "        \"\"\"Lock the builder and enables reads.\"\"\"\n",
    "        self.locked = True"
   ]
  },
  {
   "cell_type": "code",
   "execution_count": 11,
   "metadata": {},
   "outputs": [],
   "source": [
    "builder = StringBuilder()\n",
    "builder.write(\"isso\")\n",
    "builder.write(\" eh\")\n",
    "builder.write(\" um test.\")"
   ]
  },
  {
   "cell_type": "code",
   "execution_count": 12,
   "metadata": {},
   "outputs": [
    {
     "ename": "Exception",
     "evalue": "Builder must be locked in order to read.",
     "output_type": "error",
     "traceback": [
      "\u001b[0;31m---------------------------------------------------------------------------\u001b[0m",
      "\u001b[0;31mException\u001b[0m                                 Traceback (most recent call last)",
      "\u001b[0;32m<ipython-input-12-7cc0068c877a>\u001b[0m in \u001b[0;36m<module>\u001b[0;34m()\u001b[0m\n\u001b[0;32m----> 1\u001b[0;31m \u001b[0mbuilder\u001b[0m\u001b[0;34m.\u001b[0m\u001b[0mread\u001b[0m\u001b[0;34m(\u001b[0m\u001b[0;34m)\u001b[0m\u001b[0;34m\u001b[0m\u001b[0m\n\u001b[0m",
      "\u001b[0;32m<ipython-input-10-68c0328ef578>\u001b[0m in \u001b[0;36mread\u001b[0;34m(self)\u001b[0m\n\u001b[1;32m     20\u001b[0m         \u001b[0;34m\"\"\"Read the final string.\"\"\"\u001b[0m\u001b[0;34m\u001b[0m\u001b[0m\n\u001b[1;32m     21\u001b[0m         \u001b[0;32mif\u001b[0m \u001b[0;32mnot\u001b[0m \u001b[0mself\u001b[0m\u001b[0;34m.\u001b[0m\u001b[0mlocked\u001b[0m\u001b[0;34m:\u001b[0m\u001b[0;34m\u001b[0m\u001b[0m\n\u001b[0;32m---> 22\u001b[0;31m             \u001b[0;32mraise\u001b[0m \u001b[0mException\u001b[0m\u001b[0;34m(\u001b[0m\u001b[0;34m\"Builder must be locked in order to read.\"\u001b[0m\u001b[0;34m)\u001b[0m\u001b[0;34m\u001b[0m\u001b[0m\n\u001b[0m\u001b[1;32m     23\u001b[0m         \u001b[0;32mreturn\u001b[0m \u001b[0mself\u001b[0m\u001b[0;34m.\u001b[0m\u001b[0moutput\u001b[0m\u001b[0;34m\u001b[0m\u001b[0m\n\u001b[1;32m     24\u001b[0m \u001b[0;34m\u001b[0m\u001b[0m\n",
      "\u001b[0;31mException\u001b[0m: Builder must be locked in order to read."
     ]
    }
   ],
   "source": [
    "builder.read()"
   ]
  },
  {
   "cell_type": "code",
   "execution_count": 13,
   "metadata": {},
   "outputs": [
    {
     "data": {
      "text/plain": [
       "'isso eh um test.'"
      ]
     },
     "execution_count": 13,
     "metadata": {},
     "output_type": "execute_result"
    }
   ],
   "source": [
    "builder.lock()\n",
    "builder.read()"
   ]
  },
  {
   "cell_type": "markdown",
   "metadata": {},
   "source": [
    "Isso funciona bem, porém decidimos que em certos casos, ter que travar o _builder_ para ler a _string_ é problematico, então resolvemos introduzir os modos `rw` e `rwb`."
   ]
  },
  {
   "cell_type": "code",
   "execution_count": null,
   "metadata": {},
   "outputs": [],
   "source": [
    "class StringBuilder:\n",
    "    \"\"\"\n",
    "    Writes a string bit by bit.\n",
    "    \"\"\"\n",
    "    def __init__(self, mode=\"w\"):\n",
    "        self.mode = mode\n",
    "        self.locked = False\n",
    "        self.output = \"\"\n",
    "        \n",
    "    def write(self, string):\n",
    "        \"\"\"Append to the string\"\"\"\n",
    "        if self.locked:\n",
    "            raise Exception(\"Builder must be unlocked in order to write.\")\n",
    "        if self.mode in (\"w\", \"rw\"):  # mudou\n",
    "            self.output += string\n",
    "        else:\n",
    "            self.output += string.decode()\n",
    "            \n",
    "    def read(self):\n",
    "        \"\"\"Read the final string.\"\"\"\n",
    "        if not self.locked and self.mode not in (\"rw\", \"rwb\"):  # mudou\n",
    "            raise Exception(\"Builder must be locked in order to read.\")\n",
    "        if self.mode in (\"w\", \"rw\"):  # mudou\n",
    "            return self.output\n",
    "        else:\n",
    "            return self.output.encode()\n",
    "    \n",
    "    def lock(self):\n",
    "        \"\"\"Lock the builder and enables reads.\"\"\"\n",
    "        self.locked = True"
   ]
  },
  {
   "cell_type": "markdown",
   "metadata": {},
   "source": [
    "Isso pode se tornar código espagate rapidamente.\n",
    "\n",
    "Tentemos usar o padrão _State_."
   ]
  },
  {
   "cell_type": "code",
   "execution_count": 23,
   "metadata": {},
   "outputs": [],
   "source": [
    "import abc\n",
    "\n",
    "class StringBuilder:\n",
    "    \"\"\"\n",
    "    Writes a string bit by bit.\n",
    "    \"\"\"\n",
    "    \n",
    "    def __init__(self, mode=\"w\"):\n",
    "        state_map = {\n",
    "            \"w\": Write,\n",
    "            \"wb\": WriteBytes,\n",
    "            \"rw\": ReadWrite,\n",
    "            \"rwb\": ReadWriteBytes,\n",
    "        }\n",
    "        \n",
    "        self.mode = state_map[mode]\n",
    "        self.output = \"\"\n",
    "        \n",
    "    def write(self, string):\n",
    "        self.mode.write(self, string)\n",
    "        \n",
    "    def read(self):\n",
    "        return self.mode.read(self)\n",
    "    \n",
    "    def lock(self):\n",
    "        return self.mode.lock(self)\n",
    "    \n",
    "    \n",
    "class Mode(metaclass=abc.ABCMeta):\n",
    "    \"\"\"\n",
    "    Current state of the builder, it takes care of state specific\n",
    "    operations and state transations.\n",
    "    \"\"\"\n",
    "    @staticmethod\n",
    "    def write(builder, string):\n",
    "        raise NotImplementedError(\"Invalid operation.\")\n",
    "    \n",
    "    @staticmethod\n",
    "    def read(builder):\n",
    "        raise NotImplementedError(\"Invalid operation.\")\n",
    "        \n",
    "    @staticmethod\n",
    "    def lock(builder):\n",
    "        raise NotImplementedError(\"Invalid operation.\")\n",
    "    \n",
    "    \n",
    "class Str(Mode):\n",
    "    @staticmethod\n",
    "    def lock(builder):\n",
    "        builder.mode = Locked\n",
    "\n",
    "        \n",
    "class Bytes(Mode):\n",
    "    @staticmethod\n",
    "    def lock(builder):\n",
    "        builder.mode = LockedBytes\n",
    "        \n",
    "\n",
    "class Write(Str):\n",
    "    @staticmethod\n",
    "    def write(builder, string):\n",
    "        builder.output += string\n",
    "\n",
    "\n",
    "class ReadWrite(Str):\n",
    "    @staticmethod\n",
    "    def write(builder, string):\n",
    "        builder.output += string\n",
    "\n",
    "    @staticmethod\n",
    "    def read(builder):\n",
    "        return builder.output\n",
    "    \n",
    "\n",
    "class Locked(Str):\n",
    "    @staticmethod\n",
    "    def read(builder):\n",
    "        return builder.output  \n",
    "\n",
    "        \n",
    "class WriteBytes(Bytes):\n",
    "    @staticmethod\n",
    "    def write(builder, string):\n",
    "        builder.output += string.decode()\n",
    "\n",
    "\n",
    "class ReadWriteBytes(Bytes):\n",
    "    @staticmethod\n",
    "    def write(builder, string):\n",
    "        builder.output += string.decode()\n",
    "\n",
    "    @staticmethod\n",
    "    def read(builder):\n",
    "        return builder.output.encode()\n",
    "    \n",
    "\n",
    "class LockedBytes(Bytes):\n",
    "    @staticmethod\n",
    "    def read(builder):\n",
    "        return builder.output.encode() "
   ]
  },
  {
   "cell_type": "code",
   "execution_count": 24,
   "metadata": {},
   "outputs": [],
   "source": [
    "builder = StringBuilder()\n",
    "builder.write(\"isso\")\n",
    "builder.write(\" eh\")\n",
    "builder.write(\" um test.\")"
   ]
  },
  {
   "cell_type": "code",
   "execution_count": 25,
   "metadata": {},
   "outputs": [
    {
     "ename": "NotImplementedError",
     "evalue": "Invalid operation.",
     "output_type": "error",
     "traceback": [
      "\u001b[0;31m---------------------------------------------------------------------------\u001b[0m",
      "\u001b[0;31mNotImplementedError\u001b[0m                       Traceback (most recent call last)",
      "\u001b[0;32m<ipython-input-25-7cc0068c877a>\u001b[0m in \u001b[0;36m<module>\u001b[0;34m()\u001b[0m\n\u001b[0;32m----> 1\u001b[0;31m \u001b[0mbuilder\u001b[0m\u001b[0;34m.\u001b[0m\u001b[0mread\u001b[0m\u001b[0;34m(\u001b[0m\u001b[0;34m)\u001b[0m\u001b[0;34m\u001b[0m\u001b[0m\n\u001b[0m",
      "\u001b[0;32m<ipython-input-23-e7d83fc21487>\u001b[0m in \u001b[0;36mread\u001b[0;34m(self)\u001b[0m\n\u001b[1;32m     21\u001b[0m \u001b[0;34m\u001b[0m\u001b[0m\n\u001b[1;32m     22\u001b[0m     \u001b[0;32mdef\u001b[0m \u001b[0mread\u001b[0m\u001b[0;34m(\u001b[0m\u001b[0mself\u001b[0m\u001b[0;34m)\u001b[0m\u001b[0;34m:\u001b[0m\u001b[0;34m\u001b[0m\u001b[0m\n\u001b[0;32m---> 23\u001b[0;31m         \u001b[0;32mreturn\u001b[0m \u001b[0mself\u001b[0m\u001b[0;34m.\u001b[0m\u001b[0mmode\u001b[0m\u001b[0;34m.\u001b[0m\u001b[0mread\u001b[0m\u001b[0;34m(\u001b[0m\u001b[0mself\u001b[0m\u001b[0;34m)\u001b[0m\u001b[0;34m\u001b[0m\u001b[0m\n\u001b[0m\u001b[1;32m     24\u001b[0m \u001b[0;34m\u001b[0m\u001b[0m\n\u001b[1;32m     25\u001b[0m     \u001b[0;32mdef\u001b[0m \u001b[0mlock\u001b[0m\u001b[0;34m(\u001b[0m\u001b[0mself\u001b[0m\u001b[0;34m)\u001b[0m\u001b[0;34m:\u001b[0m\u001b[0;34m\u001b[0m\u001b[0m\n",
      "\u001b[0;32m<ipython-input-23-e7d83fc21487>\u001b[0m in \u001b[0;36mread\u001b[0;34m(builder)\u001b[0m\n\u001b[1;32m     38\u001b[0m     \u001b[0;34m@\u001b[0m\u001b[0mstaticmethod\u001b[0m\u001b[0;34m\u001b[0m\u001b[0m\n\u001b[1;32m     39\u001b[0m     \u001b[0;32mdef\u001b[0m \u001b[0mread\u001b[0m\u001b[0;34m(\u001b[0m\u001b[0mbuilder\u001b[0m\u001b[0;34m)\u001b[0m\u001b[0;34m:\u001b[0m\u001b[0;34m\u001b[0m\u001b[0m\n\u001b[0;32m---> 40\u001b[0;31m         \u001b[0;32mraise\u001b[0m \u001b[0mNotImplementedError\u001b[0m\u001b[0;34m(\u001b[0m\u001b[0;34m\"Invalid operation.\"\u001b[0m\u001b[0;34m)\u001b[0m\u001b[0;34m\u001b[0m\u001b[0m\n\u001b[0m\u001b[1;32m     41\u001b[0m \u001b[0;34m\u001b[0m\u001b[0m\n\u001b[1;32m     42\u001b[0m     \u001b[0;34m@\u001b[0m\u001b[0mstaticmethod\u001b[0m\u001b[0;34m\u001b[0m\u001b[0m\n",
      "\u001b[0;31mNotImplementedError\u001b[0m: Invalid operation."
     ]
    }
   ],
   "source": [
    "builder.read()"
   ]
  },
  {
   "cell_type": "code",
   "execution_count": 26,
   "metadata": {},
   "outputs": [
    {
     "data": {
      "text/plain": [
       "'isso eh um test.'"
      ]
     },
     "execution_count": 26,
     "metadata": {},
     "output_type": "execute_result"
    }
   ],
   "source": [
    "builder.lock()\n",
    "builder.read()"
   ]
  },
  {
   "cell_type": "markdown",
   "metadata": {},
   "source": [
    "É... não vale a pena..."
   ]
  },
  {
   "cell_type": "markdown",
   "metadata": {},
   "source": [
    "## Prós e contras:\n",
    "\n",
    "### Prós\n",
    "\n",
    "- Reduz o número de `if` _statements_ , melhorando a legibilidade e reduzindo a complexidade do código.\n",
    "- Os estados tornam-se discretos, evitando que o objeto atinja um estado inválido.\n",
    "- Os _states_ são opacos para o _context_, tornando simples a inclusão de novos _states_.\n",
    "- Transição entre estados torna-se mais simples.\n",
    "\n",
    "### Contras\n",
    "\n",
    "- O número de classes tende a aumentar significativamente.\n",
    "- Esse padrão torna difícil a reutilização de código já que cada estado tem sua própria classe."
   ]
  },
  {
   "cell_type": "markdown",
   "metadata": {},
   "source": [
    "## Discussao:\n",
    "\n",
    "1. If something has only two to three states, is it overkill to use the State pattern?\n",
    "\n",
    "2. Como esse padrão se compara com o padrão _Strategy_ ? E o padrão _Abstract Factory_ ?"
   ]
  }
 ],
 "metadata": {
  "kernelspec": {
   "display_name": "Python 3.6.2 64-bit ('ravelin36': conda)",
   "language": "python",
   "name": "python36264bitravelin36condada913e7107384dcb83ceee8e6e324abe"
  },
  "language_info": {
   "codemirror_mode": {
    "name": "ipython",
    "version": 3
   },
   "file_extension": ".py",
   "mimetype": "text/x-python",
   "name": "python",
   "nbconvert_exporter": "python",
   "pygments_lexer": "ipython3",
   "version": "3.6.0"
  }
 },
 "nbformat": 4,
 "nbformat_minor": 2
}
