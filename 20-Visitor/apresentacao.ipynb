{
 "cells": [
  {
   "cell_type": "markdown",
   "metadata": {},
   "source": [
    "# Visitor\n",
    "\n",
    "## O que é?\n",
    "\n",
    "O padrao Visitor permite que uma nova operacao seja efetuada sobre uma classe ou um grupo de classes sem que essas classes precisem mudar. Dessa maneira, ele promove a separacao entre o método em si e o objeto sobre o qual esse método opera.\n",
    "\n",
    "## Por quê?\n",
    "\n",
    "Para manter o \"single responsibility principle\" e evitar fazer grandes mudancas em classes que já estao em uso, há situacoes em que pode ser interessante permitir que uma nova funcionalidade seja acrescentada a uma classe sem que a classe em si seja responsável pela lógica -- particularmente se a funcionalidade será adicionada a mais de uma classe. \n",
    "\n",
    "## Estrutura\n",
    "\n",
    "<img src=\"http://coursegalaxy.com/designpatterns/visitor/images/visitor_structure.jpg\" alt=\"Visitor Design Pattern UML Class Diagram.svg\">\n",
    "\n",
    "## Exemplo\n",
    "\n",
    "Imaginemos que tenhamos três classes: `Input`, `Image` e `SVG`, representando elementos visuais numa interface web. \n",
    "\n"
   ]
  },
  {
   "cell_type": "code",
   "execution_count": 3,
   "metadata": {},
   "outputs": [
    {
     "name": "stdout",
     "output_type": "stream",
     "text": [
      "foo\n"
     ]
    }
   ],
   "source": [
    "class Input:\n",
    "    \n",
    "    def __init__(self, label: str = ''):\n",
    "        self.value = ''\n",
    "        self.label = label\n",
    "        \n",
    "    def change(self, char: str):\n",
    "        self.value += char\n",
    "    \n",
    "\n",
    "class SVG:\n",
    "    \n",
    "    def __init__(self, path : str, title: str = '', description: str = ''):\n",
    "        self.path = path\n",
    "        self.title = title\n",
    "        self.description = description \n",
    "\n",
    "class Image:\n",
    "    \n",
    "    def __init__(self, src: str, width: int, height: int, alt_text: str = ''):\n",
    "        self.src = src\n",
    "        self.width = width\n",
    "        self.height = height\n",
    "        self.alt_text = alt_text\n",
    "        \n",
    "\n",
    "textbox = Input()\n",
    "diagram = Image('http://coursegalaxy.com/designpatterns/visitor/images/visitor_structure.jpg', 300, 400)\n",
    "circle = SVG('d=\"M cx cy m -r, 0 a r,r 0 1,0 (r * 2),0 a r,r 0 1,0 -(r * 2),0\"')\n",
    "textbox.change('f')\n",
    "textbox.change('o')\n",
    "textbox.change('o')\n",
    "print(textbox.value)"
   ]
  },
  {
   "cell_type": "markdown",
   "metadata": {},
   "source": [
    "As propriedades descritivas como `label`, `alt_text` e `title` sao opcionais em nossas classes. Suponhamos que decidimos nos preocupar com a acessibilidade da nossa interface e queremos saber quais objetos sao acessíveis e quais nao sao. Uma maneira de fazer isso seria acrescentar um método `is_accessible` a cada classe, cuja responsabilidade é verificar se o objeto cumpre com regras de acessibilidade. Porém, "
   ]
  },
  {
   "cell_type": "code",
   "execution_count": null,
   "metadata": {},
   "outputs": [],
   "source": []
  }
 ],
 "metadata": {
  "kernelspec": {
   "display_name": "Python 3",
   "language": "python",
   "name": "python3"
  },
  "language_info": {
   "codemirror_mode": {
    "name": "ipython",
    "version": 3
   },
   "file_extension": ".py",
   "mimetype": "text/x-python",
   "name": "python",
   "nbconvert_exporter": "python",
   "pygments_lexer": "ipython3",
   "version": "3.7.3"
  }
 },
 "nbformat": 4,
 "nbformat_minor": 2
}
