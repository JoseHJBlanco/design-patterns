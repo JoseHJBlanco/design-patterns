{
 "cells": [
  {
   "cell_type": "markdown",
   "metadata": {},
   "source": [
    "# Visitor\n",
    "\n",
    "## O que é?\n",
    "\n",
    "O padrao Visitor permite que uma nova operacao seja efetuada sobre uma classe ou um grupo de classes sem que essas classes precisem mudar. Dessa maneira, ele promove a separacao entre o método em si e o objeto sobre o qual esse método opera.\n",
    "\n",
    "## Por quê?\n",
    "\n",
    "Para manter o \"single responsibility principle\" e evitar fazer grandes mudancas em classes que já estao em uso, há situacoes em que pode ser interessante permitir que uma nova funcionalidade seja acrescentada a uma classe sem que a classe em si seja responsável pela lógica -- particularmente se a funcionalidade será adicionada a mais de uma classe. \n",
    "\n",
    "## Estrutura\n",
    "\n",
    "<img src=\"http://coursegalaxy.com/designpatterns/visitor/images/visitor_structure.jpg\" alt=\"Visitor Design Pattern UML Class Diagram.svg\">\n",
    "\n",
    "## Exemplo\n",
    "\n",
    "Imaginemos que tenhamos três classes: `Input`, `Image` e `SVG`, representando elementos visuais numa interface web. \n",
    "\n"
   ]
  },
  {
   "cell_type": "code",
   "execution_count": 10,
   "metadata": {},
   "outputs": [
    {
     "name": "stdout",
     "output_type": "stream",
     "text": [
      "admin\n",
      "admin\n"
     ]
    }
   ],
   "source": [
    "class Input:\n",
    "    \n",
    "    def __init__(self, label: str = \"\"):\n",
    "        self.value = \"\"\n",
    "        self.label = label\n",
    "        \n",
    "    def change(self, char: str):\n",
    "        self.value += char\n",
    "    \n",
    "\n",
    "class SVG:\n",
    "    \n",
    "    def __init__(self, path : str, title: str = \"\", description: str = \"\"):\n",
    "        self.path = path\n",
    "        self.title = title\n",
    "        self.description = description \n",
    "\n",
    "class Image:\n",
    "    \n",
    "    def __init__(self, src: str, width: int, height: int, alt_text: str = \"\"):\n",
    "        self.src = src\n",
    "        self.width = width\n",
    "        self.height = height\n",
    "        self.alt_text = alt_text\n",
    "        \n",
    "\n",
    "username = Input()\n",
    "password = Input()\n",
    "diagram = Image(\"http://coursegalaxy.com/designpatterns/visitor/images/visitor_structure.jpg\", 300, 400)\n",
    "circle = SVG(\"d=\\\"M cx cy m -r, 0 a r,r 0 1,0 (r * 2),0 a r,r 0 1,0 -(r * 2),0\\\"\")\n",
    "username.change(\"a\")\n",
    "username.change(\"d\")\n",
    "username.change(\"m\")\n",
    "username.change(\"i\")\n",
    "username.change(\"n\")\n",
    "password.change(\"a\")\n",
    "password.change(\"d\")\n",
    "password.change(\"m\")\n",
    "password.change(\"i\")\n",
    "password.change(\"n\")\n",
    "\n",
    "print(username.value)\n",
    "print(password.value)"
   ]
  },
  {
   "cell_type": "markdown",
   "metadata": {},
   "source": [
    "As propriedades descritivas como `label`, `alt_text` e `title` sao opcionais em nossas classes. Suponhamos que decidimos nos preocupar com a acessibilidade da nossa interface e queremos saber quais objetos sao acessíveis e quais nao sao. Uma maneira de fazer isso seria acrescentar um método `is_accessible` a cada classe para verificar se o objeto cumpre com regras de acessibilidade. Porém, isso seria dar ao objeto uma funcao que nao tem a ver com sua responsabilidade principal. Se amanha decidirmos adicionar a funcionalidade `render_as_HTML_string`, que imprime os elementos HTML como string, teríamos que adicionar novos métodos a todos os objetos -- e novas responsabilidades. O padrao Visitor permite que essas funcionalidades adicionais sejam responsabilidade de uma classe externa, sendo que a classe original só precisa aceitar uma \"visita\"."
   ]
  },
  {
   "cell_type": "code",
   "execution_count": 13,
   "metadata": {},
   "outputs": [
    {
     "name": "stdout",
     "output_type": "stream",
     "text": [
      "False\n",
      "True\n",
      "False\n",
      "True\n",
      "False\n",
      "True\n"
     ]
    }
   ],
   "source": [
    "import abc\n",
    "\n",
    "class HTMLVisitor(abc.ABC):\n",
    "    \n",
    "    @abc.abstractmethod\n",
    "    def visit(self, html_element: \"HTMLElement\"):\n",
    "        pass\n",
    "\n",
    "\n",
    "class HTMLElement(abc.ABC):\n",
    "    \n",
    "    @abc.abstractmethod\n",
    "    def accept(self, visitor: HTMLVisitor):\n",
    "        pass\n",
    "\n",
    "    \n",
    "class Input(HTMLElement):\n",
    "    \n",
    "    def __init__(self, label: str = \"\"):\n",
    "        self.value = \"\"\n",
    "        self.label = label\n",
    "        \n",
    "    def change(self, char: str):\n",
    "        self.value += char\n",
    "    \n",
    "    def accept(self, visitor: HTMLVisitor):\n",
    "        visitor.visitInput(self)\n",
    "    \n",
    "\n",
    "class SVG(HTMLElement):\n",
    "    \n",
    "    def __init__(self, path : str, title: str = \"\", description: str = \"\"):\n",
    "        self.path = path\n",
    "        self.title = title\n",
    "        self.description = description \n",
    "        \n",
    "    def accept(self, visitor: HTMLVisitor):\n",
    "        visitor.visitSVG(self)\n",
    "\n",
    "        \n",
    "class Image(HTMLElement):\n",
    "    \n",
    "    def __init__(self, src: str, width: int, height: int, alt_text: str = \"\"):\n",
    "        self.src = src\n",
    "        self.width = width\n",
    "        self.height = height\n",
    "        self.alt_text = alt_text\n",
    "        \n",
    "    def accept(self, visitor: HTMLVisitor):\n",
    "        visitor.visitImage(self)\n",
    "        \n",
    "\n",
    "class AccessibilityVisitor(HTMLVisitor):\n",
    "    \"\"\"\n",
    "    Checks if an HTML object is accessible\n",
    "    \"\"\"\n",
    "\n",
    "    def visit(self, html_element: HTMLElement):\n",
    "        html_element.accept(self)\n",
    "        \n",
    "    def visitSVG(self, svg: SVG):\n",
    "        print(bool(svg.title) and bool(svg.description))\n",
    "    \n",
    "    def visitImage(self, image: Image):\n",
    "        print(bool(image.alt_text))\n",
    "    \n",
    "    def visitInput(self, textbox: Input):\n",
    "        print(bool(textbox.label))\n",
    " \n",
    "# Testing the accessibility visitor \n",
    "\n",
    "accessibility_visitor = AccessibilityVisitor()\n",
    "\n",
    "textbox = Input()\n",
    "accessible_textbox = Input(\"Some label\")\n",
    "diagram = Image(\"http://coursegalaxy.com/designpatterns/visitor/images/visitor_structure.jpg\", 300, 400)\n",
    "accessible_diagram = Image(\"http://coursegalaxy.com/designpatterns/visitor/images/visitor_structure.jpg\", 300, 400, \"A diagram\")\n",
    "circle = SVG(\"d=\\\"M cx cy m -r, 0 a r,r 0 1,0 (r * 2),0 a r,r 0 1,0 -(r * 2),0\\\"\")\n",
    "accessible_circle = SVG(\"d=\\\"M cx cy m -r, 0 a r,r 0 1,0 (r * 2),0 a r,r 0 1,0 -(r * 2),0\\\"\", \"A circle\", \"It's nice\")\n",
    "\n",
    "accessibility_visitor.visit(textbox)\n",
    "accessibility_visitor.visit(accessible_textbox)\n",
    "accessibility_visitor.visit(diagram)\n",
    "accessibility_visitor.visit(accessible_diagram)\n",
    "accessibility_visitor.visit(circle)\n",
    "accessibility_visitor.visit(accessible_circle)\n"
   ]
  },
  {
   "cell_type": "markdown",
   "metadata": {},
   "source": [
    "Como a responsabilidade de invocar o método correto do Visitor cabe ao método `accept` de cada classe, é possível usar o mesmo Visitor para iterar sobre todos os elementos de uma estrutura de dados, realizando a operacao correta em cada um deles. "
   ]
  },
  {
   "cell_type": "code",
   "execution_count": 5,
   "metadata": {
    "scrolled": true
   },
   "outputs": [
    {
     "name": "stdout",
     "output_type": "stream",
     "text": [
      "False\n",
      "True\n",
      "False\n",
      "True\n",
      "False\n",
      "True\n"
     ]
    }
   ],
   "source": [
    "page = [textbox, accessible_textbox, diagram, accessible_diagram, circle, accessible_circle]\n",
    "\n",
    "for element in page:\n",
    "    accessibility_visitor.visit(element)\n"
   ]
  },
  {
   "cell_type": "markdown",
   "metadata": {},
   "source": [
    "Também podemos adicionar novos visitors sem fazer qualquer mudanca à classe original:"
   ]
  },
  {
   "cell_type": "code",
   "execution_count": 17,
   "metadata": {},
   "outputs": [
    {
     "name": "stdout",
     "output_type": "stream",
     "text": [
      "<input type =\"text\" />\n",
      "<label>Some label\n",
      "\t<input type =\"text\" />\n",
      "</label>\n",
      "<img src=\"http://coursegalaxy.com/designpatterns/visitor/images/visitor_structure.jpg\" width=\"300\" height=\"400\" />\n",
      "<img src=\"http://coursegalaxy.com/designpatterns/visitor/images/visitor_structure.jpg\" width=\"300\" height=\"400\" alt=\"A diagram\" />\n",
      "<svg>\n",
      "\t<path d=\"M cx cy m -r, 0 a r,r 0 1,0 (r * 2),0 a r,r 0 1,0 -(r * 2),0\" />\n",
      "</svg>\n",
      "<svg>\n",
      "\t<title>A circle</title>\n",
      "\t<description>It's nice</description>\n",
      "\t<path d=\"M cx cy m -r, 0 a r,r 0 1,0 (r * 2),0 a r,r 0 1,0 -(r * 2),0\" />\n",
      "</svg>\n"
     ]
    }
   ],
   "source": [
    "class HTMLStringify(HTMLVisitor):\n",
    "    \"\"\"\n",
    "    Prints a string version of an HTMLElement\n",
    "    \"\"\"\n",
    "\n",
    "    def visit(self, html_element: HTMLElement):\n",
    "        html_element.accept(self)\n",
    "        \n",
    "    def visitSVG(self, svg: SVG):\n",
    "        html_string = \"<svg>\"\n",
    "        html_string += bool(svg.title)*f\"\\n\\t<title>{svg.title}</title>\"\n",
    "        html_string += bool(svg.description)*f\"\\n\\t<description>{svg.description}</description>\"\n",
    "        html_string += f\"\\n\\t<path {svg.path} />\"\n",
    "        html_string += \"\\n</svg>\"\n",
    "        print(html_string)\n",
    "        \n",
    "    def visitImage(self, image: Image):\n",
    "        html_string = f\"<img src=\\\"{image.src}\\\" width=\\\"{image.width}\\\" height=\\\"{image.height}\\\"\"\n",
    "        html_string += bool(image.alt_text)*f\" alt=\\\"{image.alt_text}\\\"\"\n",
    "        html_string += \" />\"\n",
    "        print(html_string)\n",
    "    \n",
    "    def visitInput(self, textbox: Input):\n",
    "        html_string = \"\"\n",
    "        html_string += bool(textbox.label) * f\"<label>{textbox.label}\\n\\t\"\n",
    "        html_string += \"<input type=\\\"text\\\" />\"\n",
    "        html_string += bool(textbox.label) * \"\\n</label>\"\n",
    "        print(html_string)\n",
    "    \n",
    "\n",
    "stringifier = HTMLStringify()\n",
    "page = [textbox, accessible_textbox, diagram, accessible_diagram, circle, accessible_circle]\n",
    "\n",
    "for element in page:\n",
    "    stringifier.visit(element)\n"
   ]
  },
  {
   "cell_type": "markdown",
   "metadata": {},
   "source": [
    "## Prós e contras:\n",
    "\n",
    "### Prós:\n",
    "\n",
    "- Permite que a classe que recebe a visita mantenha apenas uma responsabilidade\n",
    "- Evita grandes mudancas na classe que recebe a visita: é preciso somente adicionar o método `accept` quando o primeiro Visitor for implementado\n",
    "- Útil para realizar operacoes sobre diversos objetos numa estrutura. \n",
    "\n",
    "### Contras: \n",
    "\n",
    "- É necessário criar e manter um método no Visitor para cada uma das classes visitadas\n",
    "- Caso o objeto tenha propriedades privadas, o Visitor nao teria acesso a elas\n",
    "\n",
    "## Discussao:\n",
    "One issue with the Visitor pattern involves cyclicality. When you add a new Visitor, you must make changes to existing code. How would you work around this possible problem?"
   ]
  }
 ],
 "metadata": {
  "kernelspec": {
   "display_name": "Python 3",
   "language": "python",
   "name": "python3"
  },
  "language_info": {
   "codemirror_mode": {
    "name": "ipython",
    "version": 3
   },
   "file_extension": ".py",
   "mimetype": "text/x-python",
   "name": "python",
   "nbconvert_exporter": "python",
   "pygments_lexer": "ipython3",
   "version": "3.7.3"
  }
 },
 "nbformat": 4,
 "nbformat_minor": 2
}
