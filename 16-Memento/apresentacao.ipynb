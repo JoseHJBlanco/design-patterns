{
 "cells": [
  {
   "cell_type": "markdown",
   "metadata": {},
   "source": [
    "# Memento"
   ]
  },
  {
   "cell_type": "markdown",
   "metadata": {},
   "source": [
    "## O que é?\n",
    "\n",
    "O padrao _Memento_, prevê a utilização de uma classe _memento_ para guardar o estado de uma outra classe _originator_."
   ]
  },
  {
   "cell_type": "markdown",
   "metadata": {},
   "source": [
    "## Por quê?\n",
    "\n",
    "Em certas aplicações é interessante armazenar o estado de um objeto para que esse seja restaurado no futuro. Contudo, ter conhecimento do estado interno de um objeto tende a quebrar o princípio de encapsulamento. O padrão memento resolve esse problema através de uma classe _memento_ que armazena o estado de outra sem expor os detalhes ao resto da aplicação."
   ]
  },
  {
   "cell_type": "markdown",
   "metadata": {},
   "source": [
    "## Estrutura: \n",
    "\n",
    "![struct](https://upload.wikimedia.org/wikipedia/commons/3/38/W3sDesign_Memento_Design_Pattern_UML.jpg)"
   ]
  },
  {
   "cell_type": "markdown",
   "metadata": {},
   "source": [
    "## Exemplo:\n",
    "\n",
    "O novo jogo da série _Fire Emble_ adicionou um mecânica chamada _Divine Pulse_, a qual permite que o jogador reverta as ações tomadas.\n",
    "\n",
    "Vejamos um implementação simplificada de tal mecânica."
   ]
  },
  {
   "cell_type": "code",
   "execution_count": 28,
   "metadata": {
    "tags": []
   },
   "outputs": [],
   "source": [
    "from collections import defaultdict\n",
    "\n",
    "class Controller:\n",
    "    \"\"\"\n",
    "    Manipulate characters\n",
    "    \"\"\"\n",
    "    def __init__(self):\n",
    "        self._history = defaultdict(list)\n",
    "    \n",
    "    def save_state(self, char):\n",
    "        \"\"\"Creates a snapshot of the character's state.\"\"\"\n",
    "        self._history[char].append({\n",
    "            \"hp\": char._hp, \"x\": char._x, \"y\": char._y\n",
    "        })\n",
    "    \n",
    "    def move(self, char, x, y):\n",
    "        \"\"\"Move a character.\"\"\"\n",
    "        self.save_state(char)\n",
    "        char.move(x, y)\n",
    "        print(f\"Character {char} has moved {x} spaces to the right and {y} spaces up.\")\n",
    "        \n",
    "    def damage(self, char, dmg):\n",
    "        \"\"\"Damage a character\"\"\"\n",
    "        self.save_state(char)\n",
    "        char.damage(dmg)\n",
    "        print(f\"Character {char} took {dmg} pts of damage.\")\n",
    "        \n",
    "    def rewind(self, char):\n",
    "        \"\"\"Undo the character's most recent action.\"\"\"\n",
    "        previous_state = self._history[char].pop()\n",
    "        char._hp = previous_state[\"hp\"]\n",
    "        char._x = previous_state[\"x\"]\n",
    "        char._y = previous_state[\"y\"]\n",
    "        \n",
    "\n",
    "class Character:\n",
    "    \"\"\"\n",
    "    Holds all information regarding a character.\n",
    "    \"\"\"\n",
    "    \n",
    "    def __init__(self, name, hp, x, y):\n",
    "        self.name = name\n",
    "        self._hp = hp\n",
    "        self._x = x\n",
    "        self._y = y\n",
    "        \n",
    "    def move(self, delta_x, delta_y):\n",
    "        \"\"\"Move the character by a given delta x and y.\"\"\"\n",
    "        self._x += delta_x\n",
    "        self._y += delta_y\n",
    "        \n",
    "    def damage(self, damage):\n",
    "        \"\"\"Update HP so it takes into account the damage taken.\"\"\"\n",
    "        self._hp -= damage\n",
    "        \n",
    "    def __repr__(self):\n",
    "        return f\"{self.name}(hp: {self._hp}, position: ({self._x}, {self._y})\""
   ]
  },
  {
   "cell_type": "code",
   "execution_count": 29,
   "metadata": {},
   "outputs": [
    {
     "data": {
      "text/plain": [
       "Marth(hp: 20, position: (0, 0)"
      ]
     },
     "execution_count": 29,
     "metadata": {},
     "output_type": "execute_result"
    }
   ],
   "source": [
    "ctl = Controller()\n",
    "marth = Character(\"Marth\", hp=20, x=0, y=0)\n",
    "marth"
   ]
  },
  {
   "cell_type": "code",
   "execution_count": 30,
   "metadata": {},
   "outputs": [
    {
     "name": "stdout",
     "output_type": "stream",
     "text": [
      "Character Marth(hp: 20, position: (1, -1) has moved 1 spaces to the right and -1 spaces up.\n"
     ]
    }
   ],
   "source": [
    "ctl.move(marth, 1, -1)"
   ]
  },
  {
   "cell_type": "code",
   "execution_count": 31,
   "metadata": {},
   "outputs": [
    {
     "name": "stdout",
     "output_type": "stream",
     "text": [
      "Character Marth(hp: 10, position: (1, -1) took 10 pts of damage.\n"
     ]
    }
   ],
   "source": [
    "ctl.damage(marth, 10)"
   ]
  },
  {
   "cell_type": "markdown",
   "metadata": {},
   "source": [
    "Hora de desfazer a nossa ação."
   ]
  },
  {
   "cell_type": "code",
   "execution_count": 32,
   "metadata": {},
   "outputs": [
    {
     "data": {
      "text/plain": [
       "Marth(hp: 20, position: (1, -1)"
      ]
     },
     "execution_count": 32,
     "metadata": {},
     "output_type": "execute_result"
    }
   ],
   "source": [
    "ctl.rewind(marth)\n",
    "marth"
   ]
  },
  {
   "cell_type": "markdown",
   "metadata": {},
   "source": [
    "Novamente..."
   ]
  },
  {
   "cell_type": "code",
   "execution_count": 33,
   "metadata": {},
   "outputs": [
    {
     "data": {
      "text/plain": [
       "Marth(hp: 20, position: (0, 0)"
      ]
     },
     "execution_count": 33,
     "metadata": {},
     "output_type": "execute_result"
    }
   ],
   "source": [
    "ctl.rewind(marth)\n",
    "marth"
   ]
  },
  {
   "cell_type": "markdown",
   "metadata": {},
   "source": [
    "O problema dessa implementação é que o _Controller_ precisa ter conhecimento do estado interno do _Character_. Isso so torna um problema quando novas classes são adicionadas, estados são modificados ou múltiplos controlers são empregados.\n",
    "\n",
    "Modifiquemos adicionemos o atribute MP ao _Character_ e uma nova classe chamada _HQ_."
   ]
  },
  {
   "cell_type": "code",
   "execution_count": 79,
   "metadata": {},
   "outputs": [],
   "source": [
    "class Controller:\n",
    "    \"\"\"\n",
    "    Manipulate characters\n",
    "    \"\"\"\n",
    "    def __init__(self):\n",
    "        self._history = defaultdict(list)\n",
    "    \n",
    "    def save_state(self, actor):\n",
    "        \"\"\"Creates a snapshot of the character's state.\"\"\"\n",
    "        if isinstance(actor, Character):\n",
    "            self._history[actor].append({  # novo if statement\n",
    "                \"hp\": actor._hp, \"x\": actor._x, \"y\": actor._y, \"mp\": actor._mp  # novo atributo\n",
    "            })\n",
    "        else:\n",
    "            self._history[actor].append({\n",
    "                \"held_by\": actor._held_by  # mais lógica\n",
    "            })\n",
    "    \n",
    "    def move(self, char, x, y):\n",
    "        \"\"\"Move a character.\"\"\"\n",
    "        self.save_state(char)\n",
    "        char.move(x, y)\n",
    "        print(f\"Character {char} has moved {x} spaces to the right and {y} spaces up.\")\n",
    "        \n",
    "    def damage(self, char, dmg):\n",
    "        \"\"\"Damage a character\"\"\"\n",
    "        self.save_state(char)\n",
    "        char.damage(dmg)\n",
    "        print(f\"Character {char} took {dmg} pts of damage.\")\n",
    "        \n",
    "    def capture(self, char, hq):\n",
    "        \"\"\"Character captures an HQ.\"\"\"\n",
    "        self.save_state(hq)\n",
    "        hq.conquered_by(char.name)\n",
    "        print(f\"{hq} conquered by {char}\")\n",
    "        \n",
    "    def rewind(self, actor):\n",
    "        \"\"\"Undo the character's most recent action.\"\"\"\n",
    "        \n",
    "        if not self._history[actor]:\n",
    "            print(\"Cannot go back any further.\")\n",
    "            return\n",
    "        \n",
    "        previous_state = self._history[actor].pop()\n",
    "        \n",
    "        if isinstance(actor, Character):\n",
    "            actor._hp = previous_state[\"hp\"]\n",
    "            actor._x = previous_state[\"x\"]\n",
    "            actor._y = previous_state[\"y\"]\n",
    "            actor._mp = previous_state[\"mp\"]  # mais uma linha\n",
    "        else:\n",
    "            actor._held_by = previous_state[\"held_by\"]\n",
    "            \n",
    "class HQ:\n",
    "    \"\"\"\n",
    "    Headquarters.\n",
    "    \"\"\"\n",
    "    def __init__(self, name, held_by=\"\"):\n",
    "        self.name = name\n",
    "        self._held_by = held_by\n",
    "        \n",
    "    def conquered_by(self, name):\n",
    "        \"\"\"HQ taken by some character.\"\"\"\n",
    "        self._held_by = name\n",
    "        \n",
    "    def __repr__(self):\n",
    "        return f\"{self.name}(held_by: {self._held_by})\"\n",
    "            \n",
    "class Character:\n",
    "    \"\"\"\n",
    "    Holds all information regarding a character.\n",
    "    \"\"\"\n",
    "    \n",
    "    def __init__(self, name, hp, mp, x, y):\n",
    "        self.name = name\n",
    "        self._hp = hp\n",
    "        self._x = x\n",
    "        self._y = y\n",
    "        self._mp = mp\n",
    "        \n",
    "    def move(self, delta_x, delta_y):\n",
    "        \"\"\"Move the character by a given delta x and y.\"\"\"\n",
    "        self._x += delta_x\n",
    "        self._y += delta_y\n",
    "        \n",
    "    def damage(self, damage):\n",
    "        \"\"\"Update HP so it takes into account the damage taken.\"\"\"\n",
    "        self._hp -= damage\n",
    "        \n",
    "    def __repr__(self):\n",
    "        return f\"{self.name}(hp: {self._hp}, mp: {self._mp}, position: ({self._x}, {self._y})\""
   ]
  },
  {
   "cell_type": "code",
   "execution_count": 71,
   "metadata": {},
   "outputs": [
    {
     "data": {
      "text/plain": [
       "Marth(hp: 20, mp: 10, position: (0, 0)"
      ]
     },
     "execution_count": 71,
     "metadata": {},
     "output_type": "execute_result"
    }
   ],
   "source": [
    "ctl = Controller()\n",
    "marth = Character(\"Marth\", hp=20, mp=10, x=0, y=0)\n",
    "marth"
   ]
  },
  {
   "cell_type": "code",
   "execution_count": 72,
   "metadata": {},
   "outputs": [
    {
     "name": "stdout",
     "output_type": "stream",
     "text": [
      "Character Marth(hp: 20, mp: 10, position: (1, -1) has moved 1 spaces to the right and -1 spaces up.\n"
     ]
    }
   ],
   "source": [
    "ctl.move(marth, 1, -1)"
   ]
  },
  {
   "cell_type": "code",
   "execution_count": 73,
   "metadata": {},
   "outputs": [
    {
     "name": "stdout",
     "output_type": "stream",
     "text": [
      "Character Marth(hp: 10, mp: 10, position: (1, -1) took 10 pts of damage.\n"
     ]
    }
   ],
   "source": [
    "ctl.damage(marth, 10)"
   ]
  },
  {
   "cell_type": "markdown",
   "metadata": {},
   "source": [
    "Hora de desfazer a nossa ação."
   ]
  },
  {
   "cell_type": "code",
   "execution_count": 74,
   "metadata": {},
   "outputs": [
    {
     "data": {
      "text/plain": [
       "Marth(hp: 20, mp: 10, position: (1, -1)"
      ]
     },
     "execution_count": 74,
     "metadata": {},
     "output_type": "execute_result"
    }
   ],
   "source": [
    "ctl.rewind(marth)\n",
    "marth"
   ]
  },
  {
   "cell_type": "markdown",
   "metadata": {},
   "source": [
    "Novamente..."
   ]
  },
  {
   "cell_type": "code",
   "execution_count": 75,
   "metadata": {},
   "outputs": [
    {
     "data": {
      "text/plain": [
       "Marth(hp: 20, mp: 10, position: (0, 0)"
      ]
     },
     "execution_count": 75,
     "metadata": {},
     "output_type": "execute_result"
    }
   ],
   "source": [
    "ctl.rewind(marth)\n",
    "marth"
   ]
  },
  {
   "cell_type": "code",
   "execution_count": 76,
   "metadata": {},
   "outputs": [
    {
     "data": {
      "text/plain": [
       "Dark Castle(held_by: The Evil!)"
      ]
     },
     "execution_count": 76,
     "metadata": {},
     "output_type": "execute_result"
    }
   ],
   "source": [
    "enemy_hq = HQ(\"Dark Castle\", held_by=\"The Evil!\")\n",
    "enemy_hq"
   ]
  },
  {
   "cell_type": "code",
   "execution_count": 77,
   "metadata": {},
   "outputs": [
    {
     "name": "stdout",
     "output_type": "stream",
     "text": [
      "Dark Castle(held_by: Marth) conquered by Marth(hp: 20, mp: 10, position: (0, 0)\n"
     ]
    }
   ],
   "source": [
    "ctl.capture(marth, enemy_hq)"
   ]
  },
  {
   "cell_type": "code",
   "execution_count": 78,
   "metadata": {},
   "outputs": [
    {
     "data": {
      "text/plain": [
       "Dark Castle(held_by: The Evil!)"
      ]
     },
     "execution_count": 78,
     "metadata": {},
     "output_type": "execute_result"
    }
   ],
   "source": [
    "ctl.rewind(enemy_hq)\n",
    "enemy_hq"
   ]
  },
  {
   "cell_type": "markdown",
   "metadata": {},
   "source": [
    "Utilizando mementos esse problema é mitigado."
   ]
  },
  {
   "cell_type": "code",
   "execution_count": 109,
   "metadata": {},
   "outputs": [],
   "source": [
    "import abc\n",
    "\n",
    "\n",
    "class Memento(metaclass=abc.ABCMeta):\n",
    "    \"\"\"\n",
    "    Class used to store the internal state of a given class.\n",
    "    \"\"\"\n",
    "    \n",
    "    def __init__(self):\n",
    "        self._state = None\n",
    "    \n",
    "    def set_state(self, state):\n",
    "        \"\"\"Store the state of an actor.\"\"\"\n",
    "        self._state = state\n",
    "    \n",
    "    def get_state(self):\n",
    "        \"\"\"Retrive the state of a given actor.\"\"\"\n",
    "        return self._state\n",
    "    \n",
    "    \n",
    "class Actor(metaclass=abc.ABCMeta):\n",
    "    \"\"\"\n",
    "    Class which we want to store the and restore the state of.\n",
    "    \"\"\"\n",
    "    \n",
    "    @abc.abstractmethod\n",
    "    def create_memento(self):\n",
    "        \"\"\"Create the correct object.\"\"\"\n",
    "        pass\n",
    "    \n",
    "    @abc.abstractmethod\n",
    "    def set_memento(self, memento):\n",
    "        \"\"\"Restore a previous state using a memento.\"\"\"\n",
    "        pass\n",
    "\n",
    "    \n",
    "class HQ(Actor):\n",
    "    \"\"\"\n",
    "    Headquarters.\n",
    "    \"\"\"\n",
    "    def __init__(self, name, held_by=\"\"):\n",
    "        self.name = name\n",
    "        self._held_by = held_by\n",
    "        \n",
    "    def conquered_by(self, name):\n",
    "        \"\"\"HQ taken by some character.\"\"\"\n",
    "        self._held_by = name\n",
    "        \n",
    "    def create_memento(self):\n",
    "        memento = HQMemento()\n",
    "        memento.set_state({\"held_by\": self._held_by})\n",
    "        return memento\n",
    "    \n",
    "    def set_memento(self, memento):\n",
    "        state = memento.get_state()\n",
    "        self._held_by = state[\"held_by\"]\n",
    "        \n",
    "    def __repr__(self):\n",
    "        return f\"{self.name}(held_by: {self._held_by})\"\n",
    "    \n",
    "    \n",
    "class HQMemento(Memento):\n",
    "    pass\n",
    "    \n",
    "            \n",
    "class Character:\n",
    "    \"\"\"\n",
    "    Holds all information regarding a character.\n",
    "    \"\"\"\n",
    "    \n",
    "    def __init__(self, name, hp, mp, x, y):\n",
    "        self.name = name\n",
    "        self._hp = hp\n",
    "        self._x = x\n",
    "        self._y = y\n",
    "        self._mp = mp\n",
    "        \n",
    "    def move(self, delta_x, delta_y):\n",
    "        \"\"\"Move the character by a given delta x and y.\"\"\"\n",
    "        self._x += delta_x\n",
    "        self._y += delta_y\n",
    "        \n",
    "    def damage(self, damage):\n",
    "        \"\"\"Update HP so it takes into account the damage taken.\"\"\"\n",
    "        self._hp -= damage\n",
    "         \n",
    "    def create_memento(self):\n",
    "        memento = CharMemento()\n",
    "        memento.set_state({\"hp\": self._hp, \"x\": self._x, \"y\": self._y, \"mp\": self._mp})\n",
    "        return memento\n",
    "    \n",
    "    def set_memento(self, memento):\n",
    "        state = memento.get_state()\n",
    "        self._hp = state[\"hp\"]\n",
    "        self._x = state[\"x\"]\n",
    "        self._y = state[\"y\"]\n",
    "        self._mp = state[\"mp\"]\n",
    "        \n",
    "    def __repr__(self):\n",
    "        return f\"{self.name}(hp: {self._hp}, mp: {self._mp}, position: ({self._x}, {self._y})\"\n",
    "    \n",
    "\n",
    "class CharMemento(Memento):\n",
    "    pass\n",
    "    \n",
    "    \n",
    "class Controller:\n",
    "    \"\"\"\n",
    "    Manipulate characters\n",
    "    \"\"\"\n",
    "    def __init__(self):\n",
    "        self._history = defaultdict(list)\n",
    "    \n",
    "    def save_state(self, actor):\n",
    "        \"\"\"Creates a snapshot of the character's state.\"\"\"\n",
    "        self._history[actor].append(actor.create_memento())  # lógica muito mais simples\n",
    "        \n",
    "    def move(self, char, x, y):\n",
    "        \"\"\"Move a character.\"\"\"\n",
    "        self.save_state(char)\n",
    "        char.move(x, y)\n",
    "        print(f\"Character {char} has moved {x} spaces to the right and {y} spaces up.\")\n",
    "        \n",
    "    def damage(self, char, dmg):\n",
    "        \"\"\"Damage a character\"\"\"\n",
    "        self.save_state(char)\n",
    "        char.damage(dmg)\n",
    "        print(f\"Character {char} took {dmg} pts of damage.\")\n",
    "        \n",
    "    def capture(self, char, hq):\n",
    "        \"\"\"Character captures an HQ.\"\"\"\n",
    "        self.save_state(hq)\n",
    "        hq.conquered_by(char.name)\n",
    "        print(f\"{hq} conquered by {char}\")\n",
    "        \n",
    "    def rewind(self, actor):\n",
    "        \"\"\"Undo the character's most recent action.\"\"\"\n",
    "        \n",
    "        if not self._history[actor]:\n",
    "            print(\"Cannot go back any further.\")\n",
    "            return\n",
    "        \n",
    "        memento = self._history[actor].pop()\n",
    "        actor.set_memento(memento)"
   ]
  },
  {
   "cell_type": "code",
   "execution_count": 110,
   "metadata": {},
   "outputs": [
    {
     "data": {
      "text/plain": [
       "Marth(hp: 20, mp: 10, position: (0, 0)"
      ]
     },
     "execution_count": 110,
     "metadata": {},
     "output_type": "execute_result"
    }
   ],
   "source": [
    "ctl = Controller()\n",
    "marth = Character(\"Marth\", hp=20, mp=10, x=0, y=0)\n",
    "marth"
   ]
  },
  {
   "cell_type": "code",
   "execution_count": 111,
   "metadata": {},
   "outputs": [
    {
     "name": "stdout",
     "output_type": "stream",
     "text": [
      "Character Marth(hp: 20, mp: 10, position: (1, -1) has moved 1 spaces to the right and -1 spaces up.\n"
     ]
    }
   ],
   "source": [
    "ctl.move(marth, 1, -1)"
   ]
  },
  {
   "cell_type": "code",
   "execution_count": 112,
   "metadata": {},
   "outputs": [
    {
     "name": "stdout",
     "output_type": "stream",
     "text": [
      "Character Marth(hp: 10, mp: 10, position: (1, -1) took 10 pts of damage.\n"
     ]
    }
   ],
   "source": [
    "ctl.damage(marth, 10)"
   ]
  },
  {
   "cell_type": "markdown",
   "metadata": {},
   "source": [
    "Hora de desfazer a nossa ação."
   ]
  },
  {
   "cell_type": "code",
   "execution_count": 113,
   "metadata": {},
   "outputs": [
    {
     "data": {
      "text/plain": [
       "Marth(hp: 20, mp: 10, position: (1, -1)"
      ]
     },
     "execution_count": 113,
     "metadata": {},
     "output_type": "execute_result"
    }
   ],
   "source": [
    "ctl.rewind(marth)\n",
    "marth"
   ]
  },
  {
   "cell_type": "markdown",
   "metadata": {},
   "source": [
    "Novamente..."
   ]
  },
  {
   "cell_type": "code",
   "execution_count": 114,
   "metadata": {},
   "outputs": [
    {
     "data": {
      "text/plain": [
       "Marth(hp: 20, mp: 10, position: (0, 0)"
      ]
     },
     "execution_count": 114,
     "metadata": {},
     "output_type": "execute_result"
    }
   ],
   "source": [
    "ctl.rewind(marth)\n",
    "marth"
   ]
  },
  {
   "cell_type": "code",
   "execution_count": 115,
   "metadata": {},
   "outputs": [
    {
     "data": {
      "text/plain": [
       "Dark Castle(held_by: The Evil!)"
      ]
     },
     "execution_count": 115,
     "metadata": {},
     "output_type": "execute_result"
    }
   ],
   "source": [
    "enemy_hq = HQ(\"Dark Castle\", held_by=\"The Evil!\")\n",
    "enemy_hq"
   ]
  },
  {
   "cell_type": "code",
   "execution_count": 116,
   "metadata": {},
   "outputs": [
    {
     "name": "stdout",
     "output_type": "stream",
     "text": [
      "Dark Castle(held_by: Marth) conquered by Marth(hp: 20, mp: 10, position: (0, 0)\n"
     ]
    }
   ],
   "source": [
    "ctl.capture(marth, enemy_hq)"
   ]
  },
  {
   "cell_type": "code",
   "execution_count": 117,
   "metadata": {},
   "outputs": [
    {
     "data": {
      "text/plain": [
       "Dark Castle(held_by: The Evil!)"
      ]
     },
     "execution_count": 117,
     "metadata": {},
     "output_type": "execute_result"
    }
   ],
   "source": [
    "ctl.rewind(enemy_hq)\n",
    "enemy_hq"
   ]
  },
  {
   "cell_type": "markdown",
   "metadata": {},
   "source": [
    "## Prós e contras:\n",
    "\n",
    "### Prós\n",
    "\n",
    "- Permite que o encapsulamento das classes cujos estados internos queremos restaurar seja mantido.\n",
    "- Como os estado do objeto não é mantido pelo objeto em si, é possível que este seja restaurado mesmo que a instância seja deletada.\n",
    "- Os objetos a serem restaurados não precisam tomar conhecimento da lógica de negócio.\n",
    "\n",
    "### Contras\n",
    "\n",
    "- É necessária a criação de classes extras.\n",
    "- O estado interno dos objetos deve ser relativamento pequeno para que evitar o uso excessivo de memória.\n",
    "- A criação dos _mementos_ deve ser rápida ou o desempenho da aplicação pode ser afetado.\n"
   ]
  },
  {
   "cell_type": "markdown",
   "metadata": {},
   "source": [
    "## Discussao:\n",
    "\n",
    "1. The authors write that the \"Caretaker\" participant never operates on or examines the contents of a memento. Can you consider a case where a Caretaker would infact need to know the identity of a memento and thus need the ability to examine or query the contents of that memento? Would this break something in the pattern?"
   ]
  }
 ],
 "metadata": {
  "kernelspec": {
   "display_name": "design-patterns-py38",
   "language": "python",
   "name": "design-patterns-py38"
  },
  "language_info": {
   "codemirror_mode": {
    "name": "ipython",
    "version": 3
   },
   "file_extension": ".py",
   "mimetype": "text/x-python",
   "name": "python",
   "nbconvert_exporter": "python",
   "pygments_lexer": "ipython3",
   "version": "3.8.3"
  }
 },
 "nbformat": 4,
 "nbformat_minor": 4
}
