{
 "cells": [
  {
   "attachments": {
    "adapter.gif": {
     "image/gif": "[encoded data removed]"
    }
   },
   "cell_type": "markdown",
   "metadata": {},
   "source": [
    "# Prototype\n",
    "\n",
    "## O que é?\n",
    "\n",
    "O padrao _Prototype_, é um _creational pattern_ baseado na ideia de inicializar um objeto atravez da copia de um _prototype_, conseguindo assim desassociar a classe que esta criando o objeto da classe que esta sendo criada. \n",
    "\n",
    "## Por quê?\n",
    "\n",
    "As vezes voce nao quer instanciar um objeto chamando sua classe (new ObjectClass()) ou chamando uma _factory_, seja por que voce so vai saber qual classe deve ser instanciada _at run time_ ou porque o processo de criar o novo objeto leva muito tempo (precisa ler algo no banco de dados, ou tem que processar muita informacao). Esse pattern tambem pode ser usado para reduzir o numero de subclasses (voce define a interface \"Prototype\" e cada variacao concreta é criada e manipulada pelo cliente como se fosse um prototype)\n",
    "\n",
    "## Uso:\n",
    "\n",
    "Voce deve usar o _Chain of Responsibility_ quando:\n",
    "- Os objetos que irão lidar com a requisicao precisam ser definidos dinamicamente / at run time \n",
    "- Voce quer reduzir o numero de subclasses\n",
    "- O processo de inicializacao de um objeto leva muito tempo (entao eh melhor copiar o objeto existente)\n",
    "\n",
    "## Estrutura: \n",
    "\n",
    "![struct](https://upload.wikimedia.org/wikipedia/commons/thumb/1/14/Prototype_UML.svg/1200px-Prototype_UML.svg.png)\n",
    "\n",
    "## Exemplo:\n",
    "\n",
    "Um exemplo simples do uso do _Chain of Responsibility_ eh uma calculadora. Cada vez que voce usa uma calculadora voce envia uma requisição de um calculo, um objeto composto por dois numeros e uma operacao, esse calculo pode ser executado por diversos objetos (dependendo da operacao desejada)"
   ]
  },
  {
   "cell_type": "code",
   "execution_count": 11,
   "metadata": {
    "tags": []
   },
   "outputs": [
    {
     "output_type": "error",
     "ename": "SyntaxError",
     "evalue": "invalid syntax (<ipython-input-11-4e5f8ede4fa7>, line 80)",
     "traceback": [
      "\u001b[0;36m  File \u001b[0;32m\"<ipython-input-11-4e5f8ede4fa7>\"\u001b[0;36m, line \u001b[0;32m80\u001b[0m\n\u001b[0;31m    def burguerFactory(a -> Animal):\u001b[0m\n\u001b[0m                          ^\u001b[0m\n\u001b[0;31mSyntaxError\u001b[0m\u001b[0;31m:\u001b[0m invalid syntax\n"
     ]
    }
   ],
   "source": [
    "from __future__ import annotations\n",
    "from abc import ABCMeta, abstractmethod\n",
    "import copy\n",
    "\n",
    "\n",
    "class Animal(object):\n",
    "    __metaclass__ = ABCMeta\n",
    "    def __init__(self) -> None:\n",
    "        return\n",
    "\n",
    "    @abstractmethod\n",
    "    def clone(self) -> Animal:\n",
    "        \"\"\"Abstract method to make a copy of itself.\n",
    "        \"\"\"\n",
    "        raise NotImplementedError(\"You should implement this method.\")\n",
    "\n",
    "    @abstractmethod\n",
    "    def makeBurger(self):\n",
    "        \"\"\"Abstract method to make a hamburger.\n",
    "        \"\"\"\n",
    "        raise NotImplementedError(\"You should implement this method.\")\n",
    "\n",
    "class Dog(Animal):\n",
    "    def clone(self) -> Animal:\n",
    "        memo = {}\n",
    "        \n",
    "        new = self.__class__(\n",
    "            self.some_int, some_list_of_objects, some_circular_ref\n",
    "        )\n",
    "        new.__dict__ = copy.deepcopy(self.__dict__, memo)\n",
    "        print(\"Cloning a Dog...\")\n",
    "        return new\n",
    "\n",
    "    def makeBurger(self):\n",
    "        print(\"Making a Dog hamburguer...\")\n",
    "        \n",
    "\n",
    "class Cow(Animal):\n",
    "    def clone(self) -> Animal:\n",
    "        memo = {}\n",
    "        \n",
    "        new = self.__class__(\n",
    "            self.some_int, some_list_of_objects, some_circular_ref\n",
    "        )\n",
    "        new.__dict__ = copy.deepcopy(self.__dict__, memo)\n",
    "        print(\"Cloning a Cow...\")\n",
    "        return new\n",
    "\n",
    "    def makeBurger(self):\n",
    "        print(\"Making a Cow hamburguer...\")\n",
    "\n",
    "class Sheep(Animal):\n",
    "    def clone(self) -> Animal:\n",
    "        memo = {}\n",
    "        \n",
    "        new = self.__class__(\n",
    "            self.some_int, some_list_of_objects, some_circular_ref\n",
    "        )\n",
    "        new.__dict__ = copy.deepcopy(self.__dict__, memo)\n",
    "        print(\"Cloning a Sheep...\")\n",
    "        return new\n",
    "\n",
    "    def makeBurger(self):\n",
    "        print(\"Making a Sheep hamburguer...\")\n",
    "\n",
    "class Chicken(Animal):\n",
    "    def clone(self) -> Animal:\n",
    "        memo = {}\n",
    "        \n",
    "        new = self.__class__(\n",
    "            self.some_int, some_list_of_objects, some_circular_ref\n",
    "        )\n",
    "        new.__dict__ = copy.deepcopy(self.__dict__, memo)\n",
    "        print(\"Cloning a Chicken...\")\n",
    "        return new\n",
    "\n",
    "    def makeBurger(self):\n",
    "        print(\"Making a Chicken hamburguer...\")\n",
    "\n",
    "def burguerFactory(a: Animal):\n",
    "    c = a.clone()\n",
    "    c.makeBurger()\n",
    "\n",
    "def client_code() -> None:\n",
    "\n",
    "    # ...\n",
    "\n",
    "    dog = Dog()\n",
    "    sheep = Sheep()\n",
    "    cow = Cow()\n",
    "    chicken = Chicken()\n",
    "\n",
    "    burguerFactory(dog)\n",
    "    burguerFactory(sheep)\n",
    "    burguerFactory(chicken)\n",
    "    burguerFactory(cow)\n",
    "\n",
    "    # ...\n",
    "\n",
    "\n",
    "if __name__ == \"__main__\":\n",
    "    \n",
    "    client_code()\n"
   ]
  },
  {
   "cell_type": "code",
   "execution_count": null,
   "metadata": {},
   "outputs": [],
   "source": []
  },
  {
   "cell_type": "markdown",
   "metadata": {},
   "source": [
    "## Prós e contras:\n",
    "\n",
    "### Prós\n",
    "\n",
    "- Desassocia o cliente fazendo a requisicao dos objetos que vao executar essa requisicao\n",
    "- Permite definir os objetos handlers on run time\n",
    "- Permite que voce adicione novos handlers sem que o cliente saiba\n",
    "\n",
    "### Contras\n",
    "\n",
    "- Torna a execussao da request obscura, o cliente nao tem nocao de quem vai executar (o que deixa o codigo mais complicado de entender)\n",
    "- Necessita de um set up para montar a corrente (uma factory)\n",
    "- Nada garante que existira um objeto para lidar com aquela requisicao\n"
   ]
  },
  {
   "cell_type": "markdown",
   "metadata": {},
   "source": [
    "## Discussao:\n",
    "\n",
    "1. Como o _Chain of Responsibility_ se difere do _Decorator_ pattern ou de uma _Linked List_? Como podemos implementa-lo unsando _Composite_?\n",
    "\n",
    "2. (Bônus):  _Is it helpful to look at patterns from a structural perspective? In other words, if you see how a set of patterns are the same in terms of how they are programmed, does that help you to understand when to apply them to a design?_"
   ]
  }
 ],
 "metadata": {
  "kernelspec": {
   "display_name": "Python 3.7.3 64-bit",
   "language": "python",
   "name": "python_defaultSpec_1598291255473"
  },
  "language_info": {
   "codemirror_mode": {
    "name": "ipython",
    "version": 3
   },
   "file_extension": ".py",
   "mimetype": "text/x-python",
   "name": "python",
   "nbconvert_exporter": "python",
   "pygments_lexer": "ipython3",
   "version": "3.7.3-final"
  }
 },
 "nbformat": 4,
 "nbformat_minor": 2
}