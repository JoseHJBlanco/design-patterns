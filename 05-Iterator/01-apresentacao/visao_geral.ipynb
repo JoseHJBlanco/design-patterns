{
 "cells": [
  {
   "cell_type": "markdown",
   "metadata": {},
   "source": [
    "# Iterator"
   ]
  },
  {
   "cell_type": "markdown",
   "metadata": {},
   "source": [
    "## O que é?"
   ]
  },
  {
   "cell_type": "markdown",
   "metadata": {},
   "source": [
    "O padrão _iterator_ prove uma forma de acessar elementos de uma colecao sequencialmente sem expor a implementacao dessa colecao"
   ]
  },
  {
   "cell_type": "markdown",
   "metadata": {},
   "source": [
    "## Por quê?"
   ]
  },
  {
   "cell_type": "markdown",
   "metadata": {},
   "source": [
    "Muitas vezes temos colecoes que demandam conhecimento para garantir que o usuario navegue por todos seus elementos (arvores, graphs, dicionarios, ou qualquer colacao customizada que voce montar) e iterator funciona como uma forma simples de abstrair esse conhecimento da implementacao e permitir que se utilize diferentes colecoes da mesma forma"
   ]
  },
  {
   "cell_type": "markdown",
   "metadata": {},
   "source": [
    "## Estrutura"
   ]
  },
  {
   "cell_type": "markdown",
   "metadata": {},
   "source": [
    "![figura](./assets/iterator.gif)"
   ]
  },
  {
   "cell_type": "markdown",
   "metadata": {},
   "source": [
    "## Exemplo"
   ]
  },
  {
   "cell_type": "markdown",
   "metadata": {},
   "source": [
    "Vamos exemplificar o iterator patterns usando uma colecao de palavras (por simplicidade, essa colecao sera implementada com uma lista mas ela poderia ser uma sorted tree ou qualquer outra data structure)\n",
    "\n",
    "Para iterar sobre as palavras dessa colecao fizemos um iterator que ira iterar em ordem alfabetica (ou reversa) sobre os elementos da colecao\n",
    "\n",
    "Como a colecao eh responsavel por prover o iterator, o usuario nao precisa saber sobre como a navegacao entre elementos eh implementada. Nesse caso ordenamos a lista e mantemos o track do indice, se a estrutura fosse uma sorted tree a navegacao seria completamente diferente (https://en.wikipedia.org/wiki/Tree_traversal) mas do ponto de vista do usuario nada mudaria."
   ]
  },
  {
   "cell_type": "code",
   "execution_count": 9,
   "metadata": {},
   "outputs": [
    {
     "output_type": "stream",
     "name": "stdout",
     "text": "Straight traversal:\nAbacate\nBanana\nCaju\n\nReverse traversal:\nCaju\nBanana\nAbacate"
    }
   ],
   "source": [
    "from __future__ import annotations\n",
    "from collections.abc import Iterable, Iterator\n",
    "from typing import Any, List\n",
    "\n",
    "\n",
    "class AlphabeticalOrderIterator(Iterator):\n",
    "    \"\"\"\n",
    "    Concrete Iterators implement various traversal algorithms. These classes\n",
    "    store the current traversal position at all times.\n",
    "    \"\"\"\n",
    "\n",
    "    \"\"\"\n",
    "    `_position` attribute stores the current traversal position. An iterator may\n",
    "    have a lot of other fields for storing iteration state, especially when it\n",
    "    is supposed to work with a particular kind of collection.\n",
    "    \"\"\"\n",
    "    _position: int = None\n",
    "\n",
    "    \"\"\"\n",
    "    This attribute indicates the traversal direction.\n",
    "    \"\"\"\n",
    "    _reverse: bool = False\n",
    "\n",
    "    def __init__(self, collection: WordsCollection, reverse: bool = False) -> None:\n",
    "        collection.sort()\n",
    "        self._collection = collection\n",
    "        self._reverse = reverse\n",
    "        self._position = -1 if reverse else 0\n",
    "\n",
    "    def __next__(self):\n",
    "        \"\"\"\n",
    "        The __next__() method must return the next item in the sequence. On\n",
    "        reaching the end, and in subsequent calls, it must raise StopIteration.\n",
    "        \"\"\"\n",
    "        try:\n",
    "            value = self._collection[self._position]\n",
    "            self._position += -1 if self._reverse else 1\n",
    "        except IndexError:\n",
    "            raise StopIteration()\n",
    "\n",
    "        return value\n",
    "\n",
    "\n",
    "class WordsCollection(Iterable):\n",
    "    \"\"\"\n",
    "    Concrete Collections provide one or several methods for retrieving fresh\n",
    "    iterator instances, compatible with the collection class.\n",
    "    \"\"\"\n",
    "\n",
    "    def __init__(self, collection: List[Any] = []) -> None:\n",
    "        self._collection = collection\n",
    "\n",
    "    def __iter__(self) -> AlphabeticalOrderIterator:\n",
    "        \"\"\"\n",
    "        The __iter__() method returns the iterator object itself, by default we\n",
    "        return the iterator in ascending order.\n",
    "        \"\"\"\n",
    "        return AlphabeticalOrderIterator(self._collection)\n",
    "\n",
    "    def get_reverse_iterator(self) -> AlphabeticalOrderIterator:\n",
    "        return AlphabeticalOrderIterator(self._collection, True)\n",
    "\n",
    "    def add_item(self, item: Any):\n",
    "        self._collection.append(item)\n",
    "\n",
    "collection = WordsCollection()\n",
    "collection.add_item(\"Banana\")\n",
    "collection.add_item(\"Abacate\")\n",
    "collection.add_item(\"Caju\")\n",
    "\n",
    "print(\"Straight traversal:\")\n",
    "print(\"\\n\".join(collection))\n",
    "print(\"\")\n",
    "\n",
    "print(\"Reverse traversal:\")\n",
    "print(\"\\n\".join(collection.get_reverse_iterator()), end=\"\")\n",
    "        "
   ]
  },
  {
   "cell_type": "markdown",
   "metadata": {},
   "source": [
    "## Pros e cons"
   ]
  },
  {
   "cell_type": "markdown",
   "metadata": {},
   "source": [
    "__Pros__\n",
    "- Iterators sao uma forma homogenea de navegar colecoes de dados independente de qual data structure esta por baixo da colecao\n",
    "- Iterators permite que voce tenha diversas estrategias de navegacao para a mesma colecao, trees sao um bom exemplo de multiplas formas de navegacao para uma mesma estrutura alem disso voce pode implementar iterators para ordenar ou filtrar colecoes.\n",
    "- Voce pode ter diversos iterators sobre a mesma colecao sem que um afete o outro \n",
    "- Iterators protegem contra \"mutation\" (quando voce passa a referencia de uma data structure e ela (a original) acaba sendo alterada inadivertidamente)\n",
    "- Com iterators voce pode ter colecoes infinitas (na pratica o iterator gera os valores, ao invez de ler em uma data structure) ex: um random number generator\n",
    "\n",
    "__Cons__\n",
    "- O iterator eh coupled com a colecao entao voce nao consegue reutilizar o mesmo iterator para diversas colecoes\n",
    "- Para colecoes simples (array, linked lists) um decorator (que nao faca nada alem de iterar tipo sort ou filter) nao eh necessario\n",
    "- Esse pattern eh tao bom, que eh implementado na maioria das linguas, entao fica dificil pensar em cons"
   ]
  },
  {
   "cell_type": "markdown",
   "metadata": {},
   "source": [
    "## Possíveis _use cases_"
   ]
  },
  {
   "cell_type": "markdown",
   "metadata": {},
   "source": [
    "- Esse pattern eh a forma padrao de iterar sobre arrays, maps, linked lists na maioria das linguagens modernas\n",
    "- Iterators sao uma forma pratica de filtrar e ordenar colecoes"
   ]
  },
  {
   "cell_type": "markdown",
   "metadata": {},
   "source": [
    "## Perguntas\n",
    "- Consider a composite that contains loan objects. The loan object interface contains a method called \"AmountOfLoan()\", which returns the current market value of a loan. Given a requirement to extract all loans above, below or in between a certain amount, would you write or use an Iterator to do this?"
   ]
  }
 ],
 "metadata": {
  "kernelspec": {
   "display_name": "Python 3.7.3 64-bit",
   "language": "python",
   "name": "python37364bit82abf2e71c384b959a56691b60e27db6"
  },
  "language_info": {
   "codemirror_mode": {
    "name": "ipython",
    "version": 3
   },
   "file_extension": ".py",
   "mimetype": "text/x-python",
   "name": "python",
   "nbconvert_exporter": "python",
   "pygments_lexer": "ipython3",
   "version": "3.7.3-final"
  }
 },
 "nbformat": 4,
 "nbformat_minor": 2
}