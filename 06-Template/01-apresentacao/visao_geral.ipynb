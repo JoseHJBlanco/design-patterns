{
 "cells": [
  {
   "cell_type": "markdown",
   "metadata": {},
   "source": [
    "# Template Method"
   ]
  },
  {
   "cell_type": "markdown",
   "metadata": {},
   "source": [
    "## O que é"
   ]
  },
  {
   "cell_type": "markdown",
   "metadata": {},
   "source": [
    "O padrao Template Method define a estrutura básica de um algoritmo e permite que subclasses sobre-escrevam partes desse algoritmo sem alterar a estrutura como um todo."
   ]
  },
  {
   "cell_type": "markdown",
   "metadata": {},
   "source": [
    "## Razoes para o uso"
   ]
  },
  {
   "cell_type": "markdown",
   "metadata": {},
   "source": [
    "O Template Method é útil para casos em que há  \"família\" de métodos que têm uma estrutura similar, mas diferem em alguns passos. Usando _inheritance_, a classe base pode estabelecer o \"esqueleto\" do algoritmo e a implementacao de alguns (ou todos) seus passos, deixando às subclasses a tarefa de sobre-escrever ou implementar outros passos. Com isso, é possível que as diferentes implementacoes do algoritmo reaproveitem os passos que têm em comum, evitando a repeticao."
   ]
  },
  {
   "cell_type": "markdown",
   "metadata": {},
   "source": [
    "## Um exemplo básico"
   ]
  },
  {
   "cell_type": "markdown",
   "metadata": {},
   "source": [
    "Em materiais de estudos sobre o Template Pattern, um exemplo muito comum é o de uma receita. Para fazer um bolo de chocolate, por exemplo, precisaríamos seguir os seguintes passos: "
   ]
  },
  {
   "cell_type": "code",
   "execution_count": 1,
   "metadata": {},
   "outputs": [
    {
     "name": "stdout",
     "output_type": "stream",
     "text": [
      "Comprar chocolate, ovos, manteiga, acucar e farinha\n",
      "Misturar os ingredientes\n",
      "Pré-aquecer o forno\n",
      "Assar o bolo\n",
      "Tirar o bolo do forno\n",
      "Esperar o bolo esfriar\n"
     ]
    }
   ],
   "source": [
    "def make_chocolate_cake():\n",
    "    print(\"Comprar chocolate, ovos, manteiga, acucar e farinha\")\n",
    "    print(\"Pré-aquecer o forno\")\n",
    "    print(\"Misturar os ingredientes\")\n",
    "    print(\"Cobrir o bolo com chocolate granulado\")\n",
    "    print(\"Assar o bolo\")\n",
    "    print(\"Tirar o bolo do forno\")\n",
    "    print(\"Esperar o bolo esfriar\")\n",
    "\n",
    "make_chocolate_cake()"
   ]
  },
  {
   "cell_type": "markdown",
   "metadata": {},
   "source": [
    "O método funciona, mas está longe de ser o ideal. Se quisermos fazer um bolo de cenoura, por exemplo, teríamos que criar um novo método do zero:"
   ]
  },
  {
   "cell_type": "code",
   "execution_count": null,
   "metadata": {},
   "outputs": [],
   "source": [
    "def make_carrot_cake():\n",
    "    print(\"Comprar cenoura, ovos, canela, manteiga, acucar e farinha\")\n",
    "    print(\"Pré-aquecer o forno\")\n",
    "    print(\"Misturar os ingredientes\")\n",
    "    print(\"Polvilhar o bolo com canela\")\n",
    "    print(\"Assar o bolo\")\n",
    "    print(\"Tirar o bolo do forno\")\n",
    "    print(\"Esperar o bolo esfriar\")\n",
    "\n",
    "make_carrot_cake()"
   ]
  },
  {
   "cell_type": "markdown",
   "metadata": {},
   "source": [
    "Nao é difícil ver que os dois métodos têm muito em comum e divergem apenas em dois pontos: a compra dos ingredientes e a etapa imediatamente anterior à mistura dos ingredientes. Há muita repeticao e pouca escalabilidade. Vejamos como o Template method resolve esse problema:"
   ]
  },
  {
   "cell_type": "code",
   "execution_count": 6,
   "metadata": {},
   "outputs": [
    {
     "name": "stdout",
     "output_type": "stream",
     "text": [
      "Comprar chocolate, ovos, manteiga, acucar e farinha\n",
      "Pré-aquecer o forno\n",
      "Misturar os ingredients\n",
      "Cobrir o bolo com chocolate granulado\n",
      "Assar o bolo\n",
      "Tirar o bolo do forno\n",
      "Esperar o bolo esfriar\n",
      "\n",
      "Comprar cenoura, ovos, canela, manteiga, acucar e farinha\n",
      "Pré-aquecer o forno\n",
      "Misturar os ingredients\n",
      "Polvilhar o bolo com canela\n",
      "Assar o bolo\n",
      "Tirar o bolo do forno\n",
      "Esperar o bolo esfriar\n"
     ]
    }
   ],
   "source": [
    "import abc\n",
    "\n",
    "\n",
    "class Cake(abc.ABC):\n",
    "           \n",
    "    @abc.abstractmethod\n",
    "    def buy_ingredients(self):\n",
    "        pass\n",
    "    \n",
    "    def pre_heat_oven(self):\n",
    "        print(\"Pré-aquecer o forno\")\n",
    "    \n",
    "    def mix_ingredients(self):\n",
    "        print(\"Misturar os ingredientes\")\n",
    "           \n",
    "    @abc.abstractmethod    \n",
    "    def prepare_topping(self):\n",
    "        pass\n",
    "    \n",
    "    def bake(self):\n",
    "        print(\"Assar o bolo\")\n",
    "    \n",
    "    def remove_cake(self):\n",
    "        print(\"Tirar o bolo do forno\")\n",
    "    \n",
    "    def wait_for_cake(self):\n",
    "        print(\"Esperar o bolo esfriar\")\n",
    "            \n",
    "    def make_cake(self):\n",
    "        self.buy_ingredients()\n",
    "        self.pre_heat_oven()\n",
    "        self.mix_ingredients()\n",
    "        self.prepare_topping()\n",
    "        self.bake()\n",
    "        self.remove_cake()\n",
    "        self.wait_for_cake()\n",
    "           \n",
    "\n",
    "class ChocolateCake(Cake):\n",
    "    def buy_ingredients(self):\n",
    "        print(\"Comprar chocolate, ovos, manteiga, acucar e farinha\")\n",
    "    \n",
    "    def prepare_topping(self):\n",
    "        print(\"Cobrir o bolo com chocolate granulado\")\n",
    "\n",
    "        \n",
    "class CarrotCake(Cake):\n",
    "    def buy_ingredients(self):\n",
    "        print(\"Comprar cenoura, ovos, canela, manteiga, acucar e farinha\")\n",
    "    \n",
    "    def prepare_topping(self):\n",
    "        print(\"Polvilhar o bolo com canela\")\n",
    "\n",
    "           \n",
    "cake1 = ChocolateCake()\n",
    "cake2 = CarrotCake()\n",
    "\n",
    "cake1.make_cake()\n",
    "print()\n",
    "cake2.make_cake()"
   ]
  },
  {
   "cell_type": "markdown",
   "metadata": {},
   "source": [
    "`make_cake`, nesse caso, seria nosso Template: um método que as subclasses jamais sobre-escrevem, e que é responsável por invocar todos os métodos na ordem pré-estabelecida. Com isso, pudemos reaproveitar todos os elementos em comum entre as duas receitas, sem a necessidade de duplicar o código."
   ]
  },
  {
   "cell_type": "markdown",
   "metadata": {},
   "source": [
    "## Template X Strategy"
   ]
  },
  {
   "cell_type": "markdown",
   "metadata": {},
   "source": [
    "Enquanto o padrao Strategy usa _object composition_ para substituir um algoritmo dentro de uma classe por outro algoritmo intercambiável, o Template Method usa _inheritance_ para substituir partes de um algoritmo, mas manter a estrutura geral. Se a única diferenca entre um bolo de chocolate e um bolo de cenoura fosse uma etapa do preparo, por exemplo, poderíamos dar conta da situacao usando diferentes objetos _strategy_ para substituir essa parte do algoritmo, mas haveria uma explosao de complexidade se diferentes bolos precisassem substituir partes diferentes da receita. \n",
    "\n",
    "O Template Method evita esse problema delegando o controle às subclasses que mantém a possibilidade de sobrescrever qualquer parte do algoritmo -- nao apenas os métodos abstratos. Se quisermos comer um bolo quente, por exemplo, basta substituir o método `wait_for_cake`:"
   ]
  },
  {
   "cell_type": "code",
   "execution_count": 7,
   "metadata": {},
   "outputs": [
    {
     "name": "stdout",
     "output_type": "stream",
     "text": [
      "Comprar chocolate, ovos, manteiga, acucar e farinha\n",
      "Pré-aquecer o forno\n",
      "Misturar os ingredients\n",
      "Cobrir o bolo com chocolate granulado\n",
      "Assar o bolo\n",
      "Tirar o bolo do forno\n"
     ]
    }
   ],
   "source": [
    "class HotChocolateCake(ChocolateCake):\n",
    "    def wait_for_cake(self):\n",
    "        pass\n",
    "\n",
    "c3 = HotChocolateCake()\n",
    "c3.make_cake()"
   ]
  },
  {
   "cell_type": "markdown",
   "metadata": {},
   "source": [
    "Essa possibilidade, no entanto, deve ser usada com cuidado para que a subclasse nao sobrescreva uma parte essencial do Template Method."
   ]
  },
  {
   "cell_type": "markdown",
   "metadata": {},
   "source": [
    "## Hooks"
   ]
  },
  {
   "cell_type": "markdown",
   "metadata": {},
   "source": [
    "Para aumentar a flexibilidade do Template Method, uma prática comum é a definicao de _hooks_: métodos vazios que sao executados em diferentes partes do ciclo de vida do Template Method. Voltando à nossa classe Cake, uma implementacao com _hooks_ poderia ficar assim:"
   ]
  },
  {
   "cell_type": "code",
   "execution_count": 11,
   "metadata": {},
   "outputs": [
    {
     "name": "stdout",
     "output_type": "stream",
     "text": [
      "Comprar chocolate, ovos, manteiga, acucar e farinha\n",
      "Pré-aquecer o forno\n",
      "Misturar os ingredientes\n",
      "Cobrir o bolo com chocolate granulado\n",
      "Assar o bolo\n",
      "Tirar o bolo do forno\n",
      "Esperar o bolo esfriar\n"
     ]
    }
   ],
   "source": [
    "class Cake(abc.ABC):\n",
    "    \n",
    "    def before_buying_ingredients(self):\n",
    "        pass\n",
    "           \n",
    "    @abc.abstractmethod\n",
    "    def buy_ingredients(self):\n",
    "        pass\n",
    "    \n",
    "    def pre_heat_oven(self):\n",
    "        print(\"Pré-aquecer o forno\")\n",
    "    \n",
    "    def before_mixing_ingredients(self):\n",
    "        pass\n",
    "    \n",
    "    def mix_ingredients(self):\n",
    "        print(\"Misturar os ingredientes\")\n",
    "           \n",
    "    @abc.abstractmethod    \n",
    "    def prepare_topping(self):\n",
    "        pass\n",
    "\n",
    "    def before_baking(self):\n",
    "        pass\n",
    "    \n",
    "    def bake(self):\n",
    "        print(\"Assar o bolo\")\n",
    "    \n",
    "    def before_removing(self):\n",
    "        pass\n",
    "    \n",
    "    def remove_cake(self):\n",
    "        print(\"Tirar o bolo do forno\")\n",
    "    \n",
    "    def after_removing(self):\n",
    "        pass\n",
    "    \n",
    "    def wait_for_cake(self):\n",
    "        print(\"Esperar o bolo esfriar\")\n",
    "    \n",
    "    def after_waiting(self):\n",
    "        pass\n",
    "\n",
    "            \n",
    "    def make_cake(self):\n",
    "        self.before_buying_ingredients()\n",
    "        self.buy_ingredients()\n",
    "        self.pre_heat_oven()\n",
    "        self.before_mixing_ingredients()\n",
    "        self.mix_ingredients()\n",
    "        self.prepare_topping()\n",
    "        self.before_baking()\n",
    "        self.bake()\n",
    "        self.before_removing()\n",
    "        self.remove_cake()\n",
    "        self.wait_for_cake()\n",
    "        self.after_waiting()\n",
    "\n",
    "        \n",
    "class ChocolateCake(Cake):\n",
    "    def buy_ingredients(self):\n",
    "        print(\"Comprar chocolate, ovos, manteiga, acucar e farinha\")\n",
    "    \n",
    "    def prepare_topping(self):\n",
    "        print(\"Cobrir o bolo com chocolate granulado\")\n",
    "\n",
    "cake1 = ChocolateCake()\n",
    "cake1.make_cake()\n",
    "        "
   ]
  },
  {
   "cell_type": "markdown",
   "metadata": {},
   "source": [
    "À primeira vista, a única coisa que fizemos foi encher a classe de métodos que nao fazem absolutamente nada e que, ao contrário de `buy_ingredients` e `prepare_topping`, nao precisam ser implementados nas subclasses. Porém, esses métodos opcionais -- chamados de _hooks_ -- permitem que o Template Method tenha uma enorme flexibilidade. Suponhamos, por exemplo, que estejamos vivendo uma pandemia global e precisemos tomar medidas adicionais para preparar o nosso bolo. Com a classe original, sem _hooks_, precisaríamos reescrever todo o código. A nova versao, porém, está pronta para 2020:"
   ]
  },
  {
   "cell_type": "code",
   "execution_count": 12,
   "metadata": {
    "scrolled": false
   },
   "outputs": [
    {
     "name": "stdout",
     "output_type": "stream",
     "text": [
      "Vestir uma máscara\n",
      "Comprar chocolate, ovos, manteiga, acucar e farinha\n",
      "Pré-aquecer o forno\n",
      "Lavar todas as compras\n",
      "Misturar os ingredientes\n",
      "Cobrir o bolo com chocolate granulado\n",
      "Chamar os amigos para uma festa do bolo no Zoom\n",
      "Assar o bolo\n",
      "Lavar as maos\n",
      "Tirar o bolo do forno\n",
      "Esperar o bolo esfriar\n",
      "Comer o bolo na frente do computador\n"
     ]
    }
   ],
   "source": [
    "class QuarantineChocolateCake(ChocolateCake):\n",
    "    \n",
    "    def before_buying_ingredients(self):\n",
    "        print(\"Vestir uma máscara\")\n",
    "    \n",
    "    def before_mixing_ingredients(self):\n",
    "        print(\"Lavar todas as compras\")\n",
    "    \n",
    "    def before_baking(self):\n",
    "        print(\"Chamar os amigos para uma festa do bolo no Zoom\")\n",
    "        \n",
    "    def before_removing(self):\n",
    "        print(\"Lavar as maos\")\n",
    "        \n",
    "    def after_waiting(self):\n",
    "        print(\"Comer o bolo na frente do computador\")\n",
    "        \n",
    "\n",
    "cake1 = QuarantineChocolateCake()\n",
    "cake1.make_cake()"
   ]
  },
  {
   "cell_type": "markdown",
   "metadata": {},
   "source": [
    "## Vantagens e desvantagens:"
   ]
  },
  {
   "cell_type": "markdown",
   "metadata": {},
   "source": [
    "Prós:\n",
    "- Diminui a repeticao\n",
    "- Garante um comportamento padrao\n",
    "\n",
    "Contras:\n",
    "- Um template method muito complexo pode tornar-se difícil de manter\n",
    "- O uso de uma estrutura comum reduz a flexibilidade na implementacao do algoritmo"
   ]
  },
  {
   "cell_type": "markdown",
   "metadata": {},
   "source": [
    "## Estrutura:"
   ]
  },
  {
   "attachments": {
    "Template_Method_design_pattern.png": {
     "image/png": "[encoded data removed]"
    }
   },
   "cell_type": "markdown",
   "metadata": {},
   "source": [
    "![Template_Method_design_pattern.png](attachment:Template_Method_design_pattern.png)"
   ]
  }
 ],
 "metadata": {
  "kernelspec": {
   "display_name": "Python 3",
   "language": "python",
   "name": "python3"
  },
  "language_info": {
   "codemirror_mode": {
    "name": "ipython",
    "version": 3
   },
   "file_extension": ".py",
   "mimetype": "text/x-python",
   "name": "python",
   "nbconvert_exporter": "python",
   "pygments_lexer": "ipython3",
   "version": "3.7.3"
  }
 },
 "nbformat": 4,
 "nbformat_minor": 2
}
