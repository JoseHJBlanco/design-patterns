{
 "cells": [
  {
   "cell_type": "markdown",
   "metadata": {},
   "source": [
    "# Abstract Factory"
   ]
  },
  {
   "cell_type": "markdown",
   "metadata": {},
   "source": [
    "## O que é?"
   ]
  },
  {
   "cell_type": "markdown",
   "metadata": {},
   "source": [
    "Esse padrão prevê a criação de uma interface única para para elementos que fazem parte de um grupo ou que dependem uns nos outros."
   ]
  },
  {
   "cell_type": "markdown",
   "metadata": {},
   "source": [
    "## Por quê?"
   ]
  },
  {
   "cell_type": "markdown",
   "metadata": {},
   "source": [
    "Muitas vezes diferentes classes devem ser usadas em diferentes contextos ou em conjunto com diferentes objetos, ainda que elas desempenhem a mesma função. O padrão _abstract factory_ pertide classes específicas não sejam _hardcoded_, tornando o código mais flexível."
   ]
  },
  {
   "cell_type": "markdown",
   "metadata": {},
   "source": [
    "## Estrutura "
   ]
  },
  {
   "cell_type": "markdown",
   "metadata": {},
   "source": [
    "![estrutura](assets/estrutura.png)"
   ]
  },
  {
   "cell_type": "markdown",
   "metadata": {},
   "source": [
    "## Exemplo 1"
   ]
  },
  {
   "cell_type": "markdown",
   "metadata": {},
   "source": [
    "Uma companhia SaaS usa _machine learning_ para previnir fraude. Dois tipos de modelos são usados em produção, um simples model multiplicativo chamado _Logistic Regression_ e um modelo baseado em árvores de decisões chamado _Random Forest_. Cada modelo utiliza um método de optimização de parametros diferent, _Grid Search_ e _Random Search_ respectivamente.\n",
    "\n",
    "Vamos ver como isso functionaria na prática."
   ]
  },
  {
   "cell_type": "code",
   "execution_count": 68,
   "metadata": {},
   "outputs": [],
   "source": [
    "import abc\n",
    "import random\n",
    "\n",
    "class BaseModel(abc.ABC):\n",
    "    \"\"\"\n",
    "    Define the base interface for models\n",
    "    \"\"\"\n",
    "    \n",
    "    @abc.abstractmethod\n",
    "    def fit(self, X: \"List[List[float]]\", y: \"List[int]\"):\n",
    "        \"\"\"\n",
    "        Train the model\n",
    "        \"\"\"\n",
    "        pass\n",
    "    \n",
    "    def predict(self, X):\n",
    "        print(f\"{self.__class__.__name__} has predicted something...\")\n",
    "\n",
    "class LogisticRegression(BaseModel):\n",
    "    def __init__(self, l1_reg: float = 0, l2_reg: float = 1):\n",
    "        self._l1_reg = l1_reg\n",
    "        self._l2_reg = l2_reg\n",
    "        \n",
    "    def fit(self, X: \"List[List[float]]\", y: \"List[int]\"):\n",
    "        print(f\"Fitted using l1 of: {self._l1_reg} and l2 of {self._l2_reg}\")\n",
    "        \n",
    "    def __repr__(self):\n",
    "        return f\"LogistRegression(l1_reg={self._l1_reg}, l2_reg={self._l2_reg})\"\n",
    "        \n",
    "class RandomForest(BaseModel):\n",
    "    def __init__(self, max_depth: int = 50, n_estimators: int = 20):\n",
    "        self._max_depth = max_depth\n",
    "        self._n_estimators = n_estimators\n",
    "        \n",
    "    def fit(self, X: \"List[List[float]]\", y: \"List[int]\"):\n",
    "        print(\n",
    "            f\"Fitted using max_depth of: {self._max_depth} and {self._n_estimators} estimators\"\n",
    "        )\n",
    "\n",
    "    def __repr__(self):\n",
    "        return f\"RandomForest(max_depth={self._max_depth}, n_estimators={self._n_estimators})\"\n",
    "        \n",
    "class BaseTuner(abc.ABC):\n",
    "    \"\"\"\n",
    "    Defines the interface for hyper-parameter tuning classes.\n",
    "    \"\"\"\n",
    "    @abc.abstractmethod\n",
    "    def tune(self) -> \"BaseModel\":\n",
    "        \"\"\"\n",
    "        Tune the parameters of a model.\n",
    "        \"\"\"\n",
    "        pass\n",
    "        \n",
    "class GridSearch(BaseTuner):\n",
    "    def __init__(self, model : \"BaseModel\", params: dict):\n",
    "        self._model = model.__class__\n",
    "        self._params = params\n",
    "              \n",
    "    def tune(self) -> \"BaseModel\":\n",
    "        print(\"grid searching...\")\n",
    "        best_params = {param: random.randint(10, 50) for param in self._params}\n",
    "        return self._model(**best_params)\n",
    "        \n",
    "class RandomSearch(BaseTuner):\n",
    "    def __init__(self, model : \"BaseModel\", params: dict):\n",
    "        if not isinstance(model, RandomForest):\n",
    "            raise ValueError(f\"{model.__class__} is not supported.\")\n",
    "        self._model = model.__class__\n",
    "        self._params = params\n",
    "\n",
    "    def tune(self) -> \"BaseModel\":\n",
    "        print(\"randomly searching...\")\n",
    "        best_params = {param: random.randint(10, 50) for param in self._params}\n",
    "        return self._model(**best_params)"
   ]
  },
  {
   "cell_type": "markdown",
   "metadata": {},
   "source": [
    "No dia a dia..."
   ]
  },
  {
   "cell_type": "code",
   "execution_count": 69,
   "metadata": {},
   "outputs": [],
   "source": [
    "X = [list(range(3)) for _ in range(10)]\n",
    "y = [random.randrange(0, 2) for _ in range(10)]"
   ]
  },
  {
   "cell_type": "code",
   "execution_count": 70,
   "metadata": {},
   "outputs": [
    {
     "data": {
      "text/plain": [
       "[[0, 1, 2],\n",
       " [0, 1, 2],\n",
       " [0, 1, 2],\n",
       " [0, 1, 2],\n",
       " [0, 1, 2],\n",
       " [0, 1, 2],\n",
       " [0, 1, 2],\n",
       " [0, 1, 2],\n",
       " [0, 1, 2],\n",
       " [0, 1, 2]]"
      ]
     },
     "execution_count": 70,
     "metadata": {},
     "output_type": "execute_result"
    }
   ],
   "source": [
    "X"
   ]
  },
  {
   "cell_type": "code",
   "execution_count": 71,
   "metadata": {},
   "outputs": [
    {
     "data": {
      "text/plain": [
       "[1, 1, 1, 0, 1, 1, 0, 0, 1, 1]"
      ]
     },
     "execution_count": 71,
     "metadata": {},
     "output_type": "execute_result"
    }
   ],
   "source": [
    "y"
   ]
  },
  {
   "cell_type": "code",
   "execution_count": 73,
   "metadata": {},
   "outputs": [
    {
     "name": "stdout",
     "output_type": "stream",
     "text": [
      "randomly searching...\n"
     ]
    },
    {
     "data": {
      "text/plain": [
       "RandomForest(max_depth=14, n_estimators=20)"
      ]
     },
     "execution_count": 73,
     "metadata": {},
     "output_type": "execute_result"
    }
   ],
   "source": [
    "rf = RandomForest()\n",
    "\n",
    "params = {\"max_depth\": range(10, 50, 5)}\n",
    "\n",
    "tuned_rf = RandomSearch(rf, params).tune()\n",
    "tuned_rf"
   ]
  },
  {
   "cell_type": "code",
   "execution_count": 74,
   "metadata": {},
   "outputs": [
    {
     "name": "stdout",
     "output_type": "stream",
     "text": [
      "grid searching...\n"
     ]
    },
    {
     "data": {
      "text/plain": [
       "LogistRegression(l1_reg=16, l2_reg=1)"
      ]
     },
     "execution_count": 74,
     "metadata": {},
     "output_type": "execute_result"
    }
   ],
   "source": [
    "lr = LogisticRegression()\n",
    "\n",
    "params = {\"l1_reg\": range(10, 50, 5)}\n",
    "\n",
    "tuned_lr = GridSearch(lr, params).tune()\n",
    "tuned_lr"
   ]
  },
  {
   "cell_type": "markdown",
   "metadata": {},
   "source": [
    "Mas por falta de atencao, um usuario acaba intruduzindo um _bug_ ao tentar optimizar o model utilizando o _tuner_ errado."
   ]
  },
  {
   "cell_type": "code",
   "execution_count": 75,
   "metadata": {},
   "outputs": [
    {
     "ename": "ValueError",
     "evalue": "<class '__main__.LogisticRegression'> is not supported.",
     "output_type": "error",
     "traceback": [
      "\u001b[0;31m---------------------------------------------------------------------------\u001b[0m",
      "\u001b[0;31mValueError\u001b[0m                                Traceback (most recent call last)",
      "\u001b[0;32m<ipython-input-75-17b511cb39c9>\u001b[0m in \u001b[0;36m<module>\u001b[0;34m\u001b[0m\n\u001b[1;32m      3\u001b[0m \u001b[0mparams\u001b[0m \u001b[0;34m=\u001b[0m \u001b[0;34m{\u001b[0m\u001b[0;34m\"l1_reg\"\u001b[0m\u001b[0;34m:\u001b[0m \u001b[0mrange\u001b[0m\u001b[0;34m(\u001b[0m\u001b[0;36m10\u001b[0m\u001b[0;34m,\u001b[0m \u001b[0;36m50\u001b[0m\u001b[0;34m,\u001b[0m \u001b[0;36m5\u001b[0m\u001b[0;34m)\u001b[0m\u001b[0;34m}\u001b[0m\u001b[0;34m\u001b[0m\u001b[0;34m\u001b[0m\u001b[0m\n\u001b[1;32m      4\u001b[0m \u001b[0;34m\u001b[0m\u001b[0m\n\u001b[0;32m----> 5\u001b[0;31m \u001b[0mtuned_lr\u001b[0m \u001b[0;34m=\u001b[0m \u001b[0mRandomSearch\u001b[0m\u001b[0;34m(\u001b[0m\u001b[0mlr\u001b[0m\u001b[0;34m,\u001b[0m \u001b[0mparams\u001b[0m\u001b[0;34m)\u001b[0m\u001b[0;34m.\u001b[0m\u001b[0mtune\u001b[0m\u001b[0;34m(\u001b[0m\u001b[0;34m)\u001b[0m\u001b[0;34m\u001b[0m\u001b[0;34m\u001b[0m\u001b[0m\n\u001b[0m\u001b[1;32m      6\u001b[0m \u001b[0mtuned_lr\u001b[0m\u001b[0;34m\u001b[0m\u001b[0;34m\u001b[0m\u001b[0m\n",
      "\u001b[0;32m<ipython-input-68-2c179e6f841d>\u001b[0m in \u001b[0;36m__init__\u001b[0;34m(self, model, params)\u001b[0m\n\u001b[1;32m     65\u001b[0m     \u001b[0;32mdef\u001b[0m \u001b[0m__init__\u001b[0m\u001b[0;34m(\u001b[0m\u001b[0mself\u001b[0m\u001b[0;34m,\u001b[0m \u001b[0mmodel\u001b[0m \u001b[0;34m:\u001b[0m \u001b[0;34m\"BaseModel\"\u001b[0m\u001b[0;34m,\u001b[0m \u001b[0mparams\u001b[0m\u001b[0;34m:\u001b[0m \u001b[0mdict\u001b[0m\u001b[0;34m)\u001b[0m\u001b[0;34m:\u001b[0m\u001b[0;34m\u001b[0m\u001b[0;34m\u001b[0m\u001b[0m\n\u001b[1;32m     66\u001b[0m         \u001b[0;32mif\u001b[0m \u001b[0;32mnot\u001b[0m \u001b[0misinstance\u001b[0m\u001b[0;34m(\u001b[0m\u001b[0mmodel\u001b[0m\u001b[0;34m,\u001b[0m \u001b[0mRandomForest\u001b[0m\u001b[0;34m)\u001b[0m\u001b[0;34m:\u001b[0m\u001b[0;34m\u001b[0m\u001b[0;34m\u001b[0m\u001b[0m\n\u001b[0;32m---> 67\u001b[0;31m             \u001b[0;32mraise\u001b[0m \u001b[0mValueError\u001b[0m\u001b[0;34m(\u001b[0m\u001b[0;34mf\"{model.__class__} is not supported.\"\u001b[0m\u001b[0;34m)\u001b[0m\u001b[0;34m\u001b[0m\u001b[0;34m\u001b[0m\u001b[0m\n\u001b[0m\u001b[1;32m     68\u001b[0m         \u001b[0mself\u001b[0m\u001b[0;34m.\u001b[0m\u001b[0m_model\u001b[0m \u001b[0;34m=\u001b[0m \u001b[0mmodel\u001b[0m\u001b[0;34m.\u001b[0m\u001b[0m__class__\u001b[0m\u001b[0;34m\u001b[0m\u001b[0;34m\u001b[0m\u001b[0m\n\u001b[1;32m     69\u001b[0m         \u001b[0mself\u001b[0m\u001b[0;34m.\u001b[0m\u001b[0m_params\u001b[0m \u001b[0;34m=\u001b[0m \u001b[0mparams\u001b[0m\u001b[0;34m\u001b[0m\u001b[0;34m\u001b[0m\u001b[0m\n",
      "\u001b[0;31mValueError\u001b[0m: <class '__main__.LogisticRegression'> is not supported."
     ]
    }
   ],
   "source": [
    "lr = LogisticRegression()\n",
    "\n",
    "params = {\"l1_reg\": range(10, 50, 5)}\n",
    "\n",
    "tuned_lr = RandomSearch(lr, params).tune()\n",
    "tuned_lr"
   ]
  },
  {
   "cell_type": "markdown",
   "metadata": {},
   "source": [
    "Utilizando o pardrao _Abstract Facotry_ nos podemos mitigar tal problema."
   ]
  },
  {
   "cell_type": "code",
   "execution_count": 85,
   "metadata": {},
   "outputs": [],
   "source": [
    "class ModelStackFactory(abc.ABC):\n",
    "    @abc.abstractmethod\n",
    "    def get_model(self, **params: \"Any\") -> \"BaseModel\":\n",
    "        \"\"\"\n",
    "        Instantiate a model.\n",
    "        \"\"\"\n",
    "        pass\n",
    "    \n",
    "    def get_tuner(self, model: \"BaseModel\") -> \"BaseTuner\":\n",
    "        \"\"\"\n",
    "        Return the instance of tuner used to tune the model parameters.\n",
    "        \"\"\"\n",
    "        pass\n",
    "    \n",
    "\n",
    "class RandomForestFactory(ModelStackFactory):\n",
    "    def get_model(self, **params: \"Any\") -> \"BaseModel\":\n",
    "        return RandomForest(**params)\n",
    "    \n",
    "    def get_tuner(self, model: \"BaseModel\", params: dict = None) -> \"BaseTuner\":\n",
    "        params = params or {\"max_depth\": range(10, 100, 10)}\n",
    "        return RandomSearch(model, params)\n",
    "    \n",
    "\n",
    "class LogisticRegressionFactory(ModelStackFactory):\n",
    "    def get_model(self, **params: \"Any\") -> \"BasseModel\":\n",
    "        return LogisticRegression(**params)\n",
    "    \n",
    "    def get_tuner(self, model: \"BaseModel\", params: dict = None) -> \"BaseTuner\":\n",
    "        params = params or {\"l1_reg\": range(10, 100, 10)}\n",
    "        return GridSearch(model, params)    "
   ]
  },
  {
   "cell_type": "code",
   "execution_count": 86,
   "metadata": {},
   "outputs": [
    {
     "name": "stdout",
     "output_type": "stream",
     "text": [
      "randomly searching...\n"
     ]
    },
    {
     "data": {
      "text/plain": [
       "RandomForest(max_depth=50, n_estimators=20)"
      ]
     },
     "execution_count": 86,
     "metadata": {},
     "output_type": "execute_result"
    }
   ],
   "source": [
    "factory = RandomForestFactory()\n",
    "\n",
    "model = factory.get_model(max_depth=50)\n",
    "tuner = factory.get_tuner(model)\n",
    "tuned = tuner.tune()\n",
    "tuned"
   ]
  },
  {
   "cell_type": "code",
   "execution_count": 87,
   "metadata": {},
   "outputs": [
    {
     "name": "stdout",
     "output_type": "stream",
     "text": [
      "grid searching...\n"
     ]
    },
    {
     "data": {
      "text/plain": [
       "LogistRegression(l1_reg=31, l2_reg=1)"
      ]
     },
     "execution_count": 87,
     "metadata": {},
     "output_type": "execute_result"
    }
   ],
   "source": [
    "factory = LogisticRegressionFactory()\n",
    "\n",
    "model = factory.get_model(l2_reg=50)\n",
    "tuner = factory.get_tuner(model)\n",
    "tuned = tuner.tune()\n",
    "tuned"
   ]
  },
  {
   "cell_type": "markdown",
   "metadata": {},
   "source": [
    "## Exemplo 2"
   ]
  },
  {
   "cell_type": "markdown",
   "metadata": {},
   "source": [
    "A nossa companhia trabalha com uma database relacional e de documents local, porem pretende migrar para um _Cloud Provider_. O _Abstract Factory_ pode ser um padrao para tornar a migracao simples."
   ]
  },
  {
   "cell_type": "code",
   "execution_count": 98,
   "metadata": {},
   "outputs": [],
   "source": [
    "import os\n",
    "\n",
    "\n",
    "class SQLClient(abc.ABC):\n",
    "    @abc.abstractmethod\n",
    "    def query(self, query: str) -> iter:\n",
    "        \"\"\"\n",
    "        Run a SQL query and return an iterator with the results\n",
    "        \"\"\"\n",
    "        pass\n",
    "    \n",
    "    \n",
    "class CloudSQL(SQLClient):\n",
    "    def __init__(self, project_id: str, auth_key: str):\n",
    "        self._project_id = project_id\n",
    "        self._auth_key = auth_key\n",
    "        \n",
    "    def _auth(self):\n",
    "        return self._project_id and self._auth_key\n",
    "        \n",
    "    def query(self, query: str) -> iter:\n",
    "        if not self._auth():\n",
    "            raise ValueError(\"Invalid credentials\")\n",
    "        \n",
    "        print(\"Queruing cloud SQL.\")\n",
    "        return [{\"id\": i, \"customer\": f\"cust_{i}\"} for i in range(10)]\n",
    "    \n",
    "    \n",
    "class PGSQL(SQLClient):\n",
    "    def __init__(self, db: str):\n",
    "        self._db = db\n",
    "        \n",
    "    def query(self, query: str) -> iter:\n",
    "        print(\"Querying Postgre.\")\n",
    "        return [{\"id\": i, \"customer\": f\"cust_{i}\"} for i in range(10)]\n",
    "    \n",
    "    \n",
    "class DocumentClient(abc.ABC):\n",
    "    @abc.abstractmethod\n",
    "    def query(self, query: dict) -> iter:\n",
    "        \"\"\"\n",
    "        Query the document database and returns an iterable with the results\n",
    "        \"\"\"\n",
    "        pass\n",
    "    \n",
    "    \n",
    "class MongoClient(DocumentClient):\n",
    "    def query(self, query: dict) -> iter:\n",
    "        print(\"Querying mongo\")\n",
    "        return [{\"id\": i, \"document\": f\"doc_{i}\"} for i in range(10)]\n",
    "\n",
    "    \n",
    "class MongoAtlasClient(DocumentClient):\n",
    "    def query(self, query: dict) -> iter:\n",
    "        print(\"Querying mongo atlas\")\n",
    "        return [{\"id\": i, \"document\": f\"doc_{i}\"} for i in range(10)]\n",
    "    \n",
    "    \n",
    "class DAOFactory(abc.ABC):\n",
    "    @abc.abstractmethod\n",
    "    def create_sql_client(self) -> \"SQLClient\":\n",
    "        \"\"\"\n",
    "        Create a client for a SQL database.\n",
    "        \"\"\"\n",
    "        pass\n",
    "    \n",
    "    @abc.abstractmethod\n",
    "    def create_document_client(self) -> \"DocumentClient\":\n",
    "        \"\"\"\n",
    "        Create a client for a document based database.\n",
    "        \"\"\"\n",
    "        pass\n",
    "    \n",
    "class LocalDAOFactory(DAOFactory):\n",
    "    def __init__(self):\n",
    "        self._db_name = \"blah\"\n",
    "    \n",
    "    def create_sql_client(self) -> \"SQLClient\":\n",
    "        return PGSQL(self._db_name)\n",
    "    \n",
    "    def create_document_client(self) -> \"DocumentClient\":\n",
    "        return MongoClient()\n",
    "    \n",
    "\n",
    "class CloudDAOFactory(DAOFactory):\n",
    "    def __init__(self):\n",
    "        self._project_id = \"design-patterns\"\n",
    "        self._auth_key = os.getenv(\"CLOUD_AUTH_KEY\", \"123\")\n",
    "    \n",
    "    def create_sql_client(self) -> \"SQLClient\":\n",
    "        return CloudSQL(self._project_id, self._auth_key)\n",
    "    \n",
    "    def create_document_client(self) -> \"DocumentClient\":\n",
    "        return MongoAtlasClient()"
   ]
  },
  {
   "cell_type": "code",
   "execution_count": 99,
   "metadata": {},
   "outputs": [],
   "source": [
    "factories = {\n",
    "    \"cloud\": CloudDAOFactory,\n",
    "    \"local\": LocalDAOFactory,\n",
    "}"
   ]
  },
  {
   "cell_type": "code",
   "execution_count": 103,
   "metadata": {},
   "outputs": [
    {
     "name": "stdout",
     "output_type": "stream",
     "text": [
      "Querying Postgre.\n",
      "[{'id': 0, 'customer': 'cust_0'}, {'id': 1, 'customer': 'cust_1'}, {'id': 2, 'customer': 'cust_2'}, {'id': 3, 'customer': 'cust_3'}, {'id': 4, 'customer': 'cust_4'}, {'id': 5, 'customer': 'cust_5'}, {'id': 6, 'customer': 'cust_6'}, {'id': 7, 'customer': 'cust_7'}, {'id': 8, 'customer': 'cust_8'}, {'id': 9, 'customer': 'cust_9'}]\n",
      "Querying mongo\n",
      "[{'id': 0, 'document': 'doc_0'}, {'id': 1, 'document': 'doc_1'}, {'id': 2, 'document': 'doc_2'}, {'id': 3, 'document': 'doc_3'}, {'id': 4, 'document': 'doc_4'}, {'id': 5, 'document': 'doc_5'}, {'id': 6, 'document': 'doc_6'}, {'id': 7, 'document': 'doc_7'}, {'id': 8, 'document': 'doc_8'}, {'id': 9, 'document': 'doc_9'}]\n"
     ]
    }
   ],
   "source": [
    "# define the current context\n",
    "ctx = os.getenv(\"DAO_CONTEXT\", \"local\")\n",
    "\n",
    "# get the correct factory\n",
    "factory_cls = factories[ctx]\n",
    "factory = factory_cls()\n",
    "\n",
    "sql_client = factory.create_sql_client()\n",
    "print(sql_client.query(\"SELECT * FROM mock\"))\n",
    "\n",
    "doc_client = factory.create_document_client()\n",
    "print(doc_client.query({\"id\": 1}))"
   ]
  },
  {
   "cell_type": "markdown",
   "metadata": {},
   "source": [
    "## Pros e cons"
   ]
  },
  {
   "cell_type": "markdown",
   "metadata": {},
   "source": [
    "__Pros__:\n",
    "\n",
    "- Tem as mesma vantagens do padrao _Factory Method_:\n",
    "    - abstrai o processo de criacao de objetos, simplificando a interface para o client\n",
    "    - insentiva o desenvolvedor a programar para uma interface e nao para um classe (promovendo _decoupling_)\n",
    "- Torna facil a criacao de novas familias de objetos\n",
    "- Garante que os objetos criados pela _factory_ funcionarao bem entre si\n",
    "    \n",
    "__Cons__:\n",
    "\n",
    "- A criacao de um novo metodo e custosa, pois todas as subclasses devem ser reescritas"
   ]
  },
  {
   "cell_type": "markdown",
   "metadata": {},
   "source": [
    "## Reflexao"
   ]
  },
  {
   "cell_type": "markdown",
   "metadata": {},
   "source": [
    "Dado que _Abstract Factories_ sao compostas por _Factory Methods_ e cada _Factory Method_ tem um unica assinatura, isso significa que podemos criar objetos de uma unica maneira? (e.g.: stdout logger vs file logger)"
   ]
  }
 ],
 "metadata": {
  "kernelspec": {
   "display_name": "design-patterns-py38",
   "language": "python",
   "name": "design-patterns-py38"
  },
  "language_info": {
   "codemirror_mode": {
    "name": "ipython",
    "version": 3
   },
   "file_extension": ".py",
   "mimetype": "text/x-python",
   "name": "python",
   "nbconvert_exporter": "python",
   "pygments_lexer": "ipython3",
   "version": "3.8.3"
  }
 },
 "nbformat": 4,
 "nbformat_minor": 4
}
