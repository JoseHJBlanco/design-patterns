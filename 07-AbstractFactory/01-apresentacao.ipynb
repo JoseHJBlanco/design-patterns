{
 "cells": [
  {
   "cell_type": "markdown",
   "metadata": {},
   "source": [
    "# Abstract Factory"
   ]
  },
  {
   "cell_type": "markdown",
   "metadata": {},
   "source": [
    "## O que é?"
   ]
  },
  {
   "cell_type": "markdown",
   "metadata": {},
   "source": [
    "Esse padrão prevê a criação de uma interface única para para elementos que fazem parte de um grupo ou que dependem uns nos outros."
   ]
  },
  {
   "cell_type": "markdown",
   "metadata": {},
   "source": [
    "## Por quê?"
   ]
  },
  {
   "cell_type": "markdown",
   "metadata": {},
   "source": [
    "Muitas vezes diferentes classes devem ser usadas em diferentes contextos ou em conjunto com diferentes objetos, ainda que elas desempenhem a mesma função. O padrão _abstract factory_ pertide classes específicas não sejam _hardcoded_, tornando o código mais flexível."
   ]
  },
  {
   "cell_type": "markdown",
   "metadata": {},
   "source": [
    "## Estrutura "
   ]
  },
  {
   "cell_type": "markdown",
   "metadata": {},
   "source": [
    "![estrutura](assets/estrutura.png)"
   ]
  },
  {
   "cell_type": "markdown",
   "metadata": {},
   "source": [
    "## Exemplo 1"
   ]
  },
  {
   "cell_type": "markdown",
   "metadata": {},
   "source": [
    "Uma companhia SaaS usa _machine learning_ para previnir fraude. Dois tipos de modelos são usados em produção, um simples model multiplicativo chamado _Logistic Regression_ e um modelo baseado em árvores de decisões chamado _Random Forest_. Cada modelo utiliza um método de optimização de parametros diferent, _Grid Search_ e _Random Search_ respectivamente.\n",
    "\n",
    "Vamos ver como isso functionaria na prática."
   ]
  },
  {
   "cell_type": "code",
   "execution_count": 6,
   "metadata": {},
   "outputs": [],
   "source": [
    "import abc\n",
    "import random\n",
    "\n",
    "class BaseModel(abc.ABC):\n",
    "    \"\"\"\n",
    "    Define the base interface for models\n",
    "    \"\"\"\n",
    "    \n",
    "    @abc.abstractmethod\n",
    "    def fit(self, X: \"List[List[float]]\", y: \"List[int]\"):\n",
    "        \"\"\"\n",
    "        Train the model\n",
    "        \"\"\"\n",
    "        pass\n",
    "    \n",
    "    def predict(self, X):\n",
    "        print(f\"{self.__class__.__name__} has predicted something...\")\n",
    "\n",
    "class LogisticRegression(BaseModel):\n",
    "    def __init__(self, l1_reg: float = 0, l2_reg: float = 1):\n",
    "        self._l1_reg = l1_reg\n",
    "        self._l2_reg = l2_reg\n",
    "        \n",
    "    def fit(self, X: \"List[List[float]]\", y: \"List[int]\"):\n",
    "        print(f\"Fitted using l1 of: {self._l1_reg} and l2 of {self._l2_reg}\")\n",
    "        \n",
    "class RandomForest(BaseModel):\n",
    "    def __init__(self, max_depth: int = 50, n_estimators: int = 20):\n",
    "        self._max_depth = max_depth\n",
    "        self._l2_reg = l2_reg\n",
    "        \n",
    "    def fit(self, X: \"List[List[float]]\", y: \"List[int]\"):\n",
    "        print(\n",
    "            f\"Fitted using max_depth of: {self._max_depth} and {self._n_estimators} estimators\"\n",
    "        )\n",
    "        \n",
    "class Tuners(abc.ABC):\n",
    "    \"\"\"\n",
    "    Defines the interface for hyper-parameter tuning classes.\n",
    "    \"\"\"\n",
    "    @abc.abstractmethod\n",
    "    def tune(self, params : dict) -> \"BaseModel\":\n",
    "        \"\"\"\n",
    "        Tune the parameters of a model.\n",
    "        \"\"\"\n",
    "        pass\n",
    "        \n",
    "class GridSearch:\n",
    "    def __init__(self, model : \"BaseModel\"):\n",
    "        self._model = model\n",
    "              \n",
    "    def tune(self, params : dict) -> \"BaseModel\":\n",
    "        print(\"grid searching...\")\n",
    "        best_params = {params: random.random() for param in params}\n",
    "        return model(**best_params)\n",
    "        \n",
    "class RandomSearch:\n",
    "    def __init__(self, model : \"BaseModel\"):\n",
    "        self._model = model\n",
    "\n",
    "    def tune(self, params : dict) -> \"BaseModel\":\n",
    "        print(\"randomly searching...\")\n",
    "        best_params = {params: random.randint() for param in params}\n",
    "        return model(**best_params)"
   ]
  },
  {
   "cell_type": "markdown",
   "metadata": {},
   "source": [
    "No dia a dia..."
   ]
  },
  {
   "cell_type": "code",
   "execution_count": 9,
   "metadata": {},
   "outputs": [],
   "source": [
    "X = [list(range(3)) for _ in range(10)]\n",
    "y = [random.randrange(0, 2) for _ in range(10)]"
   ]
  },
  {
   "cell_type": "code",
   "execution_count": 10,
   "metadata": {},
   "outputs": [
    {
     "data": {
      "text/plain": [
       "[[0, 1, 2],\n",
       " [0, 1, 2],\n",
       " [0, 1, 2],\n",
       " [0, 1, 2],\n",
       " [0, 1, 2],\n",
       " [0, 1, 2],\n",
       " [0, 1, 2],\n",
       " [0, 1, 2],\n",
       " [0, 1, 2],\n",
       " [0, 1, 2]]"
      ]
     },
     "execution_count": 10,
     "metadata": {},
     "output_type": "execute_result"
    }
   ],
   "source": [
    "X"
   ]
  },
  {
   "cell_type": "code",
   "execution_count": 11,
   "metadata": {},
   "outputs": [
    {
     "data": {
      "text/plain": [
       "[0, 1, 1, 1, 1, 0, 0, 1, 0, 0]"
      ]
     },
     "execution_count": 11,
     "metadata": {},
     "output_type": "execute_result"
    }
   ],
   "source": [
    "y"
   ]
  },
  {
   "cell_type": "code",
   "execution_count": null,
   "metadata": {},
   "outputs": [],
   "source": [
    "rf = RandomForest()\n",
    "\n",
    "tuned_rf"
   ]
  }
 ],
 "metadata": {
  "kernelspec": {
   "display_name": "Python 3.6.2 64-bit ('ravelin36': conda)",
   "language": "python",
   "name": "python36264bitravelin36condada913e7107384dcb83ceee8e6e324abe"
  },
  "language_info": {
   "codemirror_mode": {
    "name": "ipython",
    "version": 3
   },
   "file_extension": ".py",
   "mimetype": "text/x-python",
   "name": "python",
   "nbconvert_exporter": "python",
   "pygments_lexer": "ipython3",
   "version": "3.6.0"
  }
 },
 "nbformat": 4,
 "nbformat_minor": 2
}
