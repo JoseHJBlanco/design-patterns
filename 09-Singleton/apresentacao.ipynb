{
 "cells": [
  {
   "cell_type": "markdown",
   "metadata": {},
   "source": [
    "# Singleton"
   ]
  },
  {
   "cell_type": "markdown",
   "metadata": {},
   "source": [
    "## O que é?\n",
    "\n",
    "O singleton garante que uma classe tenha somente um objeto instaciado e fornece um ponto de acesso global a esse objeto"
   ]
  },
  {
   "cell_type": "markdown",
   "metadata": {},
   "source": [
    "## Por quê?\n",
    "\n",
    "As vezes é preciso ter somente uma, e somente uma, instancia de uma classe no programa, por exemplo:\n",
    "- Logger: ele pode ser acessado em diversas partes do programa, mas todos os logs devem ser enviados para a mesma instancia\n",
    "- Conexao com o banco de dados (pode ser uma ou um pool de conexoes): voce pode se comunicar com o banco de dados em diversas partes do programa, mas as conexoes usadas sao as mesmas (voce precisa abir e fechar as conexoes e isso eh feito pelo singleton)\n",
    "- File system: diversos programas rodam no mesmo computador, mas todos usam o mesmo file system (e o mundo explode se tiver mais de um) \n",
    "\n",
    "Em linhas gerais, sigleton eh uma opcao para quando voce tem essas tres caracteristicas:\n",
    "- Eh preciso controlar acesso simultaneo a um recurso compartilhado\n",
    "- O acesso sera requisitado por diversas partes do sistema/programa\n",
    "- Eh necessario somente um objeto\n"
   ]
  },
  {
   "attachments": {
    "Builder_UML_class_diagram.svg": {
     "image/svg+xml": [
      "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"
     ]
    }
   },
   "cell_type": "markdown",
   "metadata": {},
   "source": [
    "## Estrutura\n",
    "\n",
    "![struct](https://www.dofactory.com/images/diagrams/net/singleton.gif)"
   ]
  },
  {
   "cell_type": "markdown",
   "metadata": {},
   "source": [
    "## Exemplo 1\n",
    "\n",
    "Imaginemos uma classe cuja funcao seja controlar qual eh a atividade sendo realizada, assumindo que tudo sera executado em serie, soh conseguimos executar uma acao por vez e por isso soh precisamos de um controlador"
   ]
  },
  {
   "cell_type": "code",
   "execution_count": 7,
   "metadata": {
    "scrolled": true
   },
   "outputs": [
    {
     "output_type": "stream",
     "name": "stdout",
     "text": "<__main__.Controlador.__Controlador object at 0x10b0fe5f8>loading up\n<__main__.Controlador.__Controlador object at 0x10b0fe5f8>calculating\n<__main__.Controlador.__Controlador object at 0x10b0fe5f8>Closing\n"
    }
   ],
   "source": [
    "from typing import List\n",
    "\n",
    "\n",
    "class Controlador(object):\n",
    "    class __Controlador:\n",
    "        def __init__(self):\n",
    "            self.atividade = None\n",
    "        def __str__(self):\n",
    "            return self.__repr__() + self.atividade\n",
    "    instance = None\n",
    "    def __new__(cls): # __new__ always a classmethod\n",
    "        if not Controlador.instance:\n",
    "            Controlador.instance = Controlador.__Controlador()\n",
    "        return Controlador.instance\n",
    "    def __getattr__(self, name):\n",
    "        return getattr(self.instance, name)\n",
    "    def __setattr__(self, name):\n",
    "        return setattr(self.instance, name)\n",
    "\n",
    "x = Controlador()\n",
    "x.atividade = 'loading up'\n",
    "print(x)\n",
    "# para efeito de exemplo, estamos reiniciando o controlador para simular seu uso em outra parte do programa\n",
    "y = Controlador()\n",
    "y.atividade = 'calculating'\n",
    "print(y)\n",
    "\n",
    "z = Controlador()\n",
    "z.atividade = 'Closing'\n",
    "print(z)\n",
    "        "
   ]
  },
  {
   "cell_type": "markdown",
   "metadata": {},
   "source": [
    "Como podem ver, apesar de \"criarmos\" uma nova insrancia do controlador e da \"atividade\" mudar, em todo momento estamos lidando com a mesma instancia do controlador (como podemos ver pelo endereco da memoria)\n",
    "\n",
    "Isso acontece pois o padrao singleton conta com um contructor privado para a classe, esse constructor somente eh chamado internamente se a classe nao possui nenhuma instancia do singleton, caso essa instancia ja exista ela eh retornada "
   ]
  },
  {
   "cell_type": "code",
   "execution_count": 31,
   "metadata": {
    "scrolled": true
   },
   "outputs": [
    {
     "name": "stdout",
     "output_type": "stream",
     "text": [
      "Paulo Cintura\n",
      "\n",
      "Day 1: \n",
      "Objective: Abs\n",
      "Exercises: \n",
      "\tSit-up (x15)\n",
      "\tLeg raise (x15)\n",
      "\tAbdominal crunch (x20)\n",
      "\n",
      "Day 2: \n",
      "Objective: Chest\n",
      "Exercises: \n",
      "\tPush-up (x20)\n",
      "\tPull-up (x20)\n"
     ]
    }
   ],
   "source": [
    "from typing import List\n",
    "\n",
    "\n",
    "class Exercise: \n",
    "    \n",
    "    def __init__(self, name: str, reps: int):\n",
    "        self.name = name\n",
    "        self.reps = reps\n",
    "        \n",
    "    def __str__(self):\n",
    "        return f\"{self.name} (x{self.reps})\"\n",
    "\n",
    "        \n",
    "class Day:\n",
    "    \n",
    "    def __init__(self, objective: str, exercises: List[Exercise]=[]):\n",
    "        self.objective = objective\n",
    "        self.exercises = exercises[::]\n",
    "        \n",
    "    def add_exercise(self, exercise: Exercise):\n",
    "        self.exercises.append(exercise)\n",
    "    \n",
    "    def __str__(self):\n",
    "        exercise_str = '\\n\\t'.join(map(str, self.exercises))\n",
    "        return f\"Objective: {self.objective}\\nExercises: \\n\\t{exercise_str}\"\n",
    "\n",
    "    \n",
    "class ExercisePlan:\n",
    "    \n",
    "    def __init__(self, student: str, days: List[Day]=[]):\n",
    "        self.days = days[::]\n",
    "        self.student = student\n",
    "        \n",
    "    def add_day(self, day: Day):\n",
    "        self.days.append(day)\n",
    "    \n",
    "    def __str__(self):\n",
    "        return self.student + '\\n\\n' + '\\n\\n'.join(f\"Day {i}: \\n{str(day)}\" for i, day in enumerate(self.days, 1))\n",
    "\n",
    "\n",
    "### Aqui comeca a implementacao do Builder\n",
    "    \n",
    "    \n",
    "class ExercisePlanBuilder:\n",
    "    \n",
    "    def __init__(self, student: str):\n",
    "        self.exercise_plan = ExercisePlan(student)\n",
    "        \n",
    "    def add_day(self, objective: str) -> 'ExercisePlanBuilder':\n",
    "        self.exercise_plan.add_day(Day(objective))\n",
    "        return self\n",
    "\n",
    "    def add_exercise(self, name: str, reps: int) -> 'ExercisePlanBuilder':\n",
    "        self.current_day().add_exercise(Exercise(name, reps))\n",
    "        return self\n",
    "        \n",
    "    def current_day(self) -> Day:\n",
    "        return self.exercise_plan.days[-1]\n",
    "    \n",
    "    def build(self) -> ExercisePlan:\n",
    "        return self.exercise_plan\n",
    "        \n",
    "\n",
    "builder = ExercisePlanBuilder('Paulo Cintura')\n",
    "\n",
    "plan = (builder.add_day('Abs')\n",
    "           .add_exercise('Sit-up', 15)\n",
    "           .add_exercise('Leg raise', 15)\n",
    "           .add_exercise('Abdominal crunch', 20)\n",
    "       .add_day('Chest')\n",
    "           .add_exercise('Push-up', 20)\n",
    "           .add_exercise('Pull-up', 20)\n",
    "        .build()\n",
    "       )\n",
    "\n",
    "print(plan)"
   ]
  },
  {
   "cell_type": "markdown",
   "metadata": {},
   "source": [
    "Nesta implementacao, o Builder é uma classe concreta. Uma boa recomendacao, porém, é criar um Builder abstrato para que o processo de construcao de objetos possa ser reaproveitado em diferentes classes. Suponhamos que nossa academia queira oferecer servicos de nutricionista além de planos de exercício. Com a classe abstrata `PlanBuilder`, podemos permitir essas duas funcionalidades de maneira bastante flexível."
   ]
  },
  {
   "cell_type": "code",
   "execution_count": 32,
   "metadata": {
    "scrolled": true
   },
   "outputs": [
    {
     "name": "stdout",
     "output_type": "stream",
     "text": [
      "Paulo Cintura\n",
      "\n",
      "Day 1: \n",
      "Objective: Abs\n",
      "Exercises: \n",
      "\tSit-up (x15)\n",
      "\tLeg raise (x15)\n",
      "\tAbdominal crunch (x20)\n",
      "\n",
      "Day 2: \n",
      "Objective: Chest\n",
      "Exercises: \n",
      "\tPush-up (x20)\n",
      "\tPull-up (x20)\n"
     ]
    }
   ],
   "source": [
    "from typing import List\n",
    "import abc\n",
    "\n",
    "\n",
    "class Exercise: \n",
    "    \n",
    "    def __init__(self, name: str, reps: int):\n",
    "        self.name = name\n",
    "        self.reps = reps\n",
    "        \n",
    "    def __str__(self):\n",
    "        return f\"{self.name} (x{self.reps})\"\n",
    "\n",
    "    \n",
    "class Meal: \n",
    "    \n",
    "    def __init__(self, dish: str, quantity_in_grams: int):\n",
    "        self.dish = dish\n",
    "        self.quantity_in_grams = quantity_in_grams\n",
    "        \n",
    "    def __str__(self):\n",
    "        return f\"{self.dish} ({self.quantity_in_grams}g)\"\n",
    "    \n",
    "    \n",
    "class Day:\n",
    "    \n",
    "    def __init__(self, objective: str, exercises: List[Exercise]=[], meals: List[Meal]=[]):\n",
    "        self.objective = objective\n",
    "        self.exercises = exercises[::]\n",
    "        self.meals = meals[::]\n",
    "        \n",
    "    def add_exercise(self, exercise: Exercise):\n",
    "        self.exercises.append(exercise)\n",
    "        \n",
    "    def add_meal(self, meal: Meal):\n",
    "        self.meals.append(meal)\n",
    "    \n",
    "    def __str__(self):\n",
    "        exercise_str = (len(self.exercises) > 0)* '\\nExercises: \\n\\t' + '\\n\\t'.join(map(str, self.exercises))\n",
    "        meal_str = (len(self.meals) > 0)* '\\nMeals: \\n\\t' + '\\n\\t'.join(map(str, self.meals))\n",
    "        return f\"Objective: {self.objective}{exercise_str}{meal_str}\"\n",
    "\n",
    "    \n",
    "class Plan:\n",
    "    \n",
    "    def __init__(self, student: str, days: List[Day]=[]):\n",
    "        self.days = days[::]\n",
    "        self.student = student\n",
    "        \n",
    "    def add_day(self, day: Day):\n",
    "        self.days.append(day)\n",
    "    \n",
    "    def __str__(self):\n",
    "        return self.student + '\\n\\n' + '\\n\\n'.join(f\"Day {i}: \\n{str(day)}\" for i, day in enumerate(self.days, 1))\n",
    "\n",
    "\n",
    "\n",
    "    \n",
    "# Builder abstrato\n",
    "\n",
    "class PlanBuilder(abc.ABC):\n",
    "    \n",
    "    def add_day(self, objective: str) -> 'PlanBuilder':\n",
    "        self.plan.add_day(Day(objective))\n",
    "        return self\n",
    "\n",
    "    def add_exercise(self, name: str, reps: int) -> 'PlanBuilder': \n",
    "        return self\n",
    "    \n",
    "    def add_meal(self, dish: str, quantity_in_grams: int) -> 'PlanBuilder': \n",
    "        return self\n",
    "    \n",
    "    @abc.abstractmethod\n",
    "    def build(self) -> Plan:\n",
    "        pass\n",
    "\n",
    "# Builder de exercícios (sem mudancas)\n",
    "\n",
    "class ExercisePlanBuilder(PlanBuilder):\n",
    "\n",
    "    def __init__(self, student: str):\n",
    "        self.plan = Plan(student)\n",
    "        \n",
    "    def add_exercise(self, name: str, reps: int) -> 'PlanBuilder':\n",
    "        self.current_day().add_exercise(Exercise(name, reps))\n",
    "        return self\n",
    "        \n",
    "    def current_day(self) -> Day:\n",
    "        return self.plan.days[-1]\n",
    "    \n",
    "    def build(self) -> Plan:\n",
    "        return self.plan\n",
    "        \n",
    "\n",
    "exercise_plan_builder = ExercisePlanBuilder('Paulo Cintura')\n",
    "\n",
    "exercise_plan = (exercise_plan_builder.add_day('Abs')\n",
    "           .add_exercise('Sit-up', 15)\n",
    "           .add_exercise('Leg raise', 15)\n",
    "           .add_exercise('Abdominal crunch', 20)\n",
    "       .add_day('Chest')\n",
    "           .add_exercise('Push-up', 20)\n",
    "           .add_exercise('Pull-up', 20)\n",
    "        .build()\n",
    "       )\n",
    "\n",
    "print(exercise_plan)"
   ]
  },
  {
   "cell_type": "markdown",
   "metadata": {},
   "source": [
    "Nosso `ExercisePlanBuilder` continua igual, mas podemos usar a flexibilidade do `PlanBuilder` para oferecer planos de alimentacao..."
   ]
  },
  {
   "cell_type": "code",
   "execution_count": 33,
   "metadata": {
    "scrolled": true
   },
   "outputs": [
    {
     "name": "stdout",
     "output_type": "stream",
     "text": [
      "Homer\n",
      "\n",
      "Day 1: \n",
      "Objective: Abs\n",
      "Meals: \n",
      "\tDonuts (500g)\n",
      "\tBeer (1000g)\n",
      "\n",
      "Day 2: \n",
      "Objective: Abs\n",
      "Meals: \n",
      "\tBurger (600g)\n",
      "\tMilkshake (500g)\n"
     ]
    }
   ],
   "source": [
    "class MealPlanBuilder(PlanBuilder):\n",
    "    \n",
    "    def __init__(self, student: str):\n",
    "        self.plan = Plan(student)\n",
    "    \n",
    "    def add_meal(self, dish: str, quantity_in_grams: int) -> 'PlanBuilder':\n",
    "        self.current_day().add_meal(Meal(dish, quantity_in_grams))\n",
    "        return self\n",
    "        \n",
    "    def current_day(self) -> Day:\n",
    "        return self.plan.days[-1]\n",
    "    \n",
    "    def build(self) -> Plan:\n",
    "        return self.plan\n",
    "        \n",
    "\n",
    "meal_plan_builder = MealPlanBuilder('Homer')\n",
    "\n",
    "meal_plan = (meal_plan_builder.add_day('Abs')\n",
    "           .add_meal('Donuts', 500)\n",
    "           .add_meal('Beer', 1000)\n",
    "       .add_day('Abs')\n",
    "           .add_meal('Burger', 600)\n",
    "           .add_meal('Milkshake', 500)\n",
    "        .build()\n",
    "       )\n",
    "\n",
    "print(meal_plan)"
   ]
  },
  {
   "cell_type": "markdown",
   "metadata": {},
   "source": [
    "E também planos combinados de alimentacao + exercício:"
   ]
  },
  {
   "cell_type": "code",
   "execution_count": 28,
   "metadata": {},
   "outputs": [
    {
     "name": "stdout",
     "output_type": "stream",
     "text": [
      "Gracyanne\n",
      "\n",
      "Day 1: \n",
      "Objective: Legs\n",
      "Exercises: \n",
      "\tLeg press (x200)\n",
      "Meals: \n",
      "\tSweet potato (1000g)\n",
      "\n",
      "Day 2: \n",
      "Objective: Butt\n",
      "Exercises: \n",
      "\tBulgarian squats (x200)\n",
      "Meals: \n",
      "\tChicken breast (1000g)\n"
     ]
    }
   ],
   "source": [
    "class BodyBuildingPlanBuilder(PlanBuilder):\n",
    "    \n",
    "    def __init__(self, student: str):\n",
    "        self.plan = Plan(student)\n",
    "    \n",
    "    def add_meal(self, dish: str, quantity_in_grams: int) -> 'PlanBuilder':\n",
    "        self.current_day().add_meal(Meal(dish, quantity_in_grams))\n",
    "        return self\n",
    "    \n",
    "    def add_exercise(self, name: str, reps: int) -> 'PlanBuilder':\n",
    "        self.current_day().add_exercise(Exercise(name, reps))\n",
    "        return self\n",
    "        \n",
    "    def current_day(self) -> Day:\n",
    "        return self.plan.days[-1]\n",
    "    \n",
    "    def build(self) -> Plan:\n",
    "        return self.plan\n",
    "        \n",
    "\n",
    "body_building_plan_builder = BodyBuildingPlanBuilder('Gracyanne')\n",
    "\n",
    "body_building_plan = (body_building_plan_builder.add_day('Legs')\n",
    "           .add_meal('Sweet potato', 1000)\n",
    "           .add_exercise('Leg press', 200)\n",
    "       .add_day('Butt')\n",
    "           .add_meal('Chicken breast', 1000)\n",
    "           .add_exercise('Bulgarian squats', 200)\n",
    "        .build()\n",
    "       )\n",
    "\n",
    "print(body_building_plan)"
   ]
  },
  {
   "cell_type": "markdown",
   "metadata": {},
   "source": [
    "## Exemplo 2: Builder com Composite\n",
    "\n",
    "Para nosso segundo exemplo, retomaremos a classe `Cluster` originalmente usada para demonstrar o padrao Composite."
   ]
  },
  {
   "cell_type": "code",
   "execution_count": 1,
   "metadata": {},
   "outputs": [],
   "source": [
    "import abc\n",
    "from itertools import cycle\n",
    "from string import ascii_lowercase\n",
    "from collections import Counter\n",
    "\n",
    "\n",
    "class Server(abc.ABC):\n",
    "    \"\"\"\n",
    "    Application the counts the number of letter in a piece of text.\n",
    "    \"\"\"\n",
    "    \n",
    "    valid_chars = set(ascii_lowercase)\n",
    "    \n",
    "    def __repr__(self):\n",
    "        return self.id_\n",
    "    \n",
    "    def __hash__(self):\n",
    "        return hash(self.id_)\n",
    "    \n",
    "    @property\n",
    "    def cpu(self) -> int:\n",
    "        \"\"\"\n",
    "        Number of CPUs.\n",
    "        \"\"\"\n",
    "        return self._cpu\n",
    "    \n",
    "    @property\n",
    "    def mem(self) -> int:\n",
    "        \"\"\"\n",
    "        Total memory.\n",
    "        \"\"\"\n",
    "        return self._mem\n",
    "    \n",
    "    @property\n",
    "    def id_(self) -> str:\n",
    "        \"\"\"\n",
    "        Server id.\n",
    "        \"\"\"\n",
    "        return self._id\n",
    "    \n",
    "    def display_svr_info(self):\n",
    "        print(f\"ID: {self.id_}, MEM: {self.mem}, CPU: {self.cpu}\")\n",
    "    \n",
    "    def serve(self, req: dict) -> dict:\n",
    "        \"\"\"\n",
    "        Count the number of latter in req.\n",
    "        \"\"\"\n",
    "        text = req[\"text\"].lower()\n",
    "        text = [char for char in text if char in self.valid_chars]\n",
    "        ctr = Counter(text)\n",
    "        print(self.id_, ctr)\n",
    "        return ctr\n",
    "    \n",
    "class Worker(Server):\n",
    "    \"\"\"\n",
    "    A single working node.\n",
    "    \"\"\"\n",
    "    def __init__(self, id_: str, mem: int, cpu: int):\n",
    "        self._mem = mem\n",
    "        self._cpu = cpu\n",
    "        self._id = id_\n",
    "        \n",
    "class Cluster(Server):\n",
    "    \"\"\"\n",
    "    A cluster of nodes or clusters.\n",
    "    \"\"\"\n",
    "    def __init__(self, id_: str, *servers: 'Server'):\n",
    "        self._id = id_\n",
    "        self._servers = set(servers)\n",
    "        self._splitter = None\n",
    "        \n",
    "    @property\n",
    "    def cpu(self) -> int:\n",
    "        return sum(svr.cpu for svr in self._servers)\n",
    "    \n",
    "    @property\n",
    "    def mem(self) -> int:\n",
    "        return sum(svr.mem for svr in self._servers)\n",
    "    \n",
    "    def _create_splitter(self):\n",
    "        \"\"\"\n",
    "        Creates an object that cycles the servers.\n",
    "        \"\"\"\n",
    "        def iterator():\n",
    "            for worker in cycle(self._servers):\n",
    "                req = yield\n",
    "                worker.serve(req)\n",
    "        splitter = iterator()\n",
    "        splitter.send(None)\n",
    "        return splitter\n",
    "    \n",
    "    def serve(self, req: dict) -> dict:\n",
    "        if not self._splitter:\n",
    "            self._splitter = self._create_splitter()\n",
    "            \n",
    "        self._splitter.send(req)\n",
    "        \n",
    "    def add(self, *servers: 'Server'):\n",
    "        self._servers |= set(servers)\n",
    "        self._splitter = None\n",
    "        \n",
    "    def remove(self, *servers: 'Server'):\n",
    "        self._servers -= set(servers)\n",
    "        self._splitter = None"
   ]
  },
  {
   "cell_type": "markdown",
   "metadata": {},
   "source": [
    "No exemplo original, o processo para a criacao de um cluster de oito workers era este: "
   ]
  },
  {
   "cell_type": "code",
   "execution_count": 5,
   "metadata": {},
   "outputs": [
    {
     "name": "stdout",
     "output_type": "stream",
     "text": [
      "ID: cluster, MEM: 56, CPU: 28\n"
     ]
    }
   ],
   "source": [
    "workers = [Worker(f\"worker{i}\", i*2, i)for i in range(8)]\n",
    "\n",
    "cluster = Cluster(\"cluster\")\n",
    "cluster.add(*workers)\n",
    "cluster.display_svr_info()\n"
   ]
  },
  {
   "cell_type": "markdown",
   "metadata": {},
   "source": [
    "Com o Builder, o processo de criacao ficaria assim: "
   ]
  },
  {
   "cell_type": "code",
   "execution_count": 7,
   "metadata": {},
   "outputs": [
    {
     "name": "stdout",
     "output_type": "stream",
     "text": [
      "ID: cluster, MEM: 56, CPU: 28\n"
     ]
    }
   ],
   "source": [
    "class Builder(abc.ABC):\n",
    "    \n",
    "    def __init__(self, name: str):\n",
    "        self.cluster = Cluster(name)\n",
    "    \n",
    "    def add_worker(self, _id: str, mem: int, cpu: int ) -> 'Builder':\n",
    "        return self\n",
    "    \n",
    "    @abc.abstractmethod\n",
    "    def build(self) -> Cluster:\n",
    "        pass\n",
    "\n",
    "class ClusterBuilder(Builder):\n",
    "    \n",
    "    def add_worker(self, _id: str, mem: int, cpu: int) -> Builder:\n",
    "        self.cluster.add(Worker(_id, mem, cpu))\n",
    "        return self\n",
    "    \n",
    "    def build(self) -> Cluster:\n",
    "        return self.cluster\n",
    "    \n",
    "\n",
    "cb = ClusterBuilder('cluster')\n",
    "for i in range(8):\n",
    "    cb.add_worker(f\"worker{i}\", i*2, i)\n",
    "cluster = cb.build()\n",
    "\n",
    "cluster.display_svr_info()"
   ]
  },
  {
   "cell_type": "markdown",
   "metadata": {},
   "source": [
    "Com a mudanca, o cluster só é exposto ao cliente quando já contém todos os servidores e o processo de criacao está completo."
   ]
  },
  {
   "cell_type": "markdown",
   "metadata": {},
   "source": [
    "## Prós e contras:\n",
    "\n",
    "### Pros\n",
    "- Permite maior robustez na criacao de objetos complexos\n",
    "- Cria uma separacao clara entre a construcao do objeto e o objeto em si\n",
    "- Evita construtores ou factory methods com muitos parâmetros\n",
    "\n",
    "### Cons\n",
    "- Aumenta a complexidade do sistema como um todo\n",
    "- Duplicacao de código (propriedades, getters, etc) entre Builder e Product\n",
    "- Exige que o cliente conheca a implementacao do objeto"
   ]
  },
  {
   "cell_type": "markdown",
   "metadata": {},
   "source": [
    "## Discussao:\n",
    "\n",
    "Like the Abstract Factory pattern, the Builder pattern requires that you define an interface, which will be used by clients to create complex objects in pieces. In the MazeBuilder example, there are BuildMaze(), BuildRoom() and BuildDoor() methods, along with a GetMaze() method. How does the Builder pattern allow one to add new methods to the Builder's interface, without having to change each and every sub-class of the Builder?"
   ]
  }
 ],
 "metadata": {
  "kernelspec": {
   "display_name": "Python 3.7.3 64-bit",
   "language": "python",
   "name": "python37364bit82abf2e71c384b959a56691b60e27db6"
  },
  "language_info": {
   "codemirror_mode": {
    "name": "ipython",
    "version": 3
   },
   "file_extension": ".py",
   "mimetype": "text/x-python",
   "name": "python",
   "nbconvert_exporter": "python",
   "pygments_lexer": "ipython3",
   "version": "3.7.3-final"
  }
 },
 "nbformat": 4,
 "nbformat_minor": 2
}